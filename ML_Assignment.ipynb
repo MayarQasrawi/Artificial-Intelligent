{
  "nbformat": 4,
  "nbformat_minor": 0,
  "metadata": {
    "colab": {
      "provenance": [],
      "gpuType": "T4",
      "mount_file_id": "1jkNOoxdPuvWRZqRtpVhDMGgzKgVuP2AR",
      "authorship_tag": "ABX9TyMTF74rUbKvoJStWcKRigYn",
      "include_colab_link": true
    },
    "kernelspec": {
      "name": "python3",
      "display_name": "Python 3"
    },
    "language_info": {
      "name": "python"
    },
    "accelerator": "GPU",
    "widgets": {
      "application/vnd.jupyter.widget-state+json": {
        "233630a7862741d8a68a87010a0c09d4": {
          "model_module": "@jupyter-widgets/controls",
          "model_name": "HBoxModel",
          "model_module_version": "1.5.0",
          "state": {
            "_dom_classes": [],
            "_model_module": "@jupyter-widgets/controls",
            "_model_module_version": "1.5.0",
            "_model_name": "HBoxModel",
            "_view_count": null,
            "_view_module": "@jupyter-widgets/controls",
            "_view_module_version": "1.5.0",
            "_view_name": "HBoxView",
            "box_style": "",
            "children": [
              "IPY_MODEL_226932d194ab4beba965a10f1833ea4e",
              "IPY_MODEL_3f59b229bbb447d0830e0079e428b9d8",
              "IPY_MODEL_7548435d795e495089ffacebc55685ed"
            ],
            "layout": "IPY_MODEL_024e39c07a674b9ab0538b712bd3f8ea"
          }
        },
        "226932d194ab4beba965a10f1833ea4e": {
          "model_module": "@jupyter-widgets/controls",
          "model_name": "HTMLModel",
          "model_module_version": "1.5.0",
          "state": {
            "_dom_classes": [],
            "_model_module": "@jupyter-widgets/controls",
            "_model_module_version": "1.5.0",
            "_model_name": "HTMLModel",
            "_view_count": null,
            "_view_module": "@jupyter-widgets/controls",
            "_view_module_version": "1.5.0",
            "_view_name": "HTMLView",
            "description": "",
            "description_tooltip": null,
            "layout": "IPY_MODEL_6fb4990c6f944b608c297ee685475bdf",
            "placeholder": "​",
            "style": "IPY_MODEL_075d7e01649d442d9b8c89476e2183c2",
            "value": "Processing: 100%"
          }
        },
        "3f59b229bbb447d0830e0079e428b9d8": {
          "model_module": "@jupyter-widgets/controls",
          "model_name": "FloatProgressModel",
          "model_module_version": "1.5.0",
          "state": {
            "_dom_classes": [],
            "_model_module": "@jupyter-widgets/controls",
            "_model_module_version": "1.5.0",
            "_model_name": "FloatProgressModel",
            "_view_count": null,
            "_view_module": "@jupyter-widgets/controls",
            "_view_module_version": "1.5.0",
            "_view_name": "ProgressView",
            "bar_style": "",
            "description": "",
            "description_tooltip": null,
            "layout": "IPY_MODEL_2f6e6b779cdc4841a4764484f8248031",
            "max": 81,
            "min": 0,
            "orientation": "horizontal",
            "style": "IPY_MODEL_2c76c41e07fe4ddc8d8800a7e7b0d601",
            "value": 81
          }
        },
        "7548435d795e495089ffacebc55685ed": {
          "model_module": "@jupyter-widgets/controls",
          "model_name": "HTMLModel",
          "model_module_version": "1.5.0",
          "state": {
            "_dom_classes": [],
            "_model_module": "@jupyter-widgets/controls",
            "_model_module_version": "1.5.0",
            "_model_name": "HTMLModel",
            "_view_count": null,
            "_view_module": "@jupyter-widgets/controls",
            "_view_module_version": "1.5.0",
            "_view_name": "HTMLView",
            "description": "",
            "description_tooltip": null,
            "layout": "IPY_MODEL_79fc54dc8f4945d38446ef9db08da7d7",
            "placeholder": "​",
            "style": "IPY_MODEL_83cfd4d41f1e471bbe330168af85786f",
            "value": " 81/81 [00:50&lt;00:00,  3.64it/s]"
          }
        },
        "024e39c07a674b9ab0538b712bd3f8ea": {
          "model_module": "@jupyter-widgets/base",
          "model_name": "LayoutModel",
          "model_module_version": "1.2.0",
          "state": {
            "_model_module": "@jupyter-widgets/base",
            "_model_module_version": "1.2.0",
            "_model_name": "LayoutModel",
            "_view_count": null,
            "_view_module": "@jupyter-widgets/base",
            "_view_module_version": "1.2.0",
            "_view_name": "LayoutView",
            "align_content": null,
            "align_items": null,
            "align_self": null,
            "border": null,
            "bottom": null,
            "display": null,
            "flex": null,
            "flex_flow": null,
            "grid_area": null,
            "grid_auto_columns": null,
            "grid_auto_flow": null,
            "grid_auto_rows": null,
            "grid_column": null,
            "grid_gap": null,
            "grid_row": null,
            "grid_template_areas": null,
            "grid_template_columns": null,
            "grid_template_rows": null,
            "height": null,
            "justify_content": null,
            "justify_items": null,
            "left": null,
            "margin": null,
            "max_height": null,
            "max_width": null,
            "min_height": null,
            "min_width": null,
            "object_fit": null,
            "object_position": null,
            "order": null,
            "overflow": null,
            "overflow_x": null,
            "overflow_y": null,
            "padding": null,
            "right": null,
            "top": null,
            "visibility": "hidden",
            "width": null
          }
        },
        "6fb4990c6f944b608c297ee685475bdf": {
          "model_module": "@jupyter-widgets/base",
          "model_name": "LayoutModel",
          "model_module_version": "1.2.0",
          "state": {
            "_model_module": "@jupyter-widgets/base",
            "_model_module_version": "1.2.0",
            "_model_name": "LayoutModel",
            "_view_count": null,
            "_view_module": "@jupyter-widgets/base",
            "_view_module_version": "1.2.0",
            "_view_name": "LayoutView",
            "align_content": null,
            "align_items": null,
            "align_self": null,
            "border": null,
            "bottom": null,
            "display": null,
            "flex": null,
            "flex_flow": null,
            "grid_area": null,
            "grid_auto_columns": null,
            "grid_auto_flow": null,
            "grid_auto_rows": null,
            "grid_column": null,
            "grid_gap": null,
            "grid_row": null,
            "grid_template_areas": null,
            "grid_template_columns": null,
            "grid_template_rows": null,
            "height": null,
            "justify_content": null,
            "justify_items": null,
            "left": null,
            "margin": null,
            "max_height": null,
            "max_width": null,
            "min_height": null,
            "min_width": null,
            "object_fit": null,
            "object_position": null,
            "order": null,
            "overflow": null,
            "overflow_x": null,
            "overflow_y": null,
            "padding": null,
            "right": null,
            "top": null,
            "visibility": null,
            "width": null
          }
        },
        "075d7e01649d442d9b8c89476e2183c2": {
          "model_module": "@jupyter-widgets/controls",
          "model_name": "DescriptionStyleModel",
          "model_module_version": "1.5.0",
          "state": {
            "_model_module": "@jupyter-widgets/controls",
            "_model_module_version": "1.5.0",
            "_model_name": "DescriptionStyleModel",
            "_view_count": null,
            "_view_module": "@jupyter-widgets/base",
            "_view_module_version": "1.2.0",
            "_view_name": "StyleView",
            "description_width": ""
          }
        },
        "2f6e6b779cdc4841a4764484f8248031": {
          "model_module": "@jupyter-widgets/base",
          "model_name": "LayoutModel",
          "model_module_version": "1.2.0",
          "state": {
            "_model_module": "@jupyter-widgets/base",
            "_model_module_version": "1.2.0",
            "_model_name": "LayoutModel",
            "_view_count": null,
            "_view_module": "@jupyter-widgets/base",
            "_view_module_version": "1.2.0",
            "_view_name": "LayoutView",
            "align_content": null,
            "align_items": null,
            "align_self": null,
            "border": null,
            "bottom": null,
            "display": null,
            "flex": null,
            "flex_flow": null,
            "grid_area": null,
            "grid_auto_columns": null,
            "grid_auto_flow": null,
            "grid_auto_rows": null,
            "grid_column": null,
            "grid_gap": null,
            "grid_row": null,
            "grid_template_areas": null,
            "grid_template_columns": null,
            "grid_template_rows": null,
            "height": null,
            "justify_content": null,
            "justify_items": null,
            "left": null,
            "margin": null,
            "max_height": null,
            "max_width": null,
            "min_height": null,
            "min_width": null,
            "object_fit": null,
            "object_position": null,
            "order": null,
            "overflow": null,
            "overflow_x": null,
            "overflow_y": null,
            "padding": null,
            "right": null,
            "top": null,
            "visibility": null,
            "width": null
          }
        },
        "2c76c41e07fe4ddc8d8800a7e7b0d601": {
          "model_module": "@jupyter-widgets/controls",
          "model_name": "ProgressStyleModel",
          "model_module_version": "1.5.0",
          "state": {
            "_model_module": "@jupyter-widgets/controls",
            "_model_module_version": "1.5.0",
            "_model_name": "ProgressStyleModel",
            "_view_count": null,
            "_view_module": "@jupyter-widgets/base",
            "_view_module_version": "1.2.0",
            "_view_name": "StyleView",
            "bar_color": null,
            "description_width": ""
          }
        },
        "79fc54dc8f4945d38446ef9db08da7d7": {
          "model_module": "@jupyter-widgets/base",
          "model_name": "LayoutModel",
          "model_module_version": "1.2.0",
          "state": {
            "_model_module": "@jupyter-widgets/base",
            "_model_module_version": "1.2.0",
            "_model_name": "LayoutModel",
            "_view_count": null,
            "_view_module": "@jupyter-widgets/base",
            "_view_module_version": "1.2.0",
            "_view_name": "LayoutView",
            "align_content": null,
            "align_items": null,
            "align_self": null,
            "border": null,
            "bottom": null,
            "display": null,
            "flex": null,
            "flex_flow": null,
            "grid_area": null,
            "grid_auto_columns": null,
            "grid_auto_flow": null,
            "grid_auto_rows": null,
            "grid_column": null,
            "grid_gap": null,
            "grid_row": null,
            "grid_template_areas": null,
            "grid_template_columns": null,
            "grid_template_rows": null,
            "height": null,
            "justify_content": null,
            "justify_items": null,
            "left": null,
            "margin": null,
            "max_height": null,
            "max_width": null,
            "min_height": null,
            "min_width": null,
            "object_fit": null,
            "object_position": null,
            "order": null,
            "overflow": null,
            "overflow_x": null,
            "overflow_y": null,
            "padding": null,
            "right": null,
            "top": null,
            "visibility": null,
            "width": null
          }
        },
        "83cfd4d41f1e471bbe330168af85786f": {
          "model_module": "@jupyter-widgets/controls",
          "model_name": "DescriptionStyleModel",
          "model_module_version": "1.5.0",
          "state": {
            "_model_module": "@jupyter-widgets/controls",
            "_model_module_version": "1.5.0",
            "_model_name": "DescriptionStyleModel",
            "_view_count": null,
            "_view_module": "@jupyter-widgets/base",
            "_view_module_version": "1.2.0",
            "_view_name": "StyleView",
            "description_width": ""
          }
        },
        "13094375c4bb4a5bb5892fee74a1ef1c": {
          "model_module": "@jupyter-widgets/base",
          "model_name": "LayoutModel",
          "model_module_version": "1.2.0",
          "state": {
            "_model_module": "@jupyter-widgets/base",
            "_model_module_version": "1.2.0",
            "_model_name": "LayoutModel",
            "_view_count": null,
            "_view_module": "@jupyter-widgets/base",
            "_view_module_version": "1.2.0",
            "_view_name": "LayoutView",
            "align_content": null,
            "align_items": null,
            "align_self": null,
            "border": null,
            "bottom": null,
            "display": null,
            "flex": null,
            "flex_flow": null,
            "grid_area": null,
            "grid_auto_columns": null,
            "grid_auto_flow": null,
            "grid_auto_rows": null,
            "grid_column": null,
            "grid_gap": null,
            "grid_row": null,
            "grid_template_areas": null,
            "grid_template_columns": null,
            "grid_template_rows": null,
            "height": null,
            "justify_content": null,
            "justify_items": null,
            "left": null,
            "margin": null,
            "max_height": null,
            "max_width": null,
            "min_height": null,
            "min_width": null,
            "object_fit": null,
            "object_position": null,
            "order": null,
            "overflow": null,
            "overflow_x": null,
            "overflow_y": null,
            "padding": null,
            "right": null,
            "top": null,
            "visibility": null,
            "width": null
          }
        },
        "d3874e1e97884a26888f7e116acc4c09": {
          "model_module": "@jupyter-widgets/controls",
          "model_name": "ProgressStyleModel",
          "model_module_version": "1.5.0",
          "state": {
            "_model_module": "@jupyter-widgets/controls",
            "_model_module_version": "1.5.0",
            "_model_name": "ProgressStyleModel",
            "_view_count": null,
            "_view_module": "@jupyter-widgets/base",
            "_view_module_version": "1.2.0",
            "_view_name": "StyleView",
            "bar_color": null,
            "description_width": ""
          }
        },
        "dc8491ebbd6f42bb8dc545fa38c79af1": {
          "model_module": "@jupyter-widgets/base",
          "model_name": "LayoutModel",
          "model_module_version": "1.2.0",
          "state": {
            "_model_module": "@jupyter-widgets/base",
            "_model_module_version": "1.2.0",
            "_model_name": "LayoutModel",
            "_view_count": null,
            "_view_module": "@jupyter-widgets/base",
            "_view_module_version": "1.2.0",
            "_view_name": "LayoutView",
            "align_content": null,
            "align_items": null,
            "align_self": null,
            "border": null,
            "bottom": null,
            "display": null,
            "flex": null,
            "flex_flow": null,
            "grid_area": null,
            "grid_auto_columns": null,
            "grid_auto_flow": null,
            "grid_auto_rows": null,
            "grid_column": null,
            "grid_gap": null,
            "grid_row": null,
            "grid_template_areas": null,
            "grid_template_columns": null,
            "grid_template_rows": null,
            "height": null,
            "justify_content": null,
            "justify_items": null,
            "left": null,
            "margin": null,
            "max_height": null,
            "max_width": null,
            "min_height": null,
            "min_width": null,
            "object_fit": null,
            "object_position": null,
            "order": null,
            "overflow": null,
            "overflow_x": null,
            "overflow_y": null,
            "padding": null,
            "right": null,
            "top": null,
            "visibility": null,
            "width": null
          }
        },
        "e3d4481ad2c14ec0880c57147f9a6607": {
          "model_module": "@jupyter-widgets/controls",
          "model_name": "DescriptionStyleModel",
          "model_module_version": "1.5.0",
          "state": {
            "_model_module": "@jupyter-widgets/controls",
            "_model_module_version": "1.5.0",
            "_model_name": "DescriptionStyleModel",
            "_view_count": null,
            "_view_module": "@jupyter-widgets/base",
            "_view_module_version": "1.2.0",
            "_view_name": "StyleView",
            "description_width": ""
          }
        },
        "3c248ae4b3674cf3a097df3d5afd817f": {
          "model_module": "@jupyter-widgets/base",
          "model_name": "LayoutModel",
          "model_module_version": "1.2.0",
          "state": {
            "_model_module": "@jupyter-widgets/base",
            "_model_module_version": "1.2.0",
            "_model_name": "LayoutModel",
            "_view_count": null,
            "_view_module": "@jupyter-widgets/base",
            "_view_module_version": "1.2.0",
            "_view_name": "LayoutView",
            "align_content": null,
            "align_items": null,
            "align_self": null,
            "border": null,
            "bottom": null,
            "display": null,
            "flex": null,
            "flex_flow": null,
            "grid_area": null,
            "grid_auto_columns": null,
            "grid_auto_flow": null,
            "grid_auto_rows": null,
            "grid_column": null,
            "grid_gap": null,
            "grid_row": null,
            "grid_template_areas": null,
            "grid_template_columns": null,
            "grid_template_rows": null,
            "height": null,
            "justify_content": null,
            "justify_items": null,
            "left": null,
            "margin": null,
            "max_height": null,
            "max_width": null,
            "min_height": null,
            "min_width": null,
            "object_fit": null,
            "object_position": null,
            "order": null,
            "overflow": null,
            "overflow_x": null,
            "overflow_y": null,
            "padding": null,
            "right": null,
            "top": null,
            "visibility": null,
            "width": null
          }
        },
        "881483d3c77d42c0aa57284b24730070": {
          "model_module": "@jupyter-widgets/controls",
          "model_name": "DescriptionStyleModel",
          "model_module_version": "1.5.0",
          "state": {
            "_model_module": "@jupyter-widgets/controls",
            "_model_module_version": "1.5.0",
            "_model_name": "DescriptionStyleModel",
            "_view_count": null,
            "_view_module": "@jupyter-widgets/base",
            "_view_module_version": "1.2.0",
            "_view_name": "StyleView",
            "description_width": ""
          }
        },
        "66ac7c30dcfc489ea38c4fcc355cc3c5": {
          "model_module": "@jupyter-widgets/controls",
          "model_name": "HTMLModel",
          "model_module_version": "1.5.0",
          "state": {
            "_dom_classes": [],
            "_model_module": "@jupyter-widgets/controls",
            "_model_module_version": "1.5.0",
            "_model_name": "HTMLModel",
            "_view_count": null,
            "_view_module": "@jupyter-widgets/controls",
            "_view_module_version": "1.5.0",
            "_view_name": "HTMLView",
            "description": "",
            "description_tooltip": null,
            "layout": "IPY_MODEL_dc8491ebbd6f42bb8dc545fa38c79af1",
            "placeholder": "​",
            "style": "IPY_MODEL_e3d4481ad2c14ec0880c57147f9a6607",
            "value": "Processing: 100%"
          }
        },
        "71a59c601137493ca22a8c2058ccfc57": {
          "model_module": "@jupyter-widgets/controls",
          "model_name": "FloatProgressModel",
          "model_module_version": "1.5.0",
          "state": {
            "_dom_classes": [],
            "_model_module": "@jupyter-widgets/controls",
            "_model_module_version": "1.5.0",
            "_model_name": "FloatProgressModel",
            "_view_count": null,
            "_view_module": "@jupyter-widgets/controls",
            "_view_module_version": "1.5.0",
            "_view_name": "ProgressView",
            "bar_style": "",
            "description": "",
            "description_tooltip": null,
            "layout": "IPY_MODEL_13094375c4bb4a5bb5892fee74a1ef1c",
            "max": 7,
            "min": 0,
            "orientation": "horizontal",
            "style": "IPY_MODEL_d3874e1e97884a26888f7e116acc4c09",
            "value": 7
          }
        },
        "ca038bfdc1fb4539897aef34f81c9682": {
          "model_module": "@jupyter-widgets/controls",
          "model_name": "HTMLModel",
          "model_module_version": "1.5.0",
          "state": {
            "_dom_classes": [],
            "_model_module": "@jupyter-widgets/controls",
            "_model_module_version": "1.5.0",
            "_model_name": "HTMLModel",
            "_view_count": null,
            "_view_module": "@jupyter-widgets/controls",
            "_view_module_version": "1.5.0",
            "_view_name": "HTMLView",
            "description": "",
            "description_tooltip": null,
            "layout": "IPY_MODEL_3c248ae4b3674cf3a097df3d5afd817f",
            "placeholder": "​",
            "style": "IPY_MODEL_881483d3c77d42c0aa57284b24730070",
            "value": " 7/7 [01:33&lt;00:00, 10.13s/it]"
          }
        },
        "bcdb0b3742a24b87a29b29d1250c8453": {
          "model_module": "@jupyter-widgets/base",
          "model_name": "LayoutModel",
          "model_module_version": "1.2.0",
          "state": {
            "_model_module": "@jupyter-widgets/base",
            "_model_module_version": "1.2.0",
            "_model_name": "LayoutModel",
            "_view_count": null,
            "_view_module": "@jupyter-widgets/base",
            "_view_module_version": "1.2.0",
            "_view_name": "LayoutView",
            "align_content": null,
            "align_items": null,
            "align_self": null,
            "border": null,
            "bottom": null,
            "display": null,
            "flex": null,
            "flex_flow": null,
            "grid_area": null,
            "grid_auto_columns": null,
            "grid_auto_flow": null,
            "grid_auto_rows": null,
            "grid_column": null,
            "grid_gap": null,
            "grid_row": null,
            "grid_template_areas": null,
            "grid_template_columns": null,
            "grid_template_rows": null,
            "height": null,
            "justify_content": null,
            "justify_items": null,
            "left": null,
            "margin": null,
            "max_height": null,
            "max_width": null,
            "min_height": null,
            "min_width": null,
            "object_fit": null,
            "object_position": null,
            "order": null,
            "overflow": null,
            "overflow_x": null,
            "overflow_y": null,
            "padding": null,
            "right": null,
            "top": null,
            "visibility": "hidden",
            "width": null
          }
        },
        "e462ef01d9bb420688e5c610ddc1712d": {
          "model_module": "@jupyter-widgets/controls",
          "model_name": "HBoxModel",
          "model_module_version": "1.5.0",
          "state": {
            "_dom_classes": [],
            "_model_module": "@jupyter-widgets/controls",
            "_model_module_version": "1.5.0",
            "_model_name": "HBoxModel",
            "_view_count": null,
            "_view_module": "@jupyter-widgets/controls",
            "_view_module_version": "1.5.0",
            "_view_name": "HBoxView",
            "box_style": "",
            "children": [
              "IPY_MODEL_66ac7c30dcfc489ea38c4fcc355cc3c5",
              "IPY_MODEL_71a59c601137493ca22a8c2058ccfc57",
              "IPY_MODEL_ca038bfdc1fb4539897aef34f81c9682"
            ],
            "layout": "IPY_MODEL_bcdb0b3742a24b87a29b29d1250c8453"
          }
        },
        "022d97aeac5b49cf9f9a1ceb40e9465b": {
          "model_module": "@jupyter-widgets/base",
          "model_name": "LayoutModel",
          "model_module_version": "1.2.0",
          "state": {
            "_model_module": "@jupyter-widgets/base",
            "_model_module_version": "1.2.0",
            "_model_name": "LayoutModel",
            "_view_count": null,
            "_view_module": "@jupyter-widgets/base",
            "_view_module_version": "1.2.0",
            "_view_name": "LayoutView",
            "align_content": null,
            "align_items": null,
            "align_self": null,
            "border": null,
            "bottom": null,
            "display": null,
            "flex": null,
            "flex_flow": null,
            "grid_area": null,
            "grid_auto_columns": null,
            "grid_auto_flow": null,
            "grid_auto_rows": null,
            "grid_column": null,
            "grid_gap": null,
            "grid_row": null,
            "grid_template_areas": null,
            "grid_template_columns": null,
            "grid_template_rows": null,
            "height": null,
            "justify_content": null,
            "justify_items": null,
            "left": null,
            "margin": null,
            "max_height": null,
            "max_width": null,
            "min_height": null,
            "min_width": null,
            "object_fit": null,
            "object_position": null,
            "order": null,
            "overflow": null,
            "overflow_x": null,
            "overflow_y": null,
            "padding": null,
            "right": null,
            "top": null,
            "visibility": null,
            "width": null
          }
        },
        "6aee63d897d54b13afc730f9c46dbe91": {
          "model_module": "@jupyter-widgets/controls",
          "model_name": "ToggleButtonsStyleModel",
          "model_module_version": "1.5.0",
          "state": {
            "_model_module": "@jupyter-widgets/controls",
            "_model_module_version": "1.5.0",
            "_model_name": "ToggleButtonsStyleModel",
            "_view_count": null,
            "_view_module": "@jupyter-widgets/base",
            "_view_module_version": "1.2.0",
            "_view_name": "StyleView",
            "button_width": "",
            "description_width": "",
            "font_weight": ""
          }
        },
        "b9ab523f707649c8a24afae058399912": {
          "model_module": "@jupyter-widgets/base",
          "model_name": "LayoutModel",
          "model_module_version": "1.2.0",
          "state": {
            "_model_module": "@jupyter-widgets/base",
            "_model_module_version": "1.2.0",
            "_model_name": "LayoutModel",
            "_view_count": null,
            "_view_module": "@jupyter-widgets/base",
            "_view_module_version": "1.2.0",
            "_view_name": "LayoutView",
            "align_content": null,
            "align_items": null,
            "align_self": null,
            "border": null,
            "bottom": null,
            "display": null,
            "flex": null,
            "flex_flow": null,
            "grid_area": null,
            "grid_auto_columns": null,
            "grid_auto_flow": null,
            "grid_auto_rows": null,
            "grid_column": null,
            "grid_gap": null,
            "grid_row": null,
            "grid_template_areas": null,
            "grid_template_columns": null,
            "grid_template_rows": null,
            "height": null,
            "justify_content": null,
            "justify_items": null,
            "left": null,
            "margin": null,
            "max_height": null,
            "max_width": null,
            "min_height": null,
            "min_width": null,
            "object_fit": null,
            "object_position": null,
            "order": null,
            "overflow": null,
            "overflow_x": null,
            "overflow_y": null,
            "padding": null,
            "right": null,
            "top": null,
            "visibility": null,
            "width": null
          }
        },
        "4d3d95c70e4647f8b40e6a2dfe0b428c": {
          "model_module": "@jupyter-widgets/base",
          "model_name": "LayoutModel",
          "model_module_version": "1.2.0",
          "state": {
            "_model_module": "@jupyter-widgets/base",
            "_model_module_version": "1.2.0",
            "_model_name": "LayoutModel",
            "_view_count": null,
            "_view_module": "@jupyter-widgets/base",
            "_view_module_version": "1.2.0",
            "_view_name": "LayoutView",
            "align_content": null,
            "align_items": null,
            "align_self": null,
            "border": null,
            "bottom": null,
            "display": null,
            "flex": null,
            "flex_flow": null,
            "grid_area": null,
            "grid_auto_columns": null,
            "grid_auto_flow": null,
            "grid_auto_rows": null,
            "grid_column": null,
            "grid_gap": null,
            "grid_row": null,
            "grid_template_areas": null,
            "grid_template_columns": null,
            "grid_template_rows": null,
            "height": null,
            "justify_content": null,
            "justify_items": null,
            "left": null,
            "margin": null,
            "max_height": null,
            "max_width": null,
            "min_height": null,
            "min_width": null,
            "object_fit": null,
            "object_position": null,
            "order": null,
            "overflow": null,
            "overflow_x": null,
            "overflow_y": null,
            "padding": null,
            "right": null,
            "top": null,
            "visibility": null,
            "width": null
          }
        },
        "9bc78460366c47938e2df7798c6a7c63": {
          "model_module": "@jupyter-widgets/controls",
          "model_name": "VBoxModel",
          "model_module_version": "1.5.0",
          "state": {
            "_dom_classes": [
              "widget-interact"
            ],
            "_model_module": "@jupyter-widgets/controls",
            "_model_module_version": "1.5.0",
            "_model_name": "VBoxModel",
            "_view_count": null,
            "_view_module": "@jupyter-widgets/controls",
            "_view_module_version": "1.5.0",
            "_view_name": "VBoxView",
            "box_style": "",
            "children": [
              "IPY_MODEL_e661077180df40458e0c8f4a43d532d8",
              "IPY_MODEL_2b3d1978984e4d11949e203df65eb73c"
            ],
            "layout": "IPY_MODEL_b9ab523f707649c8a24afae058399912"
          }
        },
        "e661077180df40458e0c8f4a43d532d8": {
          "model_module": "@jupyter-widgets/controls",
          "model_name": "ToggleButtonsModel",
          "model_module_version": "1.5.0",
          "state": {
            "_dom_classes": [],
            "_model_module": "@jupyter-widgets/controls",
            "_model_module_version": "1.5.0",
            "_model_name": "ToggleButtonsModel",
            "_options_labels": [
              "Pipeline Plot",
              "Hyperparameters",
              "Residuals",
              "Prediction Error",
              "Cooks Distance",
              "Feature Selection",
              "Learning Curve",
              "Manifold Learning",
              "Validation Curve",
              "Feature Importance",
              "Feature Importance (All)",
              "Decision Tree",
              "Interactive Residuals"
            ],
            "_view_count": null,
            "_view_module": "@jupyter-widgets/controls",
            "_view_module_version": "1.5.0",
            "_view_name": "ToggleButtonsView",
            "button_style": "",
            "description": "Plot Type:",
            "description_tooltip": null,
            "disabled": false,
            "icons": [
              ""
            ],
            "index": 0,
            "layout": "IPY_MODEL_022d97aeac5b49cf9f9a1ceb40e9465b",
            "style": "IPY_MODEL_6aee63d897d54b13afc730f9c46dbe91",
            "tooltips": []
          }
        },
        "2b3d1978984e4d11949e203df65eb73c": {
          "model_module": "@jupyter-widgets/output",
          "model_name": "OutputModel",
          "model_module_version": "1.0.0",
          "state": {
            "_dom_classes": [],
            "_model_module": "@jupyter-widgets/output",
            "_model_module_version": "1.0.0",
            "_model_name": "OutputModel",
            "_view_count": null,
            "_view_module": "@jupyter-widgets/output",
            "_view_module_version": "1.0.0",
            "_view_name": "OutputView",
            "layout": "IPY_MODEL_4d3d95c70e4647f8b40e6a2dfe0b428c",
            "msg_id": "",
            "outputs": [
              {
                "output_type": "display_data",
                "data": {
                  "text/plain": "<Figure size 1700x600 with 1 Axes>",
                  "image/png": "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\n"
                },
                "metadata": {}
              }
            ]
          }
        }
      }
    }
  },
  "cells": [
    {
      "cell_type": "markdown",
      "metadata": {
        "id": "view-in-github",
        "colab_type": "text"
      },
      "source": [
        "<a href=\"https://colab.research.google.com/github/MayarQasrawi/Artificial-Intelligent/blob/main/ML_Assignment.ipynb\" target=\"_parent\"><img src=\"https://colab.research.google.com/assets/colab-badge.svg\" alt=\"Open In Colab\"/></a>"
      ]
    },
    {
      "cell_type": "markdown",
      "source": [
        "# Import Libreries"
      ],
      "metadata": {
        "id": "OpMXp3vBXH00"
      }
    },
    {
      "cell_type": "code",
      "execution_count": 2,
      "metadata": {
        "id": "rZce-ZMbHeDX"
      },
      "outputs": [],
      "source": [
        "import pandas as pd\n",
        "import numpy as np\n",
        "import matplotlib.pyplot as plt\n"
      ]
    },
    {
      "cell_type": "markdown",
      "source": [
        "# Load Data\n"
      ],
      "metadata": {
        "id": "g3gk0qwsXBll"
      }
    },
    {
      "cell_type": "code",
      "source": [
        "\n",
        "file_path = '/content/drive/MyDrive/Datasets/TG_T_CashValues_Rel.xlsx'\n",
        "df = pd.read_excel(file_path)\n",
        "print(df)"
      ],
      "metadata": {
        "colab": {
          "base_uri": "https://localhost:8080/"
        },
        "id": "u9Z7ndGyHorS",
        "outputId": "40bda14f-f4d1-40e9-970f-73317e5a44ab"
      },
      "execution_count": 3,
      "outputs": [
        {
          "output_type": "stream",
          "name": "stdout",
          "text": [
            "      Gender  Age  Dur        PPV\n",
            "0       Male    0   20  15.198437\n",
            "1       Male    0   21  15.741015\n",
            "2       Male    0   22  16.267189\n",
            "3       Male    0   23  16.777448\n",
            "4       Male    0   24  17.272269\n",
            "...      ...  ...  ...        ...\n",
            "5265  Female   78    2   1.925421\n",
            "5266  Female   78    3   2.777638\n",
            "5267  Female   79    1   1.000000\n",
            "5268  Female   79    2   1.920897\n",
            "5269  Female   80    1   1.000000\n",
            "\n",
            "[5270 rows x 4 columns]\n"
          ]
        }
      ]
    },
    {
      "cell_type": "markdown",
      "source": [
        "### ⚡ PPV stands for Pay-Per-View\n"
      ],
      "metadata": {
        "id": "vJV450mYs7wh"
      }
    },
    {
      "cell_type": "markdown",
      "source": [
        "# Data exploritery"
      ],
      "metadata": {
        "id": "AgdmYTRbXQSL"
      }
    },
    {
      "cell_type": "code",
      "source": [
        "df.head()"
      ],
      "metadata": {
        "colab": {
          "base_uri": "https://localhost:8080/",
          "height": 206
        },
        "id": "KwGnw5pwITzq",
        "outputId": "c43cfed3-66cb-4a54-b7c2-ec5fc0792b31"
      },
      "execution_count": 4,
      "outputs": [
        {
          "output_type": "execute_result",
          "data": {
            "text/plain": [
              "  Gender  Age  Dur        PPV\n",
              "0   Male    0   20  15.198437\n",
              "1   Male    0   21  15.741015\n",
              "2   Male    0   22  16.267189\n",
              "3   Male    0   23  16.777448\n",
              "4   Male    0   24  17.272269"
            ],
            "text/html": [
              "\n",
              "  <div id=\"df-870732e3-1fd2-4fda-87be-feb84357d9b6\" class=\"colab-df-container\">\n",
              "    <div>\n",
              "<style scoped>\n",
              "    .dataframe tbody tr th:only-of-type {\n",
              "        vertical-align: middle;\n",
              "    }\n",
              "\n",
              "    .dataframe tbody tr th {\n",
              "        vertical-align: top;\n",
              "    }\n",
              "\n",
              "    .dataframe thead th {\n",
              "        text-align: right;\n",
              "    }\n",
              "</style>\n",
              "<table border=\"1\" class=\"dataframe\">\n",
              "  <thead>\n",
              "    <tr style=\"text-align: right;\">\n",
              "      <th></th>\n",
              "      <th>Gender</th>\n",
              "      <th>Age</th>\n",
              "      <th>Dur</th>\n",
              "      <th>PPV</th>\n",
              "    </tr>\n",
              "  </thead>\n",
              "  <tbody>\n",
              "    <tr>\n",
              "      <th>0</th>\n",
              "      <td>Male</td>\n",
              "      <td>0</td>\n",
              "      <td>20</td>\n",
              "      <td>15.198437</td>\n",
              "    </tr>\n",
              "    <tr>\n",
              "      <th>1</th>\n",
              "      <td>Male</td>\n",
              "      <td>0</td>\n",
              "      <td>21</td>\n",
              "      <td>15.741015</td>\n",
              "    </tr>\n",
              "    <tr>\n",
              "      <th>2</th>\n",
              "      <td>Male</td>\n",
              "      <td>0</td>\n",
              "      <td>22</td>\n",
              "      <td>16.267189</td>\n",
              "    </tr>\n",
              "    <tr>\n",
              "      <th>3</th>\n",
              "      <td>Male</td>\n",
              "      <td>0</td>\n",
              "      <td>23</td>\n",
              "      <td>16.777448</td>\n",
              "    </tr>\n",
              "    <tr>\n",
              "      <th>4</th>\n",
              "      <td>Male</td>\n",
              "      <td>0</td>\n",
              "      <td>24</td>\n",
              "      <td>17.272269</td>\n",
              "    </tr>\n",
              "  </tbody>\n",
              "</table>\n",
              "</div>\n",
              "    <div class=\"colab-df-buttons\">\n",
              "\n",
              "  <div class=\"colab-df-container\">\n",
              "    <button class=\"colab-df-convert\" onclick=\"convertToInteractive('df-870732e3-1fd2-4fda-87be-feb84357d9b6')\"\n",
              "            title=\"Convert this dataframe to an interactive table.\"\n",
              "            style=\"display:none;\">\n",
              "\n",
              "  <svg xmlns=\"http://www.w3.org/2000/svg\" height=\"24px\" viewBox=\"0 -960 960 960\">\n",
              "    <path d=\"M120-120v-720h720v720H120Zm60-500h600v-160H180v160Zm220 220h160v-160H400v160Zm0 220h160v-160H400v160ZM180-400h160v-160H180v160Zm440 0h160v-160H620v160ZM180-180h160v-160H180v160Zm440 0h160v-160H620v160Z\"/>\n",
              "  </svg>\n",
              "    </button>\n",
              "\n",
              "  <style>\n",
              "    .colab-df-container {\n",
              "      display:flex;\n",
              "      gap: 12px;\n",
              "    }\n",
              "\n",
              "    .colab-df-convert {\n",
              "      background-color: #E8F0FE;\n",
              "      border: none;\n",
              "      border-radius: 50%;\n",
              "      cursor: pointer;\n",
              "      display: none;\n",
              "      fill: #1967D2;\n",
              "      height: 32px;\n",
              "      padding: 0 0 0 0;\n",
              "      width: 32px;\n",
              "    }\n",
              "\n",
              "    .colab-df-convert:hover {\n",
              "      background-color: #E2EBFA;\n",
              "      box-shadow: 0px 1px 2px rgba(60, 64, 67, 0.3), 0px 1px 3px 1px rgba(60, 64, 67, 0.15);\n",
              "      fill: #174EA6;\n",
              "    }\n",
              "\n",
              "    .colab-df-buttons div {\n",
              "      margin-bottom: 4px;\n",
              "    }\n",
              "\n",
              "    [theme=dark] .colab-df-convert {\n",
              "      background-color: #3B4455;\n",
              "      fill: #D2E3FC;\n",
              "    }\n",
              "\n",
              "    [theme=dark] .colab-df-convert:hover {\n",
              "      background-color: #434B5C;\n",
              "      box-shadow: 0px 1px 3px 1px rgba(0, 0, 0, 0.15);\n",
              "      filter: drop-shadow(0px 1px 2px rgba(0, 0, 0, 0.3));\n",
              "      fill: #FFFFFF;\n",
              "    }\n",
              "  </style>\n",
              "\n",
              "    <script>\n",
              "      const buttonEl =\n",
              "        document.querySelector('#df-870732e3-1fd2-4fda-87be-feb84357d9b6 button.colab-df-convert');\n",
              "      buttonEl.style.display =\n",
              "        google.colab.kernel.accessAllowed ? 'block' : 'none';\n",
              "\n",
              "      async function convertToInteractive(key) {\n",
              "        const element = document.querySelector('#df-870732e3-1fd2-4fda-87be-feb84357d9b6');\n",
              "        const dataTable =\n",
              "          await google.colab.kernel.invokeFunction('convertToInteractive',\n",
              "                                                    [key], {});\n",
              "        if (!dataTable) return;\n",
              "\n",
              "        const docLinkHtml = 'Like what you see? Visit the ' +\n",
              "          '<a target=\"_blank\" href=https://colab.research.google.com/notebooks/data_table.ipynb>data table notebook</a>'\n",
              "          + ' to learn more about interactive tables.';\n",
              "        element.innerHTML = '';\n",
              "        dataTable['output_type'] = 'display_data';\n",
              "        await google.colab.output.renderOutput(dataTable, element);\n",
              "        const docLink = document.createElement('div');\n",
              "        docLink.innerHTML = docLinkHtml;\n",
              "        element.appendChild(docLink);\n",
              "      }\n",
              "    </script>\n",
              "  </div>\n",
              "\n",
              "\n",
              "<div id=\"df-8bdd2462-c95c-4220-9246-c1bbb48ede91\">\n",
              "  <button class=\"colab-df-quickchart\" onclick=\"quickchart('df-8bdd2462-c95c-4220-9246-c1bbb48ede91')\"\n",
              "            title=\"Suggest charts\"\n",
              "            style=\"display:none;\">\n",
              "\n",
              "<svg xmlns=\"http://www.w3.org/2000/svg\" height=\"24px\"viewBox=\"0 0 24 24\"\n",
              "     width=\"24px\">\n",
              "    <g>\n",
              "        <path d=\"M19 3H5c-1.1 0-2 .9-2 2v14c0 1.1.9 2 2 2h14c1.1 0 2-.9 2-2V5c0-1.1-.9-2-2-2zM9 17H7v-7h2v7zm4 0h-2V7h2v10zm4 0h-2v-4h2v4z\"/>\n",
              "    </g>\n",
              "</svg>\n",
              "  </button>\n",
              "\n",
              "<style>\n",
              "  .colab-df-quickchart {\n",
              "      --bg-color: #E8F0FE;\n",
              "      --fill-color: #1967D2;\n",
              "      --hover-bg-color: #E2EBFA;\n",
              "      --hover-fill-color: #174EA6;\n",
              "      --disabled-fill-color: #AAA;\n",
              "      --disabled-bg-color: #DDD;\n",
              "  }\n",
              "\n",
              "  [theme=dark] .colab-df-quickchart {\n",
              "      --bg-color: #3B4455;\n",
              "      --fill-color: #D2E3FC;\n",
              "      --hover-bg-color: #434B5C;\n",
              "      --hover-fill-color: #FFFFFF;\n",
              "      --disabled-bg-color: #3B4455;\n",
              "      --disabled-fill-color: #666;\n",
              "  }\n",
              "\n",
              "  .colab-df-quickchart {\n",
              "    background-color: var(--bg-color);\n",
              "    border: none;\n",
              "    border-radius: 50%;\n",
              "    cursor: pointer;\n",
              "    display: none;\n",
              "    fill: var(--fill-color);\n",
              "    height: 32px;\n",
              "    padding: 0;\n",
              "    width: 32px;\n",
              "  }\n",
              "\n",
              "  .colab-df-quickchart:hover {\n",
              "    background-color: var(--hover-bg-color);\n",
              "    box-shadow: 0 1px 2px rgba(60, 64, 67, 0.3), 0 1px 3px 1px rgba(60, 64, 67, 0.15);\n",
              "    fill: var(--button-hover-fill-color);\n",
              "  }\n",
              "\n",
              "  .colab-df-quickchart-complete:disabled,\n",
              "  .colab-df-quickchart-complete:disabled:hover {\n",
              "    background-color: var(--disabled-bg-color);\n",
              "    fill: var(--disabled-fill-color);\n",
              "    box-shadow: none;\n",
              "  }\n",
              "\n",
              "  .colab-df-spinner {\n",
              "    border: 2px solid var(--fill-color);\n",
              "    border-color: transparent;\n",
              "    border-bottom-color: var(--fill-color);\n",
              "    animation:\n",
              "      spin 1s steps(1) infinite;\n",
              "  }\n",
              "\n",
              "  @keyframes spin {\n",
              "    0% {\n",
              "      border-color: transparent;\n",
              "      border-bottom-color: var(--fill-color);\n",
              "      border-left-color: var(--fill-color);\n",
              "    }\n",
              "    20% {\n",
              "      border-color: transparent;\n",
              "      border-left-color: var(--fill-color);\n",
              "      border-top-color: var(--fill-color);\n",
              "    }\n",
              "    30% {\n",
              "      border-color: transparent;\n",
              "      border-left-color: var(--fill-color);\n",
              "      border-top-color: var(--fill-color);\n",
              "      border-right-color: var(--fill-color);\n",
              "    }\n",
              "    40% {\n",
              "      border-color: transparent;\n",
              "      border-right-color: var(--fill-color);\n",
              "      border-top-color: var(--fill-color);\n",
              "    }\n",
              "    60% {\n",
              "      border-color: transparent;\n",
              "      border-right-color: var(--fill-color);\n",
              "    }\n",
              "    80% {\n",
              "      border-color: transparent;\n",
              "      border-right-color: var(--fill-color);\n",
              "      border-bottom-color: var(--fill-color);\n",
              "    }\n",
              "    90% {\n",
              "      border-color: transparent;\n",
              "      border-bottom-color: var(--fill-color);\n",
              "    }\n",
              "  }\n",
              "</style>\n",
              "\n",
              "  <script>\n",
              "    async function quickchart(key) {\n",
              "      const quickchartButtonEl =\n",
              "        document.querySelector('#' + key + ' button');\n",
              "      quickchartButtonEl.disabled = true;  // To prevent multiple clicks.\n",
              "      quickchartButtonEl.classList.add('colab-df-spinner');\n",
              "      try {\n",
              "        const charts = await google.colab.kernel.invokeFunction(\n",
              "            'suggestCharts', [key], {});\n",
              "      } catch (error) {\n",
              "        console.error('Error during call to suggestCharts:', error);\n",
              "      }\n",
              "      quickchartButtonEl.classList.remove('colab-df-spinner');\n",
              "      quickchartButtonEl.classList.add('colab-df-quickchart-complete');\n",
              "    }\n",
              "    (() => {\n",
              "      let quickchartButtonEl =\n",
              "        document.querySelector('#df-8bdd2462-c95c-4220-9246-c1bbb48ede91 button');\n",
              "      quickchartButtonEl.style.display =\n",
              "        google.colab.kernel.accessAllowed ? 'block' : 'none';\n",
              "    })();\n",
              "  </script>\n",
              "</div>\n",
              "\n",
              "    </div>\n",
              "  </div>\n"
            ],
            "application/vnd.google.colaboratory.intrinsic+json": {
              "type": "dataframe",
              "variable_name": "df",
              "summary": "{\n  \"name\": \"df\",\n  \"rows\": 5270,\n  \"fields\": [\n    {\n      \"column\": \"Gender\",\n      \"properties\": {\n        \"dtype\": \"category\",\n        \"num_unique_values\": 2,\n        \"samples\": [\n          \"Female\",\n          \"Male\"\n        ],\n        \"semantic_type\": \"\",\n        \"description\": \"\"\n      }\n    },\n    {\n      \"column\": \"Age\",\n      \"properties\": {\n        \"dtype\": \"number\",\n        \"std\": 18,\n        \"min\": 0,\n        \"max\": 80,\n        \"num_unique_values\": 81,\n        \"samples\": [\n          30,\n          0\n        ],\n        \"semantic_type\": \"\",\n        \"description\": \"\"\n      }\n    },\n    {\n      \"column\": \"Dur\",\n      \"properties\": {\n        \"dtype\": \"number\",\n        \"std\": 13,\n        \"min\": 1,\n        \"max\": 50,\n        \"num_unique_values\": 50,\n        \"samples\": [\n          33,\n          11\n        ],\n        \"semantic_type\": \"\",\n        \"description\": \"\"\n      }\n    },\n    {\n      \"column\": \"PPV\",\n      \"properties\": {\n        \"dtype\": \"number\",\n        \"std\": 7.0258620156027165,\n        \"min\": 1.0,\n        \"max\": 26.0241179864103,\n        \"num_unique_values\": 2917,\n        \"samples\": [\n          17.8028633518378,\n          22.1190417676757\n        ],\n        \"semantic_type\": \"\",\n        \"description\": \"\"\n      }\n    }\n  ]\n}"
            }
          },
          "metadata": {},
          "execution_count": 4
        }
      ]
    },
    {
      "cell_type": "code",
      "source": [
        "df.describe()"
      ],
      "metadata": {
        "colab": {
          "base_uri": "https://localhost:8080/",
          "height": 300
        },
        "id": "ZhfwSYFTIcWk",
        "outputId": "35d06a83-6b6c-40a5-8e32-d79b027f68e2"
      },
      "execution_count": 5,
      "outputs": [
        {
          "output_type": "execute_result",
          "data": {
            "text/plain": [
              "               Age          Dur          PPV\n",
              "count  5270.000000  5270.000000  5270.000000\n",
              "mean     31.294118    22.882353    14.858158\n",
              "std      18.671548    13.793388     7.025862\n",
              "min       0.000000     1.000000     1.000000\n",
              "25%      16.000000    11.000000     9.374980\n",
              "50%      30.000000    22.000000    15.703883\n",
              "75%      45.000000    34.000000    20.953996\n",
              "max      80.000000    50.000000    26.024118"
            ],
            "text/html": [
              "\n",
              "  <div id=\"df-4222a166-f1f4-429c-9e9e-0870b7ae77fe\" class=\"colab-df-container\">\n",
              "    <div>\n",
              "<style scoped>\n",
              "    .dataframe tbody tr th:only-of-type {\n",
              "        vertical-align: middle;\n",
              "    }\n",
              "\n",
              "    .dataframe tbody tr th {\n",
              "        vertical-align: top;\n",
              "    }\n",
              "\n",
              "    .dataframe thead th {\n",
              "        text-align: right;\n",
              "    }\n",
              "</style>\n",
              "<table border=\"1\" class=\"dataframe\">\n",
              "  <thead>\n",
              "    <tr style=\"text-align: right;\">\n",
              "      <th></th>\n",
              "      <th>Age</th>\n",
              "      <th>Dur</th>\n",
              "      <th>PPV</th>\n",
              "    </tr>\n",
              "  </thead>\n",
              "  <tbody>\n",
              "    <tr>\n",
              "      <th>count</th>\n",
              "      <td>5270.000000</td>\n",
              "      <td>5270.000000</td>\n",
              "      <td>5270.000000</td>\n",
              "    </tr>\n",
              "    <tr>\n",
              "      <th>mean</th>\n",
              "      <td>31.294118</td>\n",
              "      <td>22.882353</td>\n",
              "      <td>14.858158</td>\n",
              "    </tr>\n",
              "    <tr>\n",
              "      <th>std</th>\n",
              "      <td>18.671548</td>\n",
              "      <td>13.793388</td>\n",
              "      <td>7.025862</td>\n",
              "    </tr>\n",
              "    <tr>\n",
              "      <th>min</th>\n",
              "      <td>0.000000</td>\n",
              "      <td>1.000000</td>\n",
              "      <td>1.000000</td>\n",
              "    </tr>\n",
              "    <tr>\n",
              "      <th>25%</th>\n",
              "      <td>16.000000</td>\n",
              "      <td>11.000000</td>\n",
              "      <td>9.374980</td>\n",
              "    </tr>\n",
              "    <tr>\n",
              "      <th>50%</th>\n",
              "      <td>30.000000</td>\n",
              "      <td>22.000000</td>\n",
              "      <td>15.703883</td>\n",
              "    </tr>\n",
              "    <tr>\n",
              "      <th>75%</th>\n",
              "      <td>45.000000</td>\n",
              "      <td>34.000000</td>\n",
              "      <td>20.953996</td>\n",
              "    </tr>\n",
              "    <tr>\n",
              "      <th>max</th>\n",
              "      <td>80.000000</td>\n",
              "      <td>50.000000</td>\n",
              "      <td>26.024118</td>\n",
              "    </tr>\n",
              "  </tbody>\n",
              "</table>\n",
              "</div>\n",
              "    <div class=\"colab-df-buttons\">\n",
              "\n",
              "  <div class=\"colab-df-container\">\n",
              "    <button class=\"colab-df-convert\" onclick=\"convertToInteractive('df-4222a166-f1f4-429c-9e9e-0870b7ae77fe')\"\n",
              "            title=\"Convert this dataframe to an interactive table.\"\n",
              "            style=\"display:none;\">\n",
              "\n",
              "  <svg xmlns=\"http://www.w3.org/2000/svg\" height=\"24px\" viewBox=\"0 -960 960 960\">\n",
              "    <path d=\"M120-120v-720h720v720H120Zm60-500h600v-160H180v160Zm220 220h160v-160H400v160Zm0 220h160v-160H400v160ZM180-400h160v-160H180v160Zm440 0h160v-160H620v160ZM180-180h160v-160H180v160Zm440 0h160v-160H620v160Z\"/>\n",
              "  </svg>\n",
              "    </button>\n",
              "\n",
              "  <style>\n",
              "    .colab-df-container {\n",
              "      display:flex;\n",
              "      gap: 12px;\n",
              "    }\n",
              "\n",
              "    .colab-df-convert {\n",
              "      background-color: #E8F0FE;\n",
              "      border: none;\n",
              "      border-radius: 50%;\n",
              "      cursor: pointer;\n",
              "      display: none;\n",
              "      fill: #1967D2;\n",
              "      height: 32px;\n",
              "      padding: 0 0 0 0;\n",
              "      width: 32px;\n",
              "    }\n",
              "\n",
              "    .colab-df-convert:hover {\n",
              "      background-color: #E2EBFA;\n",
              "      box-shadow: 0px 1px 2px rgba(60, 64, 67, 0.3), 0px 1px 3px 1px rgba(60, 64, 67, 0.15);\n",
              "      fill: #174EA6;\n",
              "    }\n",
              "\n",
              "    .colab-df-buttons div {\n",
              "      margin-bottom: 4px;\n",
              "    }\n",
              "\n",
              "    [theme=dark] .colab-df-convert {\n",
              "      background-color: #3B4455;\n",
              "      fill: #D2E3FC;\n",
              "    }\n",
              "\n",
              "    [theme=dark] .colab-df-convert:hover {\n",
              "      background-color: #434B5C;\n",
              "      box-shadow: 0px 1px 3px 1px rgba(0, 0, 0, 0.15);\n",
              "      filter: drop-shadow(0px 1px 2px rgba(0, 0, 0, 0.3));\n",
              "      fill: #FFFFFF;\n",
              "    }\n",
              "  </style>\n",
              "\n",
              "    <script>\n",
              "      const buttonEl =\n",
              "        document.querySelector('#df-4222a166-f1f4-429c-9e9e-0870b7ae77fe button.colab-df-convert');\n",
              "      buttonEl.style.display =\n",
              "        google.colab.kernel.accessAllowed ? 'block' : 'none';\n",
              "\n",
              "      async function convertToInteractive(key) {\n",
              "        const element = document.querySelector('#df-4222a166-f1f4-429c-9e9e-0870b7ae77fe');\n",
              "        const dataTable =\n",
              "          await google.colab.kernel.invokeFunction('convertToInteractive',\n",
              "                                                    [key], {});\n",
              "        if (!dataTable) return;\n",
              "\n",
              "        const docLinkHtml = 'Like what you see? Visit the ' +\n",
              "          '<a target=\"_blank\" href=https://colab.research.google.com/notebooks/data_table.ipynb>data table notebook</a>'\n",
              "          + ' to learn more about interactive tables.';\n",
              "        element.innerHTML = '';\n",
              "        dataTable['output_type'] = 'display_data';\n",
              "        await google.colab.output.renderOutput(dataTable, element);\n",
              "        const docLink = document.createElement('div');\n",
              "        docLink.innerHTML = docLinkHtml;\n",
              "        element.appendChild(docLink);\n",
              "      }\n",
              "    </script>\n",
              "  </div>\n",
              "\n",
              "\n",
              "<div id=\"df-eedd01cc-8be3-4723-8dfe-012c6e351f69\">\n",
              "  <button class=\"colab-df-quickchart\" onclick=\"quickchart('df-eedd01cc-8be3-4723-8dfe-012c6e351f69')\"\n",
              "            title=\"Suggest charts\"\n",
              "            style=\"display:none;\">\n",
              "\n",
              "<svg xmlns=\"http://www.w3.org/2000/svg\" height=\"24px\"viewBox=\"0 0 24 24\"\n",
              "     width=\"24px\">\n",
              "    <g>\n",
              "        <path d=\"M19 3H5c-1.1 0-2 .9-2 2v14c0 1.1.9 2 2 2h14c1.1 0 2-.9 2-2V5c0-1.1-.9-2-2-2zM9 17H7v-7h2v7zm4 0h-2V7h2v10zm4 0h-2v-4h2v4z\"/>\n",
              "    </g>\n",
              "</svg>\n",
              "  </button>\n",
              "\n",
              "<style>\n",
              "  .colab-df-quickchart {\n",
              "      --bg-color: #E8F0FE;\n",
              "      --fill-color: #1967D2;\n",
              "      --hover-bg-color: #E2EBFA;\n",
              "      --hover-fill-color: #174EA6;\n",
              "      --disabled-fill-color: #AAA;\n",
              "      --disabled-bg-color: #DDD;\n",
              "  }\n",
              "\n",
              "  [theme=dark] .colab-df-quickchart {\n",
              "      --bg-color: #3B4455;\n",
              "      --fill-color: #D2E3FC;\n",
              "      --hover-bg-color: #434B5C;\n",
              "      --hover-fill-color: #FFFFFF;\n",
              "      --disabled-bg-color: #3B4455;\n",
              "      --disabled-fill-color: #666;\n",
              "  }\n",
              "\n",
              "  .colab-df-quickchart {\n",
              "    background-color: var(--bg-color);\n",
              "    border: none;\n",
              "    border-radius: 50%;\n",
              "    cursor: pointer;\n",
              "    display: none;\n",
              "    fill: var(--fill-color);\n",
              "    height: 32px;\n",
              "    padding: 0;\n",
              "    width: 32px;\n",
              "  }\n",
              "\n",
              "  .colab-df-quickchart:hover {\n",
              "    background-color: var(--hover-bg-color);\n",
              "    box-shadow: 0 1px 2px rgba(60, 64, 67, 0.3), 0 1px 3px 1px rgba(60, 64, 67, 0.15);\n",
              "    fill: var(--button-hover-fill-color);\n",
              "  }\n",
              "\n",
              "  .colab-df-quickchart-complete:disabled,\n",
              "  .colab-df-quickchart-complete:disabled:hover {\n",
              "    background-color: var(--disabled-bg-color);\n",
              "    fill: var(--disabled-fill-color);\n",
              "    box-shadow: none;\n",
              "  }\n",
              "\n",
              "  .colab-df-spinner {\n",
              "    border: 2px solid var(--fill-color);\n",
              "    border-color: transparent;\n",
              "    border-bottom-color: var(--fill-color);\n",
              "    animation:\n",
              "      spin 1s steps(1) infinite;\n",
              "  }\n",
              "\n",
              "  @keyframes spin {\n",
              "    0% {\n",
              "      border-color: transparent;\n",
              "      border-bottom-color: var(--fill-color);\n",
              "      border-left-color: var(--fill-color);\n",
              "    }\n",
              "    20% {\n",
              "      border-color: transparent;\n",
              "      border-left-color: var(--fill-color);\n",
              "      border-top-color: var(--fill-color);\n",
              "    }\n",
              "    30% {\n",
              "      border-color: transparent;\n",
              "      border-left-color: var(--fill-color);\n",
              "      border-top-color: var(--fill-color);\n",
              "      border-right-color: var(--fill-color);\n",
              "    }\n",
              "    40% {\n",
              "      border-color: transparent;\n",
              "      border-right-color: var(--fill-color);\n",
              "      border-top-color: var(--fill-color);\n",
              "    }\n",
              "    60% {\n",
              "      border-color: transparent;\n",
              "      border-right-color: var(--fill-color);\n",
              "    }\n",
              "    80% {\n",
              "      border-color: transparent;\n",
              "      border-right-color: var(--fill-color);\n",
              "      border-bottom-color: var(--fill-color);\n",
              "    }\n",
              "    90% {\n",
              "      border-color: transparent;\n",
              "      border-bottom-color: var(--fill-color);\n",
              "    }\n",
              "  }\n",
              "</style>\n",
              "\n",
              "  <script>\n",
              "    async function quickchart(key) {\n",
              "      const quickchartButtonEl =\n",
              "        document.querySelector('#' + key + ' button');\n",
              "      quickchartButtonEl.disabled = true;  // To prevent multiple clicks.\n",
              "      quickchartButtonEl.classList.add('colab-df-spinner');\n",
              "      try {\n",
              "        const charts = await google.colab.kernel.invokeFunction(\n",
              "            'suggestCharts', [key], {});\n",
              "      } catch (error) {\n",
              "        console.error('Error during call to suggestCharts:', error);\n",
              "      }\n",
              "      quickchartButtonEl.classList.remove('colab-df-spinner');\n",
              "      quickchartButtonEl.classList.add('colab-df-quickchart-complete');\n",
              "    }\n",
              "    (() => {\n",
              "      let quickchartButtonEl =\n",
              "        document.querySelector('#df-eedd01cc-8be3-4723-8dfe-012c6e351f69 button');\n",
              "      quickchartButtonEl.style.display =\n",
              "        google.colab.kernel.accessAllowed ? 'block' : 'none';\n",
              "    })();\n",
              "  </script>\n",
              "</div>\n",
              "\n",
              "    </div>\n",
              "  </div>\n"
            ],
            "application/vnd.google.colaboratory.intrinsic+json": {
              "type": "dataframe",
              "summary": "{\n  \"name\": \"df\",\n  \"rows\": 8,\n  \"fields\": [\n    {\n      \"column\": \"Age\",\n      \"properties\": {\n        \"dtype\": \"number\",\n        \"std\": 1852.217626667651,\n        \"min\": 0.0,\n        \"max\": 5270.0,\n        \"num_unique_values\": 8,\n        \"samples\": [\n          31.294117647058822,\n          30.0,\n          5270.0\n        ],\n        \"semantic_type\": \"\",\n        \"description\": \"\"\n      }\n    },\n    {\n      \"column\": \"Dur\",\n      \"properties\": {\n        \"dtype\": \"number\",\n        \"std\": 1855.4740440768653,\n        \"min\": 1.0,\n        \"max\": 5270.0,\n        \"num_unique_values\": 8,\n        \"samples\": [\n          22.88235294117647,\n          22.0,\n          5270.0\n        ],\n        \"semantic_type\": \"\",\n        \"description\": \"\"\n      }\n    },\n    {\n      \"column\": \"PPV\",\n      \"properties\": {\n        \"dtype\": \"number\",\n        \"std\": 1858.4478149461281,\n        \"min\": 1.0,\n        \"max\": 5270.0,\n        \"num_unique_values\": 8,\n        \"samples\": [\n          14.858158284234678,\n          15.7038828871346,\n          5270.0\n        ],\n        \"semantic_type\": \"\",\n        \"description\": \"\"\n      }\n    }\n  ]\n}"
            }
          },
          "metadata": {},
          "execution_count": 5
        }
      ]
    },
    {
      "cell_type": "code",
      "source": [
        "df.columns"
      ],
      "metadata": {
        "colab": {
          "base_uri": "https://localhost:8080/"
        },
        "id": "p8qI36H3IfJl",
        "outputId": "32dd541a-3fa4-48ef-e0e0-37eaf80a911a"
      },
      "execution_count": 6,
      "outputs": [
        {
          "output_type": "execute_result",
          "data": {
            "text/plain": [
              "Index(['Gender', 'Age', 'Dur', 'PPV'], dtype='object')"
            ]
          },
          "metadata": {},
          "execution_count": 6
        }
      ]
    },
    {
      "cell_type": "code",
      "source": [
        "df.shape"
      ],
      "metadata": {
        "colab": {
          "base_uri": "https://localhost:8080/"
        },
        "id": "VOvcsU9gIkg-",
        "outputId": "1adc6d70-34d7-49f9-fa66-41c9db37ea1e"
      },
      "execution_count": 7,
      "outputs": [
        {
          "output_type": "execute_result",
          "data": {
            "text/plain": [
              "(5270, 4)"
            ]
          },
          "metadata": {},
          "execution_count": 7
        }
      ]
    },
    {
      "cell_type": "code",
      "source": [
        "df.info()"
      ],
      "metadata": {
        "colab": {
          "base_uri": "https://localhost:8080/"
        },
        "id": "wklmXs-hYxIb",
        "outputId": "e3803a86-b404-4f41-cf1f-8d3560e9d133"
      },
      "execution_count": 8,
      "outputs": [
        {
          "output_type": "stream",
          "name": "stdout",
          "text": [
            "<class 'pandas.core.frame.DataFrame'>\n",
            "RangeIndex: 5270 entries, 0 to 5269\n",
            "Data columns (total 4 columns):\n",
            " #   Column  Non-Null Count  Dtype  \n",
            "---  ------  --------------  -----  \n",
            " 0   Gender  5270 non-null   object \n",
            " 1   Age     5270 non-null   int64  \n",
            " 2   Dur     5270 non-null   int64  \n",
            " 3   PPV     5270 non-null   float64\n",
            "dtypes: float64(1), int64(2), object(1)\n",
            "memory usage: 164.8+ KB\n"
          ]
        }
      ]
    },
    {
      "cell_type": "markdown",
      "source": [
        "# Data Cleaning\n",
        "There is no missing value in the data set to be handle"
      ],
      "metadata": {
        "id": "BtYBDCMcY3xN"
      }
    },
    {
      "cell_type": "markdown",
      "source": [],
      "metadata": {
        "id": "DRM86VDBXeqw"
      }
    },
    {
      "cell_type": "markdown",
      "source": [
        "# Feature Extraction\n"
      ],
      "metadata": {
        "id": "yRZa5BTdmDAT"
      }
    },
    {
      "cell_type": "code",
      "source": [
        "correlation_matrix = df[['Age','PPV','Dur']].corr()\n",
        "print(correlation_matrix)"
      ],
      "metadata": {
        "colab": {
          "base_uri": "https://localhost:8080/"
        },
        "id": "tpzLiE8qI72G",
        "outputId": "5842a634-d0b6-407a-c7cc-1ef9d0aac203"
      },
      "execution_count": 9,
      "outputs": [
        {
          "output_type": "stream",
          "name": "stdout",
          "text": [
            "          Age       PPV       Dur\n",
            "Age  1.000000 -0.565087 -0.507243\n",
            "PPV -0.565087  1.000000  0.978774\n",
            "Dur -0.507243  0.978774  1.000000\n"
          ]
        }
      ]
    },
    {
      "cell_type": "markdown",
      "source": [
        "## 🗒 Note:\n",
        "**Dur** has the highest correlation coefficient (0.978774) with PPV. This indicates a very strong positive linear relationship between the two variables.\n",
        "\n",
        "While **Age** also shows a negative correlation with PPV (-0.565087), the correlation is weaker compared to Dur."
      ],
      "metadata": {
        "id": "Z_o6JRHdWgTQ"
      }
    },
    {
      "cell_type": "code",
      "source": [
        "import seaborn as sns"
      ],
      "metadata": {
        "id": "rFH0ACpVYJlU"
      },
      "execution_count": 10,
      "outputs": []
    },
    {
      "cell_type": "code",
      "source": [
        "sns.scatterplot(x=\"Dur\", y=\"PPV\", data=df);"
      ],
      "metadata": {
        "colab": {
          "base_uri": "https://localhost:8080/",
          "height": 503
        },
        "id": "_IzOmy0RX33W",
        "outputId": "7c385be8-21f9-4d14-fa71-8b546f93e7a6"
      },
      "execution_count": 11,
      "outputs": [
        {
          "output_type": "display_data",
          "data": {
            "text/plain": [
              "<Figure size 800x550 with 1 Axes>"
            ],
            "image/png": "[encoded data removed]"
          },
          "metadata": {}
        }
      ]
    },
    {
      "cell_type": "code",
      "source": [
        "sns.scatterplot(x=\"Age\", y=\"PPV\", data=df);"
      ],
      "metadata": {
        "colab": {
          "base_uri": "https://localhost:8080/",
          "height": 503
        },
        "id": "mll-QN18YOkn",
        "outputId": "eac953db-aaf9-46b2-f362-bc92be5c2e63"
      },
      "execution_count": 12,
      "outputs": [
        {
          "output_type": "display_data",
          "data": {
            "text/plain": [
              "<Figure size 800x550 with 1 Axes>"
            ],
            "image/png": "[encoded data removed]"
          },
          "metadata": {}
        }
      ]
    },
    {
      "cell_type": "markdown",
      "source": [
        "# Spliting the Data"
      ],
      "metadata": {
        "id": "mjEFmPY2biXq"
      }
    },
    {
      "cell_type": "code",
      "source": [
        "# Import train_test_split\n",
        "from sklearn.model_selection import train_test_split"
      ],
      "metadata": {
        "id": "dM3XU1pNIqHa"
      },
      "execution_count": 13,
      "outputs": []
    },
    {
      "cell_type": "code",
      "source": [
        "# Reshape x to be 2-dimensional using reshape()\n",
        "x=df['Dur'].values.reshape(-1, 1)\n",
        "# Or, select the column as a DataFrame using double brackets\n",
        "# x = df[['Dur']]\n",
        "y=df['PPV']"
      ],
      "metadata": {
        "id": "xMnkgIx0UxDf"
      },
      "execution_count": 14,
      "outputs": []
    },
    {
      "cell_type": "code",
      "source": [
        "x_train, x_test, y_train, y_test = train_test_split(x, y,\n",
        "                                                    random_state=0)"
      ],
      "metadata": {
        "id": "51wRNQadaI9U"
      },
      "execution_count": 15,
      "outputs": []
    },
    {
      "cell_type": "code",
      "source": [
        "print(\"Training set has {} samples.\".format(x_train.shape[0]))\n",
        "print(\"Testing set has {} samples.\".format(x_test.shape[0]))"
      ],
      "metadata": {
        "colab": {
          "base_uri": "https://localhost:8080/"
        },
        "id": "d3usfHNygbIm",
        "outputId": "b2246102-3406-4d90-ea66-69049a77eb67"
      },
      "execution_count": 16,
      "outputs": [
        {
          "output_type": "stream",
          "name": "stdout",
          "text": [
            "Training set has 3952 samples.\n",
            "Testing set has 1318 samples.\n"
          ]
        }
      ]
    },
    {
      "cell_type": "markdown",
      "source": [
        "# Build the Model\n"
      ],
      "metadata": {
        "id": "9g3N8b6EcJZ4"
      }
    },
    {
      "cell_type": "code",
      "source": [
        "import matplotlib.pyplot as plt\n",
        "import numpy as np\n",
        "from sklearn import datasets, linear_model\n",
        "from sklearn.metrics import mean_squared_error, r2_score\n",
        "\n",
        "regr = linear_model.LinearRegression()\n",
        "\n",
        "# Train the model using the training sets\n",
        "regr.fit(x_train, y_train)\n",
        "\n",
        "# Make predictions using the testing set\n",
        "y_pred = regr.predict(x_test)\n",
        "\n",
        "# The coefficients\n",
        "print(\"Coefficients:\", regr.coef_)\n",
        "print(\"-\" * 30)\n",
        "# The mean squared error\n",
        "print(\"Mean squared error: %.2f\" % mean_squared_error(y_test, y_pred))\n",
        "print(\"-\" * 30)\n",
        "\n",
        "# The coefficient of determination: 1 is perfect prediction\n",
        "print(\"Coefficient of determination: %.2f\" % r2_score(y_test, y_pred))\n"
      ],
      "metadata": {
        "colab": {
          "base_uri": "https://localhost:8080/"
        },
        "id": "QA7Fq1Ggb-uQ",
        "outputId": "aa7f4631-f1f1-484a-993a-b6872d7580f2"
      },
      "execution_count": 17,
      "outputs": [
        {
          "output_type": "stream",
          "name": "stdout",
          "text": [
            "Coefficients: [0.49840806]\n",
            "------------------------------\n",
            "Mean squared error: 2.05\n",
            "------------------------------\n",
            "Coefficient of determination: 0.96\n"
          ]
        }
      ]
    },
    {
      "source": [
        "prediction = regr.predict(x_test[[0]])\n",
        "prediction"
      ],
      "cell_type": "code",
      "metadata": {
        "colab": {
          "base_uri": "https://localhost:8080/"
        },
        "id": "7FPd-3DAjaUb",
        "outputId": "97db9300-839f-488a-e940-1b8a00526e10"
      },
      "execution_count": 18,
      "outputs": [
        {
          "output_type": "execute_result",
          "data": {
            "text/plain": [
              "array([4.43653938])"
            ]
          },
          "metadata": {},
          "execution_count": 18
        }
      ]
    },
    {
      "cell_type": "code",
      "source": [
        "y_test.iloc[0]"
      ],
      "metadata": {
        "colab": {
          "base_uri": "https://localhost:8080/"
        },
        "id": "_tM2scbOh4tr",
        "outputId": "066175a9-bf92-43d9-f50e-8e788629daa1"
      },
      "execution_count": 19,
      "outputs": [
        {
          "output_type": "execute_result",
          "data": {
            "text/plain": [
              "1.96891174757282"
            ]
          },
          "metadata": {},
          "execution_count": 19
        }
      ]
    },
    {
      "source": [
        "# Assuming 'Dur' is the most relevant feature for the scatter plot,\n",
        "# which is what you used for x during training:\n",
        "plt.scatter(x_test[:, 0], y_test, color=\"black\")  # Access the 'Dur' values directly\n",
        "\n",
        "# The rest of the code remains the same:\n",
        "plt.plot(x_test[:, 0], y_pred, color=\"blue\", linewidth=3)\n",
        "plt.xticks(())\n",
        "plt.yticks(())\n",
        "plt.show()"
      ],
      "cell_type": "code",
      "metadata": {
        "colab": {
          "base_uri": "https://localhost:8080/",
          "height": 460
        },
        "id": "XF7vffy4kj64",
        "outputId": "d16dfb12-4632-4ad2-a289-8662d3679e65"
      },
      "execution_count": 20,
      "outputs": [
        {
          "output_type": "display_data",
          "data": {
            "text/plain": [
              "<Figure size 800x550 with 1 Axes>"
            ],
            "image/png": "[encoded data removed]"
          },
          "metadata": {}
        }
      ]
    },
    {
      "cell_type": "code",
      "source": [],
      "metadata": {
        "id": "i1Pxs1jdk7FD"
      },
      "execution_count": 20,
      "outputs": []
    },
    {
      "cell_type": "code",
      "source": [
        "from sklearn.tree import DecisionTreeRegressor\n",
        "\n",
        "x= df.drop(['PPV','Gender'], axis=1)\n",
        "y= df['PPV']\n",
        "x_train, x_test, y_train, y_test = train_test_split(x, y,\n",
        "                                                    random_state=0)\n",
        "model2 = DecisionTreeRegressor()\n",
        "\n",
        "# Train the model using the training sets\n",
        "model2.fit(x_train, y_train)\n",
        "\n",
        "# Make predictions using the testing set\n",
        "y_pred = model2.predict(x_test)\n",
        "\n",
        "# The mean squared error\n",
        "print(\"Mean squared error: %.2f\" % mean_squared_error(y_test, y_pred))\n",
        "print(\"-\" * 30)\n",
        "\n",
        "# The coefficient of determination: 1 is perfect prediction\n",
        "print(\"Coefficient of determination: %.2f\" % r2_score(y_test, y_pred))"
      ],
      "metadata": {
        "colab": {
          "base_uri": "https://localhost:8080/"
        },
        "id": "CuzBw8PJkuSC",
        "outputId": "35697d93-cadc-4f33-97fe-ac3f8093f649"
      },
      "execution_count": 21,
      "outputs": [
        {
          "output_type": "stream",
          "name": "stdout",
          "text": [
            "Mean squared error: 0.21\n",
            "------------------------------\n",
            "Coefficient of determination: 1.00\n"
          ]
        }
      ]
    },
    {
      "cell_type": "code",
      "source": [
        "prediction = model2.predict(x_test.iloc[[0]])\n",
        "prediction"
      ],
      "metadata": {
        "colab": {
          "base_uri": "https://localhost:8080/"
        },
        "id": "xHkCj_cNuGZc",
        "outputId": "d4a473a4-578c-4a89-b0ae-6a74e2fe50a4"
      },
      "execution_count": 22,
      "outputs": [
        {
          "output_type": "execute_result",
          "data": {
            "text/plain": [
              "array([1.96690398])"
            ]
          },
          "metadata": {},
          "execution_count": 22
        }
      ]
    },
    {
      "source": [
        "from sklearn.tree import DecisionTreeRegressor\n",
        "from sklearn.preprocessing import OneHotEncoder\n",
        "import pandas as pd\n",
        "from sklearn.model_selection import train_test_split\n",
        "from sklearn.metrics import mean_squared_error, r2_score\n",
        "\n",
        "\n",
        "x = df.drop('PPV', axis=1)\n",
        "y = df['PPV']\n",
        "\n",
        "# Create a OneHotEncoder object\n",
        "encoder = OneHotEncoder(sparse_output=False, handle_unknown='ignore') # sparse_output=False for non-sparse matrix\n",
        "\n",
        "# Fit and transform the encoder on the 'Gender' column\n",
        "encoded_gender = encoder.fit_transform(x[['Gender']])\n",
        "\n",
        "# Get feature names after encoding\n",
        "encoded_feature_names = encoder.get_feature_names_out(['Gender'])\n",
        "\n",
        "# Create a DataFrame with the encoded features\n",
        "encoded_df = pd.DataFrame(encoded_gender, columns=encoded_feature_names, index=x.index)\n",
        "\n",
        "# Drop the original 'Gender' column and concatenate the encoded features\n",
        "x = x.drop('Gender', axis=1)\n",
        "x = pd.concat([x, encoded_df], axis=1)\n",
        "\n",
        "x_train, x_test, y_train, y_test = train_test_split(x, y, random_state=0)\n",
        "\n",
        "model2 = DecisionTreeRegressor()\n",
        "model2.fit(x_train, y_train)\n",
        "\n",
        "y_pred = model2.predict(x_test)\n",
        "\n",
        "print(\"Mean squared error: %.2f\" % mean_squared_error(y_test, y_pred))\n",
        "print(\"-\" * 30)\n",
        "print(\"Coefficient of determination: %.2f\" % r2_score(y_test, y_pred))"
      ],
      "cell_type": "code",
      "metadata": {
        "colab": {
          "base_uri": "https://localhost:8080/"
        },
        "id": "lm6balbrrO15",
        "outputId": "89450148-3a09-4516-98cf-74f2b2d9dc28"
      },
      "execution_count": 23,
      "outputs": [
        {
          "output_type": "stream",
          "name": "stdout",
          "text": [
            "Mean squared error: 0.01\n",
            "------------------------------\n",
            "Coefficient of determination: 1.00\n"
          ]
        }
      ]
    },
    {
      "source": [
        "prediction = model2.predict(x_test.iloc[[0]])\n",
        "prediction"
      ],
      "cell_type": "code",
      "metadata": {
        "colab": {
          "base_uri": "https://localhost:8080/"
        },
        "id": "KlMR83H0rnRs",
        "outputId": "66b5a0af-af59-4f01-f3df-3f79c8542ec8"
      },
      "execution_count": 24,
      "outputs": [
        {
          "output_type": "execute_result",
          "data": {
            "text/plain": [
              "array([1.96908019])"
            ]
          },
          "metadata": {},
          "execution_count": 24
        }
      ]
    },
    {
      "cell_type": "code",
      "source": [
        "y_test.iloc[0]"
      ],
      "metadata": {
        "colab": {
          "base_uri": "https://localhost:8080/"
        },
        "id": "AAXAxzb7qhxv",
        "outputId": "a3f81e33-1f3c-4ca3-deae-cf90e34c1dee"
      },
      "execution_count": 25,
      "outputs": [
        {
          "output_type": "execute_result",
          "data": {
            "text/plain": [
              "1.96891174757282"
            ]
          },
          "metadata": {},
          "execution_count": 25
        }
      ]
    },
    {
      "source": [
        "!pip install pycaret"
      ],
      "cell_type": "code",
      "metadata": {
        "colab": {
          "base_uri": "https://localhost:8080/"
        },
        "collapsed": true,
        "id": "a-kK-qVLnA_8",
        "outputId": "aaf77d03-b1af-4a7e-bb42-a64f38495aa8"
      },
      "execution_count": 26,
      "outputs": [
        {
          "output_type": "stream",
          "name": "stdout",
          "text": [
            "Requirement already satisfied: pycaret in /usr/local/lib/python3.10/dist-packages (3.3.2)\n",
            "Requirement already satisfied: ipython>=5.5.0 in /usr/local/lib/python3.10/dist-packages (from pycaret) (7.34.0)\n",
            "Requirement already satisfied: ipywidgets>=7.6.5 in /usr/local/lib/python3.10/dist-packages (from pycaret) (7.7.1)\n",
            "Requirement already satisfied: tqdm>=4.62.0 in /usr/local/lib/python3.10/dist-packages (from pycaret) (4.66.6)\n",
            "Requirement already satisfied: numpy<1.27,>=1.21 in /usr/local/lib/python3.10/dist-packages (from pycaret) (1.26.4)\n",
            "Requirement already satisfied: pandas<2.2.0 in /usr/local/lib/python3.10/dist-packages (from pycaret) (2.1.4)\n",
            "Requirement already satisfied: jinja2>=3 in /usr/local/lib/python3.10/dist-packages (from pycaret) (3.1.4)\n",
            "Requirement already satisfied: scipy<=1.11.4,>=1.6.1 in /usr/local/lib/python3.10/dist-packages (from pycaret) (1.11.4)\n",
            "Requirement already satisfied: joblib<1.4,>=1.2.0 in /usr/local/lib/python3.10/dist-packages (from pycaret) (1.3.2)\n",
            "Requirement already satisfied: scikit-learn>1.4.0 in /usr/local/lib/python3.10/dist-packages (from pycaret) (1.4.2)\n",
            "Requirement already satisfied: pyod>=1.1.3 in /usr/local/lib/python3.10/dist-packages (from pycaret) (2.0.2)\n",
            "Requirement already satisfied: imbalanced-learn>=0.12.0 in /usr/local/lib/python3.10/dist-packages (from pycaret) (0.12.4)\n",
            "Requirement already satisfied: category-encoders>=2.4.0 in /usr/local/lib/python3.10/dist-packages (from pycaret) (2.6.4)\n",
            "Requirement already satisfied: lightgbm>=3.0.0 in /usr/local/lib/python3.10/dist-packages (from pycaret) (4.5.0)\n",
            "Requirement already satisfied: numba>=0.55.0 in /usr/local/lib/python3.10/dist-packages (from pycaret) (0.60.0)\n",
            "Requirement already satisfied: requests>=2.27.1 in /usr/local/lib/python3.10/dist-packages (from pycaret) (2.32.3)\n",
            "Requirement already satisfied: psutil>=5.9.0 in /usr/local/lib/python3.10/dist-packages (from pycaret) (5.9.5)\n",
            "Requirement already satisfied: markupsafe>=2.0.1 in /usr/local/lib/python3.10/dist-packages (from pycaret) (3.0.2)\n",
            "Requirement already satisfied: importlib-metadata>=4.12.0 in /usr/local/lib/python3.10/dist-packages (from pycaret) (8.5.0)\n",
            "Requirement already satisfied: nbformat>=4.2.0 in /usr/local/lib/python3.10/dist-packages (from pycaret) (5.10.4)\n",
            "Requirement already satisfied: cloudpickle in /usr/local/lib/python3.10/dist-packages (from pycaret) (3.1.0)\n",
            "Requirement already satisfied: deprecation>=2.1.0 in /usr/local/lib/python3.10/dist-packages (from pycaret) (2.1.0)\n",
            "Requirement already satisfied: xxhash in /usr/local/lib/python3.10/dist-packages (from pycaret) (3.5.0)\n",
            "Requirement already satisfied: matplotlib<3.8.0 in /usr/local/lib/python3.10/dist-packages (from pycaret) (3.7.5)\n",
            "Requirement already satisfied: scikit-plot>=0.3.7 in /usr/local/lib/python3.10/dist-packages (from pycaret) (0.3.7)\n",
            "Requirement already satisfied: yellowbrick>=1.4 in /usr/local/lib/python3.10/dist-packages (from pycaret) (1.5)\n",
            "Requirement already satisfied: plotly>=5.14.0 in /usr/local/lib/python3.10/dist-packages (from pycaret) (5.24.1)\n",
            "Requirement already satisfied: kaleido>=0.2.1 in /usr/local/lib/python3.10/dist-packages (from pycaret) (0.2.1)\n",
            "Requirement already satisfied: schemdraw==0.15 in /usr/local/lib/python3.10/dist-packages (from pycaret) (0.15)\n",
            "Requirement already satisfied: plotly-resampler>=0.8.3.1 in /usr/local/lib/python3.10/dist-packages (from pycaret) (0.10.0)\n",
            "Requirement already satisfied: statsmodels>=0.12.1 in /usr/local/lib/python3.10/dist-packages (from pycaret) (0.14.4)\n",
            "Requirement already satisfied: sktime==0.26.0 in /usr/local/lib/python3.10/dist-packages (from pycaret) (0.26.0)\n",
            "Requirement already satisfied: tbats>=1.1.3 in /usr/local/lib/python3.10/dist-packages (from pycaret) (1.1.3)\n",
            "Requirement already satisfied: pmdarima>=2.0.4 in /usr/local/lib/python3.10/dist-packages (from pycaret) (2.0.4)\n",
            "Requirement already satisfied: wurlitzer in /usr/local/lib/python3.10/dist-packages (from pycaret) (3.1.1)\n",
            "Requirement already satisfied: packaging in /usr/local/lib/python3.10/dist-packages (from sktime==0.26.0->pycaret) (24.2)\n",
            "Requirement already satisfied: scikit-base<0.8.0 in /usr/local/lib/python3.10/dist-packages (from sktime==0.26.0->pycaret) (0.7.8)\n",
            "Requirement already satisfied: patsy>=0.5.1 in /usr/local/lib/python3.10/dist-packages (from category-encoders>=2.4.0->pycaret) (1.0.1)\n",
            "Requirement already satisfied: threadpoolctl>=2.0.0 in /usr/local/lib/python3.10/dist-packages (from imbalanced-learn>=0.12.0->pycaret) (3.5.0)\n",
            "Requirement already satisfied: zipp>=3.20 in /usr/local/lib/python3.10/dist-packages (from importlib-metadata>=4.12.0->pycaret) (3.21.0)\n",
            "Requirement already satisfied: setuptools>=18.5 in /usr/local/lib/python3.10/dist-packages (from ipython>=5.5.0->pycaret) (75.1.0)\n",
            "Requirement already satisfied: jedi>=0.16 in /usr/local/lib/python3.10/dist-packages (from ipython>=5.5.0->pycaret) (0.19.2)\n",
            "Requirement already satisfied: decorator in /usr/local/lib/python3.10/dist-packages (from ipython>=5.5.0->pycaret) (4.4.2)\n",
            "Requirement already satisfied: pickleshare in /usr/local/lib/python3.10/dist-packages (from ipython>=5.5.0->pycaret) (0.7.5)\n",
            "Requirement already satisfied: traitlets>=4.2 in /usr/local/lib/python3.10/dist-packages (from ipython>=5.5.0->pycaret) (5.7.1)\n",
            "Requirement already satisfied: prompt-toolkit!=3.0.0,!=3.0.1,<3.1.0,>=2.0.0 in /usr/local/lib/python3.10/dist-packages (from ipython>=5.5.0->pycaret) (3.0.48)\n",
            "Requirement already satisfied: pygments in /usr/local/lib/python3.10/dist-packages (from ipython>=5.5.0->pycaret) (2.18.0)\n",
            "Requirement already satisfied: backcall in /usr/local/lib/python3.10/dist-packages (from ipython>=5.5.0->pycaret) (0.2.0)\n",
            "Requirement already satisfied: matplotlib-inline in /usr/local/lib/python3.10/dist-packages (from ipython>=5.5.0->pycaret) (0.1.7)\n",
            "Requirement already satisfied: pexpect>4.3 in /usr/local/lib/python3.10/dist-packages (from ipython>=5.5.0->pycaret) (4.9.0)\n",
            "Requirement already satisfied: ipykernel>=4.5.1 in /usr/local/lib/python3.10/dist-packages (from ipywidgets>=7.6.5->pycaret) (5.5.6)\n",
            "Requirement already satisfied: ipython-genutils~=0.2.0 in /usr/local/lib/python3.10/dist-packages (from ipywidgets>=7.6.5->pycaret) (0.2.0)\n",
            "Requirement already satisfied: widgetsnbextension~=3.6.0 in /usr/local/lib/python3.10/dist-packages (from ipywidgets>=7.6.5->pycaret) (3.6.10)\n",
            "Requirement already satisfied: jupyterlab-widgets>=1.0.0 in /usr/local/lib/python3.10/dist-packages (from ipywidgets>=7.6.5->pycaret) (3.0.13)\n",
            "Requirement already satisfied: contourpy>=1.0.1 in /usr/local/lib/python3.10/dist-packages (from matplotlib<3.8.0->pycaret) (1.3.1)\n",
            "Requirement already satisfied: cycler>=0.10 in /usr/local/lib/python3.10/dist-packages (from matplotlib<3.8.0->pycaret) (0.12.1)\n",
            "Requirement already satisfied: fonttools>=4.22.0 in /usr/local/lib/python3.10/dist-packages (from matplotlib<3.8.0->pycaret) (4.55.3)\n",
            "Requirement already satisfied: kiwisolver>=1.0.1 in /usr/local/lib/python3.10/dist-packages (from matplotlib<3.8.0->pycaret) (1.4.7)\n",
            "Requirement already satisfied: pillow>=6.2.0 in /usr/local/lib/python3.10/dist-packages (from matplotlib<3.8.0->pycaret) (11.0.0)\n",
            "Requirement already satisfied: pyparsing>=2.3.1 in /usr/local/lib/python3.10/dist-packages (from matplotlib<3.8.0->pycaret) (3.2.0)\n",
            "Requirement already satisfied: python-dateutil>=2.7 in /usr/local/lib/python3.10/dist-packages (from matplotlib<3.8.0->pycaret) (2.8.2)\n",
            "Requirement already satisfied: fastjsonschema>=2.15 in /usr/local/lib/python3.10/dist-packages (from nbformat>=4.2.0->pycaret) (2.21.1)\n",
            "Requirement already satisfied: jsonschema>=2.6 in /usr/local/lib/python3.10/dist-packages (from nbformat>=4.2.0->pycaret) (4.23.0)\n",
            "Requirement already satisfied: jupyter-core!=5.0.*,>=4.12 in /usr/local/lib/python3.10/dist-packages (from nbformat>=4.2.0->pycaret) (5.7.2)\n",
            "Requirement already satisfied: llvmlite<0.44,>=0.43.0dev0 in /usr/local/lib/python3.10/dist-packages (from numba>=0.55.0->pycaret) (0.43.0)\n",
            "Requirement already satisfied: pytz>=2020.1 in /usr/local/lib/python3.10/dist-packages (from pandas<2.2.0->pycaret) (2024.2)\n",
            "Requirement already satisfied: tzdata>=2022.1 in /usr/local/lib/python3.10/dist-packages (from pandas<2.2.0->pycaret) (2024.2)\n",
            "Requirement already satisfied: tenacity>=6.2.0 in /usr/local/lib/python3.10/dist-packages (from plotly>=5.14.0->pycaret) (9.0.0)\n",
            "Requirement already satisfied: dash>=2.9.0 in /usr/local/lib/python3.10/dist-packages (from plotly-resampler>=0.8.3.1->pycaret) (2.18.2)\n",
            "Requirement already satisfied: orjson<4.0.0,>=3.8.0 in /usr/local/lib/python3.10/dist-packages (from plotly-resampler>=0.8.3.1->pycaret) (3.10.12)\n",
            "Requirement already satisfied: tsdownsample>=0.1.3 in /usr/local/lib/python3.10/dist-packages (from plotly-resampler>=0.8.3.1->pycaret) (0.1.3)\n",
            "Requirement already satisfied: Cython!=0.29.18,!=0.29.31,>=0.29 in /usr/local/lib/python3.10/dist-packages (from pmdarima>=2.0.4->pycaret) (3.0.11)\n",
            "Requirement already satisfied: urllib3 in /usr/local/lib/python3.10/dist-packages (from pmdarima>=2.0.4->pycaret) (2.2.3)\n",
            "Requirement already satisfied: charset-normalizer<4,>=2 in /usr/local/lib/python3.10/dist-packages (from requests>=2.27.1->pycaret) (3.4.0)\n",
            "Requirement already satisfied: idna<4,>=2.5 in /usr/local/lib/python3.10/dist-packages (from requests>=2.27.1->pycaret) (3.10)\n",
            "Requirement already satisfied: certifi>=2017.4.17 in /usr/local/lib/python3.10/dist-packages (from requests>=2.27.1->pycaret) (2024.8.30)\n",
            "Requirement already satisfied: Flask<3.1,>=1.0.4 in /usr/local/lib/python3.10/dist-packages (from dash>=2.9.0->plotly-resampler>=0.8.3.1->pycaret) (3.0.3)\n",
            "Requirement already satisfied: Werkzeug<3.1 in /usr/local/lib/python3.10/dist-packages (from dash>=2.9.0->plotly-resampler>=0.8.3.1->pycaret) (3.0.6)\n",
            "Requirement already satisfied: dash-html-components==2.0.0 in /usr/local/lib/python3.10/dist-packages (from dash>=2.9.0->plotly-resampler>=0.8.3.1->pycaret) (2.0.0)\n",
            "Requirement already satisfied: dash-core-components==2.0.0 in /usr/local/lib/python3.10/dist-packages (from dash>=2.9.0->plotly-resampler>=0.8.3.1->pycaret) (2.0.0)\n",
            "Requirement already satisfied: dash-table==5.0.0 in /usr/local/lib/python3.10/dist-packages (from dash>=2.9.0->plotly-resampler>=0.8.3.1->pycaret) (5.0.0)\n",
            "Requirement already satisfied: typing-extensions>=4.1.1 in /usr/local/lib/python3.10/dist-packages (from dash>=2.9.0->plotly-resampler>=0.8.3.1->pycaret) (4.12.2)\n",
            "Requirement already satisfied: retrying in /usr/local/lib/python3.10/dist-packages (from dash>=2.9.0->plotly-resampler>=0.8.3.1->pycaret) (1.3.4)\n",
            "Requirement already satisfied: nest-asyncio in /usr/local/lib/python3.10/dist-packages (from dash>=2.9.0->plotly-resampler>=0.8.3.1->pycaret) (1.6.0)\n",
            "Requirement already satisfied: jupyter-client in /usr/local/lib/python3.10/dist-packages (from ipykernel>=4.5.1->ipywidgets>=7.6.5->pycaret) (6.1.12)\n",
            "Requirement already satisfied: tornado>=4.2 in /usr/local/lib/python3.10/dist-packages (from ipykernel>=4.5.1->ipywidgets>=7.6.5->pycaret) (6.3.3)\n",
            "Requirement already satisfied: parso<0.9.0,>=0.8.4 in /usr/local/lib/python3.10/dist-packages (from jedi>=0.16->ipython>=5.5.0->pycaret) (0.8.4)\n",
            "Requirement already satisfied: attrs>=22.2.0 in /usr/local/lib/python3.10/dist-packages (from jsonschema>=2.6->nbformat>=4.2.0->pycaret) (24.2.0)\n",
            "Requirement already satisfied: jsonschema-specifications>=2023.03.6 in /usr/local/lib/python3.10/dist-packages (from jsonschema>=2.6->nbformat>=4.2.0->pycaret) (2024.10.1)\n",
            "Requirement already satisfied: referencing>=0.28.4 in /usr/local/lib/python3.10/dist-packages (from jsonschema>=2.6->nbformat>=4.2.0->pycaret) (0.35.1)\n",
            "Requirement already satisfied: rpds-py>=0.7.1 in /usr/local/lib/python3.10/dist-packages (from jsonschema>=2.6->nbformat>=4.2.0->pycaret) (0.22.3)\n",
            "Requirement already satisfied: platformdirs>=2.5 in /usr/local/lib/python3.10/dist-packages (from jupyter-core!=5.0.*,>=4.12->nbformat>=4.2.0->pycaret) (4.3.6)\n",
            "Requirement already satisfied: ptyprocess>=0.5 in /usr/local/lib/python3.10/dist-packages (from pexpect>4.3->ipython>=5.5.0->pycaret) (0.7.0)\n",
            "Requirement already satisfied: wcwidth in /usr/local/lib/python3.10/dist-packages (from prompt-toolkit!=3.0.0,!=3.0.1,<3.1.0,>=2.0.0->ipython>=5.5.0->pycaret) (0.2.13)\n",
            "Requirement already satisfied: six>=1.5 in /usr/local/lib/python3.10/dist-packages (from python-dateutil>=2.7->matplotlib<3.8.0->pycaret) (1.17.0)\n",
            "Requirement already satisfied: notebook>=4.4.1 in /usr/local/lib/python3.10/dist-packages (from widgetsnbextension~=3.6.0->ipywidgets>=7.6.5->pycaret) (6.5.5)\n",
            "Requirement already satisfied: itsdangerous>=2.1.2 in /usr/local/lib/python3.10/dist-packages (from Flask<3.1,>=1.0.4->dash>=2.9.0->plotly-resampler>=0.8.3.1->pycaret) (2.2.0)\n",
            "Requirement already satisfied: click>=8.1.3 in /usr/local/lib/python3.10/dist-packages (from Flask<3.1,>=1.0.4->dash>=2.9.0->plotly-resampler>=0.8.3.1->pycaret) (8.1.7)\n",
            "Requirement already satisfied: blinker>=1.6.2 in /usr/local/lib/python3.10/dist-packages (from Flask<3.1,>=1.0.4->dash>=2.9.0->plotly-resampler>=0.8.3.1->pycaret) (1.9.0)\n",
            "Requirement already satisfied: pyzmq<25,>=17 in /usr/local/lib/python3.10/dist-packages (from notebook>=4.4.1->widgetsnbextension~=3.6.0->ipywidgets>=7.6.5->pycaret) (24.0.1)\n",
            "Requirement already satisfied: argon2-cffi in /usr/local/lib/python3.10/dist-packages (from notebook>=4.4.1->widgetsnbextension~=3.6.0->ipywidgets>=7.6.5->pycaret) (23.1.0)\n",
            "Requirement already satisfied: nbconvert>=5 in /usr/local/lib/python3.10/dist-packages (from notebook>=4.4.1->widgetsnbextension~=3.6.0->ipywidgets>=7.6.5->pycaret) (7.16.4)\n",
            "Requirement already satisfied: Send2Trash>=1.8.0 in /usr/local/lib/python3.10/dist-packages (from notebook>=4.4.1->widgetsnbextension~=3.6.0->ipywidgets>=7.6.5->pycaret) (1.8.3)\n",
            "Requirement already satisfied: terminado>=0.8.3 in /usr/local/lib/python3.10/dist-packages (from notebook>=4.4.1->widgetsnbextension~=3.6.0->ipywidgets>=7.6.5->pycaret) (0.18.1)\n",
            "Requirement already satisfied: prometheus-client in /usr/local/lib/python3.10/dist-packages (from notebook>=4.4.1->widgetsnbextension~=3.6.0->ipywidgets>=7.6.5->pycaret) (0.21.1)\n",
            "Requirement already satisfied: nbclassic>=0.4.7 in /usr/local/lib/python3.10/dist-packages (from notebook>=4.4.1->widgetsnbextension~=3.6.0->ipywidgets>=7.6.5->pycaret) (1.1.0)\n",
            "Requirement already satisfied: notebook-shim>=0.2.3 in /usr/local/lib/python3.10/dist-packages (from nbclassic>=0.4.7->notebook>=4.4.1->widgetsnbextension~=3.6.0->ipywidgets>=7.6.5->pycaret) (0.2.4)\n",
            "Requirement already satisfied: beautifulsoup4 in /usr/local/lib/python3.10/dist-packages (from nbconvert>=5->notebook>=4.4.1->widgetsnbextension~=3.6.0->ipywidgets>=7.6.5->pycaret) (4.12.3)\n",
            "Requirement already satisfied: bleach!=5.0.0 in /usr/local/lib/python3.10/dist-packages (from nbconvert>=5->notebook>=4.4.1->widgetsnbextension~=3.6.0->ipywidgets>=7.6.5->pycaret) (6.2.0)\n",
            "Requirement already satisfied: defusedxml in /usr/local/lib/python3.10/dist-packages (from nbconvert>=5->notebook>=4.4.1->widgetsnbextension~=3.6.0->ipywidgets>=7.6.5->pycaret) (0.7.1)\n",
            "Requirement already satisfied: jupyterlab-pygments in /usr/local/lib/python3.10/dist-packages (from nbconvert>=5->notebook>=4.4.1->widgetsnbextension~=3.6.0->ipywidgets>=7.6.5->pycaret) (0.3.0)\n",
            "Requirement already satisfied: mistune<4,>=2.0.3 in /usr/local/lib/python3.10/dist-packages (from nbconvert>=5->notebook>=4.4.1->widgetsnbextension~=3.6.0->ipywidgets>=7.6.5->pycaret) (3.0.2)\n",
            "Requirement already satisfied: nbclient>=0.5.0 in /usr/local/lib/python3.10/dist-packages (from nbconvert>=5->notebook>=4.4.1->widgetsnbextension~=3.6.0->ipywidgets>=7.6.5->pycaret) (0.10.1)\n",
            "Requirement already satisfied: pandocfilters>=1.4.1 in /usr/local/lib/python3.10/dist-packages (from nbconvert>=5->notebook>=4.4.1->widgetsnbextension~=3.6.0->ipywidgets>=7.6.5->pycaret) (1.5.1)\n",
            "Requirement already satisfied: tinycss2 in /usr/local/lib/python3.10/dist-packages (from nbconvert>=5->notebook>=4.4.1->widgetsnbextension~=3.6.0->ipywidgets>=7.6.5->pycaret) (1.4.0)\n",
            "Requirement already satisfied: argon2-cffi-bindings in /usr/local/lib/python3.10/dist-packages (from argon2-cffi->notebook>=4.4.1->widgetsnbextension~=3.6.0->ipywidgets>=7.6.5->pycaret) (21.2.0)\n",
            "Requirement already satisfied: webencodings in /usr/local/lib/python3.10/dist-packages (from bleach!=5.0.0->nbconvert>=5->notebook>=4.4.1->widgetsnbextension~=3.6.0->ipywidgets>=7.6.5->pycaret) (0.5.1)\n",
            "Requirement already satisfied: jupyter-server<3,>=1.8 in /usr/local/lib/python3.10/dist-packages (from notebook-shim>=0.2.3->nbclassic>=0.4.7->notebook>=4.4.1->widgetsnbextension~=3.6.0->ipywidgets>=7.6.5->pycaret) (1.24.0)\n",
            "Requirement already satisfied: cffi>=1.0.1 in /usr/local/lib/python3.10/dist-packages (from argon2-cffi-bindings->argon2-cffi->notebook>=4.4.1->widgetsnbextension~=3.6.0->ipywidgets>=7.6.5->pycaret) (1.17.1)\n",
            "Requirement already satisfied: soupsieve>1.2 in /usr/local/lib/python3.10/dist-packages (from beautifulsoup4->nbconvert>=5->notebook>=4.4.1->widgetsnbextension~=3.6.0->ipywidgets>=7.6.5->pycaret) (2.6)\n",
            "Requirement already satisfied: pycparser in /usr/local/lib/python3.10/dist-packages (from cffi>=1.0.1->argon2-cffi-bindings->argon2-cffi->notebook>=4.4.1->widgetsnbextension~=3.6.0->ipywidgets>=7.6.5->pycaret) (2.22)\n",
            "Requirement already satisfied: anyio<4,>=3.1.0 in /usr/local/lib/python3.10/dist-packages (from jupyter-server<3,>=1.8->notebook-shim>=0.2.3->nbclassic>=0.4.7->notebook>=4.4.1->widgetsnbextension~=3.6.0->ipywidgets>=7.6.5->pycaret) (3.7.1)\n",
            "Requirement already satisfied: websocket-client in /usr/local/lib/python3.10/dist-packages (from jupyter-server<3,>=1.8->notebook-shim>=0.2.3->nbclassic>=0.4.7->notebook>=4.4.1->widgetsnbextension~=3.6.0->ipywidgets>=7.6.5->pycaret) (1.8.0)\n",
            "Requirement already satisfied: sniffio>=1.1 in /usr/local/lib/python3.10/dist-packages (from anyio<4,>=3.1.0->jupyter-server<3,>=1.8->notebook-shim>=0.2.3->nbclassic>=0.4.7->notebook>=4.4.1->widgetsnbextension~=3.6.0->ipywidgets>=7.6.5->pycaret) (1.3.1)\n",
            "Requirement already satisfied: exceptiongroup in /usr/local/lib/python3.10/dist-packages (from anyio<4,>=3.1.0->jupyter-server<3,>=1.8->notebook-shim>=0.2.3->nbclassic>=0.4.7->notebook>=4.4.1->widgetsnbextension~=3.6.0->ipywidgets>=7.6.5->pycaret) (1.2.2)\n"
          ]
        }
      ]
    },
    {
      "source": [
        "from pycaret.regression import *\n",
        "\n",
        "def predict_ppv(data):\n",
        "  \"\"\"\n",
        "  Predicts PPV values using PyCaret.\n",
        "\n",
        "  Args:\n",
        "    data: Pandas DataFrame containing columns: Gender, Age, Dur, PPV\n",
        "\n",
        "  Returns:\n",
        "    Trained PyCaret model and predictions.\n",
        "  \"\"\"\n",
        "\n",
        "  # 1. Data Setup\n",
        "  # Remove ignore_features=['PPV'] as it's handled internally\n",
        "  exp = setup(data, target='PPV',\n",
        "              numeric_features=['Age', 'Dur'],  # Specify numeric features\n",
        "              categorical_features=['Gender'],\n",
        "              session_id=123)  # For reproducibility\n",
        "\n",
        "  # 2. Model Selection (Example: Light Gradient Boosting Machine)\n",
        "  # Choose a suitable model based on the dataset characteristics and evaluation metrics.\n",
        "  # LightGBM often performs well for regression tasks.\n",
        "  best_model = compare_models(sort='MAE')\n",
        "\n",
        "  # 3. Model Tuning (Optional)\n",
        "  # Tune hyperparameters for better performance\n",
        "  tuned_model = tune_model(best_model)\n",
        "\n",
        "  # 4. Finalize Model\n",
        "  final_model = finalize_model(tuned_model)\n",
        "\n",
        "  # 5. Make Predictions\n",
        "  predictions = predict_model(final_model, data)\n",
        "\n",
        "  return final_model, predictions\n",
        "\n",
        "# Example Usage:\n",
        "# Assuming you have your data in a pandas DataFrame named 'df'\n",
        "model, predictions = predict_ppv(df)\n",
        "\n",
        "# Evaluate Performance\n",
        "print(model)\n",
        "# Change 'Label' to 'prediction_label' to access the predicted values\n",
        "print(predictions[['PPV', 'prediction_label']])  # Actual PPV vs. Predicted PPV\n",
        "\n",
        "# Calculate Metrics (example: MAE)\n",
        "# Remove the metrics argument. evaluate_model will return R2 by default for regression\n",
        "mae = evaluate_model(model)\n",
        "print(f\"R2: {mae}\") # Print R2"
      ],
      "cell_type": "code",
      "metadata": {
        "colab": {
          "base_uri": "https://localhost:8080/",
          "height": 1000,
          "referenced_widgets": [
            "233630a7862741d8a68a87010a0c09d4",
            "226932d194ab4beba965a10f1833ea4e",
            "3f59b229bbb447d0830e0079e428b9d8",
            "7548435d795e495089ffacebc55685ed",
            "024e39c07a674b9ab0538b712bd3f8ea",
            "6fb4990c6f944b608c297ee685475bdf",
            "075d7e01649d442d9b8c89476e2183c2",
            "2f6e6b779cdc4841a4764484f8248031",
            "2c76c41e07fe4ddc8d8800a7e7b0d601",
            "79fc54dc8f4945d38446ef9db08da7d7",
            "83cfd4d41f1e471bbe330168af85786f",
            "13094375c4bb4a5bb5892fee74a1ef1c",
            "d3874e1e97884a26888f7e116acc4c09",
            "dc8491ebbd6f42bb8dc545fa38c79af1",
            "e3d4481ad2c14ec0880c57147f9a6607",
            "3c248ae4b3674cf3a097df3d5afd817f",
            "881483d3c77d42c0aa57284b24730070",
            "66ac7c30dcfc489ea38c4fcc355cc3c5",
            "71a59c601137493ca22a8c2058ccfc57",
            "ca038bfdc1fb4539897aef34f81c9682",
            "bcdb0b3742a24b87a29b29d1250c8453",
            "e462ef01d9bb420688e5c610ddc1712d",
            "022d97aeac5b49cf9f9a1ceb40e9465b",
            "6aee63d897d54b13afc730f9c46dbe91",
            "b9ab523f707649c8a24afae058399912",
            "4d3d95c70e4647f8b40e6a2dfe0b428c",
            "9bc78460366c47938e2df7798c6a7c63",
            "e661077180df40458e0c8f4a43d532d8",
            "2b3d1978984e4d11949e203df65eb73c"
          ]
        },
        "id": "2fRXdJuEq5Kv",
        "outputId": "edb71fb2-7f74-4a1c-8d3f-acbea5da8cf2"
      },
      "execution_count": 27,
      "outputs": [
        {
          "output_type": "display_data",
          "data": {
            "text/plain": [
              "<pandas.io.formats.style.Styler at 0x7a6069106a40>"
            ],
            "text/html": [
              "<style type=\"text/css\">\n",
              "#T_b2fdd_row9_col1 {\n",
              "  background-color: lightgreen;\n",
              "}\n",
              "</style>\n",
              "<table id=\"T_b2fdd\" class=\"dataframe\">\n",
              "  <thead>\n",
              "    <tr>\n",
              "      <th class=\"blank level0\" >&nbsp;</th>\n",
              "      <th id=\"T_b2fdd_level0_col0\" class=\"col_heading level0 col0\" >Description</th>\n",
              "      <th id=\"T_b2fdd_level0_col1\" class=\"col_heading level0 col1\" >Value</th>\n",
              "    </tr>\n",
              "  </thead>\n",
              "  <tbody>\n",
              "    <tr>\n",
              "      <th id=\"T_b2fdd_level0_row0\" class=\"row_heading level0 row0\" >0</th>\n",
              "      <td id=\"T_b2fdd_row0_col0\" class=\"data row0 col0\" >Session id</td>\n",
              "      <td id=\"T_b2fdd_row0_col1\" class=\"data row0 col1\" >123</td>\n",
              "    </tr>\n",
              "    <tr>\n",
              "      <th id=\"T_b2fdd_level0_row1\" class=\"row_heading level0 row1\" >1</th>\n",
              "      <td id=\"T_b2fdd_row1_col0\" class=\"data row1 col0\" >Target</td>\n",
              "      <td id=\"T_b2fdd_row1_col1\" class=\"data row1 col1\" >PPV</td>\n",
              "    </tr>\n",
              "    <tr>\n",
              "      <th id=\"T_b2fdd_level0_row2\" class=\"row_heading level0 row2\" >2</th>\n",
              "      <td id=\"T_b2fdd_row2_col0\" class=\"data row2 col0\" >Target type</td>\n",
              "      <td id=\"T_b2fdd_row2_col1\" class=\"data row2 col1\" >Regression</td>\n",
              "    </tr>\n",
              "    <tr>\n",
              "      <th id=\"T_b2fdd_level0_row3\" class=\"row_heading level0 row3\" >3</th>\n",
              "      <td id=\"T_b2fdd_row3_col0\" class=\"data row3 col0\" >Original data shape</td>\n",
              "      <td id=\"T_b2fdd_row3_col1\" class=\"data row3 col1\" >(5270, 4)</td>\n",
              "    </tr>\n",
              "    <tr>\n",
              "      <th id=\"T_b2fdd_level0_row4\" class=\"row_heading level0 row4\" >4</th>\n",
              "      <td id=\"T_b2fdd_row4_col0\" class=\"data row4 col0\" >Transformed data shape</td>\n",
              "      <td id=\"T_b2fdd_row4_col1\" class=\"data row4 col1\" >(5270, 4)</td>\n",
              "    </tr>\n",
              "    <tr>\n",
              "      <th id=\"T_b2fdd_level0_row5\" class=\"row_heading level0 row5\" >5</th>\n",
              "      <td id=\"T_b2fdd_row5_col0\" class=\"data row5 col0\" >Transformed train set shape</td>\n",
              "      <td id=\"T_b2fdd_row5_col1\" class=\"data row5 col1\" >(3688, 4)</td>\n",
              "    </tr>\n",
              "    <tr>\n",
              "      <th id=\"T_b2fdd_level0_row6\" class=\"row_heading level0 row6\" >6</th>\n",
              "      <td id=\"T_b2fdd_row6_col0\" class=\"data row6 col0\" >Transformed test set shape</td>\n",
              "      <td id=\"T_b2fdd_row6_col1\" class=\"data row6 col1\" >(1582, 4)</td>\n",
              "    </tr>\n",
              "    <tr>\n",
              "      <th id=\"T_b2fdd_level0_row7\" class=\"row_heading level0 row7\" >7</th>\n",
              "      <td id=\"T_b2fdd_row7_col0\" class=\"data row7 col0\" >Numeric features</td>\n",
              "      <td id=\"T_b2fdd_row7_col1\" class=\"data row7 col1\" >2</td>\n",
              "    </tr>\n",
              "    <tr>\n",
              "      <th id=\"T_b2fdd_level0_row8\" class=\"row_heading level0 row8\" >8</th>\n",
              "      <td id=\"T_b2fdd_row8_col0\" class=\"data row8 col0\" >Categorical features</td>\n",
              "      <td id=\"T_b2fdd_row8_col1\" class=\"data row8 col1\" >1</td>\n",
              "    </tr>\n",
              "    <tr>\n",
              "      <th id=\"T_b2fdd_level0_row9\" class=\"row_heading level0 row9\" >9</th>\n",
              "      <td id=\"T_b2fdd_row9_col0\" class=\"data row9 col0\" >Preprocess</td>\n",
              "      <td id=\"T_b2fdd_row9_col1\" class=\"data row9 col1\" >True</td>\n",
              "    </tr>\n",
              "    <tr>\n",
              "      <th id=\"T_b2fdd_level0_row10\" class=\"row_heading level0 row10\" >10</th>\n",
              "      <td id=\"T_b2fdd_row10_col0\" class=\"data row10 col0\" >Imputation type</td>\n",
              "      <td id=\"T_b2fdd_row10_col1\" class=\"data row10 col1\" >simple</td>\n",
              "    </tr>\n",
              "    <tr>\n",
              "      <th id=\"T_b2fdd_level0_row11\" class=\"row_heading level0 row11\" >11</th>\n",
              "      <td id=\"T_b2fdd_row11_col0\" class=\"data row11 col0\" >Numeric imputation</td>\n",
              "      <td id=\"T_b2fdd_row11_col1\" class=\"data row11 col1\" >mean</td>\n",
              "    </tr>\n",
              "    <tr>\n",
              "      <th id=\"T_b2fdd_level0_row12\" class=\"row_heading level0 row12\" >12</th>\n",
              "      <td id=\"T_b2fdd_row12_col0\" class=\"data row12 col0\" >Categorical imputation</td>\n",
              "      <td id=\"T_b2fdd_row12_col1\" class=\"data row12 col1\" >mode</td>\n",
              "    </tr>\n",
              "    <tr>\n",
              "      <th id=\"T_b2fdd_level0_row13\" class=\"row_heading level0 row13\" >13</th>\n",
              "      <td id=\"T_b2fdd_row13_col0\" class=\"data row13 col0\" >Maximum one-hot encoding</td>\n",
              "      <td id=\"T_b2fdd_row13_col1\" class=\"data row13 col1\" >25</td>\n",
              "    </tr>\n",
              "    <tr>\n",
              "      <th id=\"T_b2fdd_level0_row14\" class=\"row_heading level0 row14\" >14</th>\n",
              "      <td id=\"T_b2fdd_row14_col0\" class=\"data row14 col0\" >Encoding method</td>\n",
              "      <td id=\"T_b2fdd_row14_col1\" class=\"data row14 col1\" >None</td>\n",
              "    </tr>\n",
              "    <tr>\n",
              "      <th id=\"T_b2fdd_level0_row15\" class=\"row_heading level0 row15\" >15</th>\n",
              "      <td id=\"T_b2fdd_row15_col0\" class=\"data row15 col0\" >Fold Generator</td>\n",
              "      <td id=\"T_b2fdd_row15_col1\" class=\"data row15 col1\" >KFold</td>\n",
              "    </tr>\n",
              "    <tr>\n",
              "      <th id=\"T_b2fdd_level0_row16\" class=\"row_heading level0 row16\" >16</th>\n",
              "      <td id=\"T_b2fdd_row16_col0\" class=\"data row16 col0\" >Fold Number</td>\n",
              "      <td id=\"T_b2fdd_row16_col1\" class=\"data row16 col1\" >10</td>\n",
              "    </tr>\n",
              "    <tr>\n",
              "      <th id=\"T_b2fdd_level0_row17\" class=\"row_heading level0 row17\" >17</th>\n",
              "      <td id=\"T_b2fdd_row17_col0\" class=\"data row17 col0\" >CPU Jobs</td>\n",
              "      <td id=\"T_b2fdd_row17_col1\" class=\"data row17 col1\" >-1</td>\n",
              "    </tr>\n",
              "    <tr>\n",
              "      <th id=\"T_b2fdd_level0_row18\" class=\"row_heading level0 row18\" >18</th>\n",
              "      <td id=\"T_b2fdd_row18_col0\" class=\"data row18 col0\" >Use GPU</td>\n",
              "      <td id=\"T_b2fdd_row18_col1\" class=\"data row18 col1\" >False</td>\n",
              "    </tr>\n",
              "    <tr>\n",
              "      <th id=\"T_b2fdd_level0_row19\" class=\"row_heading level0 row19\" >19</th>\n",
              "      <td id=\"T_b2fdd_row19_col0\" class=\"data row19 col0\" >Log Experiment</td>\n",
              "      <td id=\"T_b2fdd_row19_col1\" class=\"data row19 col1\" >False</td>\n",
              "    </tr>\n",
              "    <tr>\n",
              "      <th id=\"T_b2fdd_level0_row20\" class=\"row_heading level0 row20\" >20</th>\n",
              "      <td id=\"T_b2fdd_row20_col0\" class=\"data row20 col0\" >Experiment Name</td>\n",
              "      <td id=\"T_b2fdd_row20_col1\" class=\"data row20 col1\" >reg-default-name</td>\n",
              "    </tr>\n",
              "    <tr>\n",
              "      <th id=\"T_b2fdd_level0_row21\" class=\"row_heading level0 row21\" >21</th>\n",
              "      <td id=\"T_b2fdd_row21_col0\" class=\"data row21 col0\" >USI</td>\n",
              "      <td id=\"T_b2fdd_row21_col1\" class=\"data row21 col1\" >b7bd</td>\n",
              "    </tr>\n",
              "  </tbody>\n",
              "</table>\n"
            ]
          },
          "metadata": {}
        },
        {
          "output_type": "display_data",
          "data": {
            "text/plain": [
              "<IPython.core.display.HTML object>"
            ],
            "text/html": []
          },
          "metadata": {}
        },
        {
          "output_type": "display_data",
          "data": {
            "text/plain": [
              "<pandas.io.formats.style.Styler at 0x7a60d4c37c40>"
            ],
            "text/html": [
              "<style type=\"text/css\">\n",
              "#T_3fcba th {\n",
              "  text-align: left;\n",
              "}\n",
              "#T_3fcba_row0_col0, #T_3fcba_row1_col0, #T_3fcba_row1_col1, #T_3fcba_row1_col2, #T_3fcba_row1_col3, #T_3fcba_row1_col4, #T_3fcba_row1_col5, #T_3fcba_row1_col6, #T_3fcba_row2_col0, #T_3fcba_row2_col1, #T_3fcba_row2_col2, #T_3fcba_row2_col3, #T_3fcba_row2_col4, #T_3fcba_row2_col5, #T_3fcba_row2_col6, #T_3fcba_row3_col0, #T_3fcba_row3_col1, #T_3fcba_row3_col2, #T_3fcba_row3_col3, #T_3fcba_row3_col4, #T_3fcba_row3_col5, #T_3fcba_row3_col6, #T_3fcba_row4_col0, #T_3fcba_row4_col1, #T_3fcba_row4_col2, #T_3fcba_row4_col3, #T_3fcba_row4_col4, #T_3fcba_row4_col5, #T_3fcba_row4_col6, #T_3fcba_row5_col0, #T_3fcba_row5_col1, #T_3fcba_row5_col2, #T_3fcba_row5_col3, #T_3fcba_row5_col4, #T_3fcba_row5_col5, #T_3fcba_row5_col6, #T_3fcba_row6_col0, #T_3fcba_row6_col1, #T_3fcba_row6_col2, #T_3fcba_row6_col3, #T_3fcba_row6_col4, #T_3fcba_row6_col5, #T_3fcba_row6_col6, #T_3fcba_row7_col0, #T_3fcba_row7_col1, #T_3fcba_row7_col2, #T_3fcba_row7_col3, #T_3fcba_row7_col4, #T_3fcba_row7_col5, #T_3fcba_row7_col6, #T_3fcba_row8_col0, #T_3fcba_row8_col1, #T_3fcba_row8_col2, #T_3fcba_row8_col3, #T_3fcba_row8_col4, #T_3fcba_row8_col5, #T_3fcba_row8_col6, #T_3fcba_row9_col0, #T_3fcba_row9_col1, #T_3fcba_row9_col2, #T_3fcba_row9_col3, #T_3fcba_row9_col4, #T_3fcba_row9_col5, #T_3fcba_row9_col6, #T_3fcba_row10_col0, #T_3fcba_row10_col1, #T_3fcba_row10_col2, #T_3fcba_row10_col3, #T_3fcba_row10_col4, #T_3fcba_row10_col5, #T_3fcba_row10_col6, #T_3fcba_row11_col0, #T_3fcba_row11_col1, #T_3fcba_row11_col2, #T_3fcba_row11_col3, #T_3fcba_row11_col4, #T_3fcba_row11_col5, #T_3fcba_row11_col6, #T_3fcba_row12_col0, #T_3fcba_row12_col1, #T_3fcba_row12_col2, #T_3fcba_row12_col3, #T_3fcba_row12_col4, #T_3fcba_row12_col5, #T_3fcba_row12_col6, #T_3fcba_row13_col0, #T_3fcba_row13_col1, #T_3fcba_row13_col2, #T_3fcba_row13_col3, #T_3fcba_row13_col4, #T_3fcba_row13_col5, #T_3fcba_row13_col6, #T_3fcba_row14_col0, #T_3fcba_row14_col1, #T_3fcba_row14_col2, #T_3fcba_row14_col3, #T_3fcba_row14_col4, #T_3fcba_row14_col5, #T_3fcba_row14_col6, #T_3fcba_row15_col0, #T_3fcba_row15_col1, #T_3fcba_row15_col2, #T_3fcba_row15_col3, #T_3fcba_row15_col4, #T_3fcba_row15_col5, #T_3fcba_row15_col6, #T_3fcba_row16_col0, #T_3fcba_row16_col1, #T_3fcba_row16_col2, #T_3fcba_row16_col3, #T_3fcba_row16_col4, #T_3fcba_row16_col5, #T_3fcba_row16_col6, #T_3fcba_row17_col0, #T_3fcba_row17_col1, #T_3fcba_row17_col2, #T_3fcba_row17_col3, #T_3fcba_row17_col4, #T_3fcba_row17_col5, #T_3fcba_row17_col6, #T_3fcba_row18_col0, #T_3fcba_row18_col1, #T_3fcba_row18_col2, #T_3fcba_row18_col3, #T_3fcba_row18_col4, #T_3fcba_row18_col5, #T_3fcba_row18_col6 {\n",
              "  text-align: left;\n",
              "}\n",
              "#T_3fcba_row0_col1, #T_3fcba_row0_col2, #T_3fcba_row0_col3, #T_3fcba_row0_col4, #T_3fcba_row0_col5, #T_3fcba_row0_col6 {\n",
              "  text-align: left;\n",
              "  background-color: yellow;\n",
              "}\n",
              "#T_3fcba_row0_col7, #T_3fcba_row1_col7, #T_3fcba_row2_col7, #T_3fcba_row3_col7, #T_3fcba_row5_col7, #T_3fcba_row6_col7, #T_3fcba_row7_col7, #T_3fcba_row8_col7, #T_3fcba_row9_col7, #T_3fcba_row10_col7, #T_3fcba_row11_col7, #T_3fcba_row12_col7, #T_3fcba_row13_col7, #T_3fcba_row14_col7, #T_3fcba_row15_col7, #T_3fcba_row16_col7, #T_3fcba_row17_col7, #T_3fcba_row18_col7 {\n",
              "  text-align: left;\n",
              "  background-color: lightgrey;\n",
              "}\n",
              "#T_3fcba_row4_col7 {\n",
              "  text-align: left;\n",
              "  background-color: yellow;\n",
              "  background-color: lightgrey;\n",
              "}\n",
              "</style>\n",
              "<table id=\"T_3fcba\" class=\"dataframe\">\n",
              "  <thead>\n",
              "    <tr>\n",
              "      <th class=\"blank level0\" >&nbsp;</th>\n",
              "      <th id=\"T_3fcba_level0_col0\" class=\"col_heading level0 col0\" >Model</th>\n",
              "      <th id=\"T_3fcba_level0_col1\" class=\"col_heading level0 col1\" >MAE</th>\n",
              "      <th id=\"T_3fcba_level0_col2\" class=\"col_heading level0 col2\" >MSE</th>\n",
              "      <th id=\"T_3fcba_level0_col3\" class=\"col_heading level0 col3\" >RMSE</th>\n",
              "      <th id=\"T_3fcba_level0_col4\" class=\"col_heading level0 col4\" >R2</th>\n",
              "      <th id=\"T_3fcba_level0_col5\" class=\"col_heading level0 col5\" >RMSLE</th>\n",
              "      <th id=\"T_3fcba_level0_col6\" class=\"col_heading level0 col6\" >MAPE</th>\n",
              "      <th id=\"T_3fcba_level0_col7\" class=\"col_heading level0 col7\" >TT (Sec)</th>\n",
              "    </tr>\n",
              "  </thead>\n",
              "  <tbody>\n",
              "    <tr>\n",
              "      <th id=\"T_3fcba_level0_row0\" class=\"row_heading level0 row0\" >et</th>\n",
              "      <td id=\"T_3fcba_row0_col0\" class=\"data row0 col0\" >Extra Trees Regressor</td>\n",
              "      <td id=\"T_3fcba_row0_col1\" class=\"data row0 col1\" >0.0107</td>\n",
              "      <td id=\"T_3fcba_row0_col2\" class=\"data row0 col2\" >0.0010</td>\n",
              "      <td id=\"T_3fcba_row0_col3\" class=\"data row0 col3\" >0.0308</td>\n",
              "      <td id=\"T_3fcba_row0_col4\" class=\"data row0 col4\" >1.0000</td>\n",
              "      <td id=\"T_3fcba_row0_col5\" class=\"data row0 col5\" >0.0024</td>\n",
              "      <td id=\"T_3fcba_row0_col6\" class=\"data row0 col6\" >0.0008</td>\n",
              "      <td id=\"T_3fcba_row0_col7\" class=\"data row0 col7\" >0.6850</td>\n",
              "    </tr>\n",
              "    <tr>\n",
              "      <th id=\"T_3fcba_level0_row1\" class=\"row_heading level0 row1\" >xgboost</th>\n",
              "      <td id=\"T_3fcba_row1_col0\" class=\"data row1 col0\" >Extreme Gradient Boosting</td>\n",
              "      <td id=\"T_3fcba_row1_col1\" class=\"data row1 col1\" >0.0321</td>\n",
              "      <td id=\"T_3fcba_row1_col2\" class=\"data row1 col2\" >0.0035</td>\n",
              "      <td id=\"T_3fcba_row1_col3\" class=\"data row1 col3\" >0.0589</td>\n",
              "      <td id=\"T_3fcba_row1_col4\" class=\"data row1 col4\" >0.9999</td>\n",
              "      <td id=\"T_3fcba_row1_col5\" class=\"data row1 col5\" >0.0040</td>\n",
              "      <td id=\"T_3fcba_row1_col6\" class=\"data row1 col6\" >0.0024</td>\n",
              "      <td id=\"T_3fcba_row1_col7\" class=\"data row1 col7\" >0.0980</td>\n",
              "    </tr>\n",
              "    <tr>\n",
              "      <th id=\"T_3fcba_level0_row2\" class=\"row_heading level0 row2\" >lightgbm</th>\n",
              "      <td id=\"T_3fcba_row2_col0\" class=\"data row2 col0\" >Light Gradient Boosting Machine</td>\n",
              "      <td id=\"T_3fcba_row2_col1\" class=\"data row2 col1\" >0.0346</td>\n",
              "      <td id=\"T_3fcba_row2_col2\" class=\"data row2 col2\" >0.0046</td>\n",
              "      <td id=\"T_3fcba_row2_col3\" class=\"data row2 col3\" >0.0672</td>\n",
              "      <td id=\"T_3fcba_row2_col4\" class=\"data row2 col4\" >0.9999</td>\n",
              "      <td id=\"T_3fcba_row2_col5\" class=\"data row2 col5\" >0.0048</td>\n",
              "      <td id=\"T_3fcba_row2_col6\" class=\"data row2 col6\" >0.0028</td>\n",
              "      <td id=\"T_3fcba_row2_col7\" class=\"data row2 col7\" >0.1370</td>\n",
              "    </tr>\n",
              "    <tr>\n",
              "      <th id=\"T_3fcba_level0_row3\" class=\"row_heading level0 row3\" >rf</th>\n",
              "      <td id=\"T_3fcba_row3_col0\" class=\"data row3 col0\" >Random Forest Regressor</td>\n",
              "      <td id=\"T_3fcba_row3_col1\" class=\"data row3 col1\" >0.0376</td>\n",
              "      <td id=\"T_3fcba_row3_col2\" class=\"data row3 col2\" >0.0048</td>\n",
              "      <td id=\"T_3fcba_row3_col3\" class=\"data row3 col3\" >0.0682</td>\n",
              "      <td id=\"T_3fcba_row3_col4\" class=\"data row3 col4\" >0.9999</td>\n",
              "      <td id=\"T_3fcba_row3_col5\" class=\"data row3 col5\" >0.0054</td>\n",
              "      <td id=\"T_3fcba_row3_col6\" class=\"data row3 col6\" >0.0029</td>\n",
              "      <td id=\"T_3fcba_row3_col7\" class=\"data row3 col7\" >0.4620</td>\n",
              "    </tr>\n",
              "    <tr>\n",
              "      <th id=\"T_3fcba_level0_row4\" class=\"row_heading level0 row4\" >dt</th>\n",
              "      <td id=\"T_3fcba_row4_col0\" class=\"data row4 col0\" >Decision Tree Regressor</td>\n",
              "      <td id=\"T_3fcba_row4_col1\" class=\"data row4 col1\" >0.0551</td>\n",
              "      <td id=\"T_3fcba_row4_col2\" class=\"data row4 col2\" >0.0108</td>\n",
              "      <td id=\"T_3fcba_row4_col3\" class=\"data row4 col3\" >0.1036</td>\n",
              "      <td id=\"T_3fcba_row4_col4\" class=\"data row4 col4\" >0.9998</td>\n",
              "      <td id=\"T_3fcba_row4_col5\" class=\"data row4 col5\" >0.0070</td>\n",
              "      <td id=\"T_3fcba_row4_col6\" class=\"data row4 col6\" >0.0038</td>\n",
              "      <td id=\"T_3fcba_row4_col7\" class=\"data row4 col7\" >0.0460</td>\n",
              "    </tr>\n",
              "    <tr>\n",
              "      <th id=\"T_3fcba_level0_row5\" class=\"row_heading level0 row5\" >gbr</th>\n",
              "      <td id=\"T_3fcba_row5_col0\" class=\"data row5 col0\" >Gradient Boosting Regressor</td>\n",
              "      <td id=\"T_3fcba_row5_col1\" class=\"data row5 col1\" >0.0770</td>\n",
              "      <td id=\"T_3fcba_row5_col2\" class=\"data row5 col2\" >0.0168</td>\n",
              "      <td id=\"T_3fcba_row5_col3\" class=\"data row5 col3\" >0.1289</td>\n",
              "      <td id=\"T_3fcba_row5_col4\" class=\"data row5 col4\" >0.9997</td>\n",
              "      <td id=\"T_3fcba_row5_col5\" class=\"data row5 col5\" >0.0115</td>\n",
              "      <td id=\"T_3fcba_row5_col6\" class=\"data row5 col6\" >0.0080</td>\n",
              "      <td id=\"T_3fcba_row5_col7\" class=\"data row5 col7\" >0.1680</td>\n",
              "    </tr>\n",
              "    <tr>\n",
              "      <th id=\"T_3fcba_level0_row6\" class=\"row_heading level0 row6\" >knn</th>\n",
              "      <td id=\"T_3fcba_row6_col0\" class=\"data row6 col0\" >K Neighbors Regressor</td>\n",
              "      <td id=\"T_3fcba_row6_col1\" class=\"data row6 col1\" >0.1797</td>\n",
              "      <td id=\"T_3fcba_row6_col2\" class=\"data row6 col2\" >0.0621</td>\n",
              "      <td id=\"T_3fcba_row6_col3\" class=\"data row6 col3\" >0.2489</td>\n",
              "      <td id=\"T_3fcba_row6_col4\" class=\"data row6 col4\" >0.9987</td>\n",
              "      <td id=\"T_3fcba_row6_col5\" class=\"data row6 col5\" >0.0407</td>\n",
              "      <td id=\"T_3fcba_row6_col6\" class=\"data row6 col6\" >0.0272</td>\n",
              "      <td id=\"T_3fcba_row6_col7\" class=\"data row6 col7\" >0.0940</td>\n",
              "    </tr>\n",
              "    <tr>\n",
              "      <th id=\"T_3fcba_level0_row7\" class=\"row_heading level0 row7\" >ada</th>\n",
              "      <td id=\"T_3fcba_row7_col0\" class=\"data row7 col0\" >AdaBoost Regressor</td>\n",
              "      <td id=\"T_3fcba_row7_col1\" class=\"data row7 col1\" >0.5473</td>\n",
              "      <td id=\"T_3fcba_row7_col2\" class=\"data row7 col2\" >0.4276</td>\n",
              "      <td id=\"T_3fcba_row7_col3\" class=\"data row7 col3\" >0.6534</td>\n",
              "      <td id=\"T_3fcba_row7_col4\" class=\"data row7 col4\" >0.9912</td>\n",
              "      <td id=\"T_3fcba_row7_col5\" class=\"data row7 col5\" >0.0939</td>\n",
              "      <td id=\"T_3fcba_row7_col6\" class=\"data row7 col6\" >0.0750</td>\n",
              "      <td id=\"T_3fcba_row7_col7\" class=\"data row7 col7\" >0.1600</td>\n",
              "    </tr>\n",
              "    <tr>\n",
              "      <th id=\"T_3fcba_level0_row8\" class=\"row_heading level0 row8\" >huber</th>\n",
              "      <td id=\"T_3fcba_row8_col0\" class=\"data row8 col0\" >Huber Regressor</td>\n",
              "      <td id=\"T_3fcba_row8_col1\" class=\"data row8 col1\" >1.0685</td>\n",
              "      <td id=\"T_3fcba_row8_col2\" class=\"data row8 col2\" >1.7668</td>\n",
              "      <td id=\"T_3fcba_row8_col3\" class=\"data row8 col3\" >1.3279</td>\n",
              "      <td id=\"T_3fcba_row8_col4\" class=\"data row8 col4\" >0.9637</td>\n",
              "      <td id=\"T_3fcba_row8_col5\" class=\"data row8 col5\" >0.2069</td>\n",
              "      <td id=\"T_3fcba_row8_col6\" class=\"data row8 col6\" >0.1936</td>\n",
              "      <td id=\"T_3fcba_row8_col7\" class=\"data row8 col7\" >0.1030</td>\n",
              "    </tr>\n",
              "    <tr>\n",
              "      <th id=\"T_3fcba_level0_row9\" class=\"row_heading level0 row9\" >ridge</th>\n",
              "      <td id=\"T_3fcba_row9_col0\" class=\"data row9 col0\" >Ridge Regression</td>\n",
              "      <td id=\"T_3fcba_row9_col1\" class=\"data row9 col1\" >1.0941</td>\n",
              "      <td id=\"T_3fcba_row9_col2\" class=\"data row9 col2\" >1.7246</td>\n",
              "      <td id=\"T_3fcba_row9_col3\" class=\"data row9 col3\" >1.3124</td>\n",
              "      <td id=\"T_3fcba_row9_col4\" class=\"data row9 col4\" >0.9646</td>\n",
              "      <td id=\"T_3fcba_row9_col5\" class=\"data row9 col5\" >0.1946</td>\n",
              "      <td id=\"T_3fcba_row9_col6\" class=\"data row9 col6\" >0.1824</td>\n",
              "      <td id=\"T_3fcba_row9_col7\" class=\"data row9 col7\" >0.0880</td>\n",
              "    </tr>\n",
              "    <tr>\n",
              "      <th id=\"T_3fcba_level0_row10\" class=\"row_heading level0 row10\" >lar</th>\n",
              "      <td id=\"T_3fcba_row10_col0\" class=\"data row10 col0\" >Least Angle Regression</td>\n",
              "      <td id=\"T_3fcba_row10_col1\" class=\"data row10 col1\" >1.0941</td>\n",
              "      <td id=\"T_3fcba_row10_col2\" class=\"data row10 col2\" >1.7246</td>\n",
              "      <td id=\"T_3fcba_row10_col3\" class=\"data row10 col3\" >1.3124</td>\n",
              "      <td id=\"T_3fcba_row10_col4\" class=\"data row10 col4\" >0.9646</td>\n",
              "      <td id=\"T_3fcba_row10_col5\" class=\"data row10 col5\" >0.1946</td>\n",
              "      <td id=\"T_3fcba_row10_col6\" class=\"data row10 col6\" >0.1824</td>\n",
              "      <td id=\"T_3fcba_row10_col7\" class=\"data row10 col7\" >0.1220</td>\n",
              "    </tr>\n",
              "    <tr>\n",
              "      <th id=\"T_3fcba_level0_row11\" class=\"row_heading level0 row11\" >lr</th>\n",
              "      <td id=\"T_3fcba_row11_col0\" class=\"data row11 col0\" >Linear Regression</td>\n",
              "      <td id=\"T_3fcba_row11_col1\" class=\"data row11 col1\" >1.0941</td>\n",
              "      <td id=\"T_3fcba_row11_col2\" class=\"data row11 col2\" >1.7246</td>\n",
              "      <td id=\"T_3fcba_row11_col3\" class=\"data row11 col3\" >1.3124</td>\n",
              "      <td id=\"T_3fcba_row11_col4\" class=\"data row11 col4\" >0.9646</td>\n",
              "      <td id=\"T_3fcba_row11_col5\" class=\"data row11 col5\" >0.1946</td>\n",
              "      <td id=\"T_3fcba_row11_col6\" class=\"data row11 col6\" >0.1824</td>\n",
              "      <td id=\"T_3fcba_row11_col7\" class=\"data row11 col7\" >1.1810</td>\n",
              "    </tr>\n",
              "    <tr>\n",
              "      <th id=\"T_3fcba_level0_row12\" class=\"row_heading level0 row12\" >br</th>\n",
              "      <td id=\"T_3fcba_row12_col0\" class=\"data row12 col0\" >Bayesian Ridge</td>\n",
              "      <td id=\"T_3fcba_row12_col1\" class=\"data row12 col1\" >1.0942</td>\n",
              "      <td id=\"T_3fcba_row12_col2\" class=\"data row12 col2\" >1.7246</td>\n",
              "      <td id=\"T_3fcba_row12_col3\" class=\"data row12 col3\" >1.3124</td>\n",
              "      <td id=\"T_3fcba_row12_col4\" class=\"data row12 col4\" >0.9646</td>\n",
              "      <td id=\"T_3fcba_row12_col5\" class=\"data row12 col5\" >0.1946</td>\n",
              "      <td id=\"T_3fcba_row12_col6\" class=\"data row12 col6\" >0.1824</td>\n",
              "      <td id=\"T_3fcba_row12_col7\" class=\"data row12 col7\" >0.1470</td>\n",
              "    </tr>\n",
              "    <tr>\n",
              "      <th id=\"T_3fcba_level0_row13\" class=\"row_heading level0 row13\" >en</th>\n",
              "      <td id=\"T_3fcba_row13_col0\" class=\"data row13 col0\" >Elastic Net</td>\n",
              "      <td id=\"T_3fcba_row13_col1\" class=\"data row13 col1\" >1.1046</td>\n",
              "      <td id=\"T_3fcba_row13_col2\" class=\"data row13 col2\" >1.7562</td>\n",
              "      <td id=\"T_3fcba_row13_col3\" class=\"data row13 col3\" >1.3244</td>\n",
              "      <td id=\"T_3fcba_row13_col4\" class=\"data row13 col4\" >0.9639</td>\n",
              "      <td id=\"T_3fcba_row13_col5\" class=\"data row13 col5\" >0.1995</td>\n",
              "      <td id=\"T_3fcba_row13_col6\" class=\"data row13 col6\" >0.1881</td>\n",
              "      <td id=\"T_3fcba_row13_col7\" class=\"data row13 col7\" >0.0960</td>\n",
              "    </tr>\n",
              "    <tr>\n",
              "      <th id=\"T_3fcba_level0_row14\" class=\"row_heading level0 row14\" >llar</th>\n",
              "      <td id=\"T_3fcba_row14_col0\" class=\"data row14 col0\" >Lasso Least Angle Regression</td>\n",
              "      <td id=\"T_3fcba_row14_col1\" class=\"data row14 col1\" >1.1066</td>\n",
              "      <td id=\"T_3fcba_row14_col2\" class=\"data row14 col2\" >1.7591</td>\n",
              "      <td id=\"T_3fcba_row14_col3\" class=\"data row14 col3\" >1.3255</td>\n",
              "      <td id=\"T_3fcba_row14_col4\" class=\"data row14 col4\" >0.9639</td>\n",
              "      <td id=\"T_3fcba_row14_col5\" class=\"data row14 col5\" >0.2010</td>\n",
              "      <td id=\"T_3fcba_row14_col6\" class=\"data row14 col6\" >0.1898</td>\n",
              "      <td id=\"T_3fcba_row14_col7\" class=\"data row14 col7\" >0.1490</td>\n",
              "    </tr>\n",
              "    <tr>\n",
              "      <th id=\"T_3fcba_level0_row15\" class=\"row_heading level0 row15\" >lasso</th>\n",
              "      <td id=\"T_3fcba_row15_col0\" class=\"data row15 col0\" >Lasso Regression</td>\n",
              "      <td id=\"T_3fcba_row15_col1\" class=\"data row15 col1\" >1.1066</td>\n",
              "      <td id=\"T_3fcba_row15_col2\" class=\"data row15 col2\" >1.7590</td>\n",
              "      <td id=\"T_3fcba_row15_col3\" class=\"data row15 col3\" >1.3255</td>\n",
              "      <td id=\"T_3fcba_row15_col4\" class=\"data row15 col4\" >0.9639</td>\n",
              "      <td id=\"T_3fcba_row15_col5\" class=\"data row15 col5\" >0.2010</td>\n",
              "      <td id=\"T_3fcba_row15_col6\" class=\"data row15 col6\" >0.1898</td>\n",
              "      <td id=\"T_3fcba_row15_col7\" class=\"data row15 col7\" >0.0880</td>\n",
              "    </tr>\n",
              "    <tr>\n",
              "      <th id=\"T_3fcba_level0_row16\" class=\"row_heading level0 row16\" >omp</th>\n",
              "      <td id=\"T_3fcba_row16_col0\" class=\"data row16 col0\" >Orthogonal Matching Pursuit</td>\n",
              "      <td id=\"T_3fcba_row16_col1\" class=\"data row16 col1\" >1.2169</td>\n",
              "      <td id=\"T_3fcba_row16_col2\" class=\"data row16 col2\" >2.0591</td>\n",
              "      <td id=\"T_3fcba_row16_col3\" class=\"data row16 col3\" >1.4346</td>\n",
              "      <td id=\"T_3fcba_row16_col4\" class=\"data row16 col4\" >0.9577</td>\n",
              "      <td id=\"T_3fcba_row16_col5\" class=\"data row16 col5\" >0.2011</td>\n",
              "      <td id=\"T_3fcba_row16_col6\" class=\"data row16 col6\" >0.1945</td>\n",
              "      <td id=\"T_3fcba_row16_col7\" class=\"data row16 col7\" >0.1880</td>\n",
              "    </tr>\n",
              "    <tr>\n",
              "      <th id=\"T_3fcba_level0_row17\" class=\"row_heading level0 row17\" >par</th>\n",
              "      <td id=\"T_3fcba_row17_col0\" class=\"data row17 col0\" >Passive Aggressive Regressor</td>\n",
              "      <td id=\"T_3fcba_row17_col1\" class=\"data row17 col1\" >1.4411</td>\n",
              "      <td id=\"T_3fcba_row17_col2\" class=\"data row17 col2\" >3.3111</td>\n",
              "      <td id=\"T_3fcba_row17_col3\" class=\"data row17 col3\" >1.7850</td>\n",
              "      <td id=\"T_3fcba_row17_col4\" class=\"data row17 col4\" >0.9320</td>\n",
              "      <td id=\"T_3fcba_row17_col5\" class=\"data row17 col5\" >0.2234</td>\n",
              "      <td id=\"T_3fcba_row17_col6\" class=\"data row17 col6\" >0.2260</td>\n",
              "      <td id=\"T_3fcba_row17_col7\" class=\"data row17 col7\" >0.0740</td>\n",
              "    </tr>\n",
              "    <tr>\n",
              "      <th id=\"T_3fcba_level0_row18\" class=\"row_heading level0 row18\" >dummy</th>\n",
              "      <td id=\"T_3fcba_row18_col0\" class=\"data row18 col0\" >Dummy Regressor</td>\n",
              "      <td id=\"T_3fcba_row18_col1\" class=\"data row18 col1\" >5.9843</td>\n",
              "      <td id=\"T_3fcba_row18_col2\" class=\"data row18 col2\" >48.9561</td>\n",
              "      <td id=\"T_3fcba_row18_col3\" class=\"data row18 col3\" >6.9950</td>\n",
              "      <td id=\"T_3fcba_row18_col4\" class=\"data row18 col4\" >-0.0057</td>\n",
              "      <td id=\"T_3fcba_row18_col5\" class=\"data row18 col5\" >0.6306</td>\n",
              "      <td id=\"T_3fcba_row18_col6\" class=\"data row18 col6\" >1.0260</td>\n",
              "      <td id=\"T_3fcba_row18_col7\" class=\"data row18 col7\" >0.0480</td>\n",
              "    </tr>\n",
              "  </tbody>\n",
              "</table>\n"
            ]
          },
          "metadata": {}
        },
        {
          "output_type": "display_data",
          "data": {
            "text/plain": [
              "Processing:   0%|          | 0/81 [00:00<?, ?it/s]"
            ],
            "application/vnd.jupyter.widget-view+json": {
              "version_major": 2,
              "version_minor": 0,
              "model_id": "233630a7862741d8a68a87010a0c09d4"
            }
          },
          "metadata": {
            "application/vnd.jupyter.widget-view+json": {
              "colab": {
                "custom_widget_manager": {
                  "url": "https://ssl.gstatic.com/colaboratory-static/widgets/colab-cdn-widget-manager/2b70e893a8ba7c0f/manager.min.js"
                }
              }
            }
          }
        },
        {
          "output_type": "display_data",
          "data": {
            "text/plain": [
              "<IPython.core.display.HTML object>"
            ],
            "text/html": []
          },
          "metadata": {}
        },
        {
          "output_type": "display_data",
          "data": {
            "text/plain": [
              "<IPython.core.display.HTML object>"
            ],
            "text/html": []
          },
          "metadata": {}
        },
        {
          "output_type": "display_data",
          "data": {
            "text/plain": [
              "<pandas.io.formats.style.Styler at 0x7a60d4c36bc0>"
            ],
            "text/html": [
              "<style type=\"text/css\">\n",
              "#T_02dc5_row10_col0, #T_02dc5_row10_col1, #T_02dc5_row10_col2, #T_02dc5_row10_col3, #T_02dc5_row10_col4, #T_02dc5_row10_col5 {\n",
              "  background: yellow;\n",
              "}\n",
              "</style>\n",
              "<table id=\"T_02dc5\" class=\"dataframe\">\n",
              "  <thead>\n",
              "    <tr>\n",
              "      <th class=\"blank level0\" >&nbsp;</th>\n",
              "      <th id=\"T_02dc5_level0_col0\" class=\"col_heading level0 col0\" >MAE</th>\n",
              "      <th id=\"T_02dc5_level0_col1\" class=\"col_heading level0 col1\" >MSE</th>\n",
              "      <th id=\"T_02dc5_level0_col2\" class=\"col_heading level0 col2\" >RMSE</th>\n",
              "      <th id=\"T_02dc5_level0_col3\" class=\"col_heading level0 col3\" >R2</th>\n",
              "      <th id=\"T_02dc5_level0_col4\" class=\"col_heading level0 col4\" >RMSLE</th>\n",
              "      <th id=\"T_02dc5_level0_col5\" class=\"col_heading level0 col5\" >MAPE</th>\n",
              "    </tr>\n",
              "    <tr>\n",
              "      <th class=\"index_name level0\" >Fold</th>\n",
              "      <th class=\"blank col0\" >&nbsp;</th>\n",
              "      <th class=\"blank col1\" >&nbsp;</th>\n",
              "      <th class=\"blank col2\" >&nbsp;</th>\n",
              "      <th class=\"blank col3\" >&nbsp;</th>\n",
              "      <th class=\"blank col4\" >&nbsp;</th>\n",
              "      <th class=\"blank col5\" >&nbsp;</th>\n",
              "    </tr>\n",
              "  </thead>\n",
              "  <tbody>\n",
              "    <tr>\n",
              "      <th id=\"T_02dc5_level0_row0\" class=\"row_heading level0 row0\" >0</th>\n",
              "      <td id=\"T_02dc5_row0_col0\" class=\"data row0 col0\" >0.4115</td>\n",
              "      <td id=\"T_02dc5_row0_col1\" class=\"data row0 col1\" >0.3440</td>\n",
              "      <td id=\"T_02dc5_row0_col2\" class=\"data row0 col2\" >0.5865</td>\n",
              "      <td id=\"T_02dc5_row0_col3\" class=\"data row0 col3\" >0.9933</td>\n",
              "      <td id=\"T_02dc5_row0_col4\" class=\"data row0 col4\" >0.0589</td>\n",
              "      <td id=\"T_02dc5_row0_col5\" class=\"data row0 col5\" >0.0442</td>\n",
              "    </tr>\n",
              "    <tr>\n",
              "      <th id=\"T_02dc5_level0_row1\" class=\"row_heading level0 row1\" >1</th>\n",
              "      <td id=\"T_02dc5_row1_col0\" class=\"data row1 col0\" >0.4319</td>\n",
              "      <td id=\"T_02dc5_row1_col1\" class=\"data row1 col1\" >0.3606</td>\n",
              "      <td id=\"T_02dc5_row1_col2\" class=\"data row1 col2\" >0.6005</td>\n",
              "      <td id=\"T_02dc5_row1_col3\" class=\"data row1 col3\" >0.9926</td>\n",
              "      <td id=\"T_02dc5_row1_col4\" class=\"data row1 col4\" >0.0632</td>\n",
              "      <td id=\"T_02dc5_row1_col5\" class=\"data row1 col5\" >0.0471</td>\n",
              "    </tr>\n",
              "    <tr>\n",
              "      <th id=\"T_02dc5_level0_row2\" class=\"row_heading level0 row2\" >2</th>\n",
              "      <td id=\"T_02dc5_row2_col0\" class=\"data row2 col0\" >0.4800</td>\n",
              "      <td id=\"T_02dc5_row2_col1\" class=\"data row2 col1\" >0.4815</td>\n",
              "      <td id=\"T_02dc5_row2_col2\" class=\"data row2 col2\" >0.6939</td>\n",
              "      <td id=\"T_02dc5_row2_col3\" class=\"data row2 col3\" >0.9906</td>\n",
              "      <td id=\"T_02dc5_row2_col4\" class=\"data row2 col4\" >0.0760</td>\n",
              "      <td id=\"T_02dc5_row2_col5\" class=\"data row2 col5\" >0.0595</td>\n",
              "    </tr>\n",
              "    <tr>\n",
              "      <th id=\"T_02dc5_level0_row3\" class=\"row_heading level0 row3\" >3</th>\n",
              "      <td id=\"T_02dc5_row3_col0\" class=\"data row3 col0\" >0.4177</td>\n",
              "      <td id=\"T_02dc5_row3_col1\" class=\"data row3 col1\" >0.3111</td>\n",
              "      <td id=\"T_02dc5_row3_col2\" class=\"data row3 col2\" >0.5578</td>\n",
              "      <td id=\"T_02dc5_row3_col3\" class=\"data row3 col3\" >0.9929</td>\n",
              "      <td id=\"T_02dc5_row3_col4\" class=\"data row3 col4\" >0.0617</td>\n",
              "      <td id=\"T_02dc5_row3_col5\" class=\"data row3 col5\" >0.0464</td>\n",
              "    </tr>\n",
              "    <tr>\n",
              "      <th id=\"T_02dc5_level0_row4\" class=\"row_heading level0 row4\" >4</th>\n",
              "      <td id=\"T_02dc5_row4_col0\" class=\"data row4 col0\" >0.3876</td>\n",
              "      <td id=\"T_02dc5_row4_col1\" class=\"data row4 col1\" >0.2875</td>\n",
              "      <td id=\"T_02dc5_row4_col2\" class=\"data row4 col2\" >0.5362</td>\n",
              "      <td id=\"T_02dc5_row4_col3\" class=\"data row4 col3\" >0.9939</td>\n",
              "      <td id=\"T_02dc5_row4_col4\" class=\"data row4 col4\" >0.0685</td>\n",
              "      <td id=\"T_02dc5_row4_col5\" class=\"data row4 col5\" >0.0519</td>\n",
              "    </tr>\n",
              "    <tr>\n",
              "      <th id=\"T_02dc5_level0_row5\" class=\"row_heading level0 row5\" >5</th>\n",
              "      <td id=\"T_02dc5_row5_col0\" class=\"data row5 col0\" >0.4259</td>\n",
              "      <td id=\"T_02dc5_row5_col1\" class=\"data row5 col1\" >0.3998</td>\n",
              "      <td id=\"T_02dc5_row5_col2\" class=\"data row5 col2\" >0.6323</td>\n",
              "      <td id=\"T_02dc5_row5_col3\" class=\"data row5 col3\" >0.9918</td>\n",
              "      <td id=\"T_02dc5_row5_col4\" class=\"data row5 col4\" >0.0602</td>\n",
              "      <td id=\"T_02dc5_row5_col5\" class=\"data row5 col5\" >0.0446</td>\n",
              "    </tr>\n",
              "    <tr>\n",
              "      <th id=\"T_02dc5_level0_row6\" class=\"row_heading level0 row6\" >6</th>\n",
              "      <td id=\"T_02dc5_row6_col0\" class=\"data row6 col0\" >0.4205</td>\n",
              "      <td id=\"T_02dc5_row6_col1\" class=\"data row6 col1\" >0.3652</td>\n",
              "      <td id=\"T_02dc5_row6_col2\" class=\"data row6 col2\" >0.6043</td>\n",
              "      <td id=\"T_02dc5_row6_col3\" class=\"data row6 col3\" >0.9928</td>\n",
              "      <td id=\"T_02dc5_row6_col4\" class=\"data row6 col4\" >0.0612</td>\n",
              "      <td id=\"T_02dc5_row6_col5\" class=\"data row6 col5\" >0.0462</td>\n",
              "    </tr>\n",
              "    <tr>\n",
              "      <th id=\"T_02dc5_level0_row7\" class=\"row_heading level0 row7\" >7</th>\n",
              "      <td id=\"T_02dc5_row7_col0\" class=\"data row7 col0\" >0.4373</td>\n",
              "      <td id=\"T_02dc5_row7_col1\" class=\"data row7 col1\" >0.4019</td>\n",
              "      <td id=\"T_02dc5_row7_col2\" class=\"data row7 col2\" >0.6340</td>\n",
              "      <td id=\"T_02dc5_row7_col3\" class=\"data row7 col3\" >0.9916</td>\n",
              "      <td id=\"T_02dc5_row7_col4\" class=\"data row7 col4\" >0.0663</td>\n",
              "      <td id=\"T_02dc5_row7_col5\" class=\"data row7 col5\" >0.0506</td>\n",
              "    </tr>\n",
              "    <tr>\n",
              "      <th id=\"T_02dc5_level0_row8\" class=\"row_heading level0 row8\" >8</th>\n",
              "      <td id=\"T_02dc5_row8_col0\" class=\"data row8 col0\" >0.4742</td>\n",
              "      <td id=\"T_02dc5_row8_col1\" class=\"data row8 col1\" >0.4560</td>\n",
              "      <td id=\"T_02dc5_row8_col2\" class=\"data row8 col2\" >0.6753</td>\n",
              "      <td id=\"T_02dc5_row8_col3\" class=\"data row8 col3\" >0.9909</td>\n",
              "      <td id=\"T_02dc5_row8_col4\" class=\"data row8 col4\" >0.0791</td>\n",
              "      <td id=\"T_02dc5_row8_col5\" class=\"data row8 col5\" >0.0632</td>\n",
              "    </tr>\n",
              "    <tr>\n",
              "      <th id=\"T_02dc5_level0_row9\" class=\"row_heading level0 row9\" >9</th>\n",
              "      <td id=\"T_02dc5_row9_col0\" class=\"data row9 col0\" >0.4185</td>\n",
              "      <td id=\"T_02dc5_row9_col1\" class=\"data row9 col1\" >0.3241</td>\n",
              "      <td id=\"T_02dc5_row9_col2\" class=\"data row9 col2\" >0.5693</td>\n",
              "      <td id=\"T_02dc5_row9_col3\" class=\"data row9 col3\" >0.9932</td>\n",
              "      <td id=\"T_02dc5_row9_col4\" class=\"data row9 col4\" >0.0693</td>\n",
              "      <td id=\"T_02dc5_row9_col5\" class=\"data row9 col5\" >0.0531</td>\n",
              "    </tr>\n",
              "    <tr>\n",
              "      <th id=\"T_02dc5_level0_row10\" class=\"row_heading level0 row10\" >Mean</th>\n",
              "      <td id=\"T_02dc5_row10_col0\" class=\"data row10 col0\" >0.4305</td>\n",
              "      <td id=\"T_02dc5_row10_col1\" class=\"data row10 col1\" >0.3732</td>\n",
              "      <td id=\"T_02dc5_row10_col2\" class=\"data row10 col2\" >0.6090</td>\n",
              "      <td id=\"T_02dc5_row10_col3\" class=\"data row10 col3\" >0.9924</td>\n",
              "      <td id=\"T_02dc5_row10_col4\" class=\"data row10 col4\" >0.0664</td>\n",
              "      <td id=\"T_02dc5_row10_col5\" class=\"data row10 col5\" >0.0507</td>\n",
              "    </tr>\n",
              "    <tr>\n",
              "      <th id=\"T_02dc5_level0_row11\" class=\"row_heading level0 row11\" >Std</th>\n",
              "      <td id=\"T_02dc5_row11_col0\" class=\"data row11 col0\" >0.0265</td>\n",
              "      <td id=\"T_02dc5_row11_col1\" class=\"data row11 col1\" >0.0590</td>\n",
              "      <td id=\"T_02dc5_row11_col2\" class=\"data row11 col2\" >0.0478</td>\n",
              "      <td id=\"T_02dc5_row11_col3\" class=\"data row11 col3\" >0.0010</td>\n",
              "      <td id=\"T_02dc5_row11_col4\" class=\"data row11 col4\" >0.0065</td>\n",
              "      <td id=\"T_02dc5_row11_col5\" class=\"data row11 col5\" >0.0061</td>\n",
              "    </tr>\n",
              "  </tbody>\n",
              "</table>\n"
            ]
          },
          "metadata": {}
        },
        {
          "output_type": "display_data",
          "data": {
            "text/plain": [
              "Processing:   0%|          | 0/7 [00:00<?, ?it/s]"
            ],
            "application/vnd.jupyter.widget-view+json": {
              "version_major": 2,
              "version_minor": 0,
              "model_id": "e462ef01d9bb420688e5c610ddc1712d"
            }
          },
          "metadata": {
            "application/vnd.jupyter.widget-view+json": {
              "colab": {
                "custom_widget_manager": {
                  "url": "https://ssl.gstatic.com/colaboratory-static/widgets/colab-cdn-widget-manager/2b70e893a8ba7c0f/manager.min.js"
                }
              }
            }
          }
        },
        {
          "output_type": "stream",
          "name": "stdout",
          "text": [
            "Fitting 10 folds for each of 10 candidates, totalling 100 fits\n"
          ]
        },
        {
          "output_type": "display_data",
          "data": {
            "text/plain": [
              "<IPython.core.display.HTML object>"
            ],
            "text/html": []
          },
          "metadata": {}
        },
        {
          "output_type": "stream",
          "name": "stdout",
          "text": [
            "Original model was better than the tuned model, hence it will be returned. NOTE: The display metrics are for the tuned model (not the original one).\n"
          ]
        },
        {
          "output_type": "display_data",
          "data": {
            "text/plain": [
              "<pandas.io.formats.style.Styler at 0x7a60cad85600>"
            ],
            "text/html": [
              "<style type=\"text/css\">\n",
              "</style>\n",
              "<table id=\"T_5d77b\" class=\"dataframe\">\n",
              "  <thead>\n",
              "    <tr>\n",
              "      <th class=\"blank level0\" >&nbsp;</th>\n",
              "      <th id=\"T_5d77b_level0_col0\" class=\"col_heading level0 col0\" >Model</th>\n",
              "      <th id=\"T_5d77b_level0_col1\" class=\"col_heading level0 col1\" >MAE</th>\n",
              "      <th id=\"T_5d77b_level0_col2\" class=\"col_heading level0 col2\" >MSE</th>\n",
              "      <th id=\"T_5d77b_level0_col3\" class=\"col_heading level0 col3\" >RMSE</th>\n",
              "      <th id=\"T_5d77b_level0_col4\" class=\"col_heading level0 col4\" >R2</th>\n",
              "      <th id=\"T_5d77b_level0_col5\" class=\"col_heading level0 col5\" >RMSLE</th>\n",
              "      <th id=\"T_5d77b_level0_col6\" class=\"col_heading level0 col6\" >MAPE</th>\n",
              "    </tr>\n",
              "  </thead>\n",
              "  <tbody>\n",
              "    <tr>\n",
              "      <th id=\"T_5d77b_level0_row0\" class=\"row_heading level0 row0\" >0</th>\n",
              "      <td id=\"T_5d77b_row0_col0\" class=\"data row0 col0\" >Extra Trees Regressor</td>\n",
              "      <td id=\"T_5d77b_row0_col1\" class=\"data row0 col1\" >0.0000</td>\n",
              "      <td id=\"T_5d77b_row0_col2\" class=\"data row0 col2\" >0.0000</td>\n",
              "      <td id=\"T_5d77b_row0_col3\" class=\"data row0 col3\" >0.0000</td>\n",
              "      <td id=\"T_5d77b_row0_col4\" class=\"data row0 col4\" >1.0000</td>\n",
              "      <td id=\"T_5d77b_row0_col5\" class=\"data row0 col5\" >0.0000</td>\n",
              "      <td id=\"T_5d77b_row0_col6\" class=\"data row0 col6\" >0.0000</td>\n",
              "    </tr>\n",
              "  </tbody>\n",
              "</table>\n"
            ]
          },
          "metadata": {}
        },
        {
          "output_type": "stream",
          "name": "stdout",
          "text": [
            "Pipeline(memory=Memory(location=None),\n",
            "         steps=[('numerical_imputer',\n",
            "                 TransformerWrapper(include=['Age', 'Dur'],\n",
            "                                    transformer=SimpleImputer())),\n",
            "                ('categorical_imputer',\n",
            "                 TransformerWrapper(include=['Gender'],\n",
            "                                    transformer=SimpleImputer(strategy='most_frequent'))),\n",
            "                ('ordinal_encoding',\n",
            "                 TransformerWrapper(include=['Gender'],\n",
            "                                    transformer=OrdinalEncoder(cols=['Gender'],\n",
            "                                                               handle_missing='return_nan',\n",
            "                                                               mapping=[{'col': 'Gender',\n",
            "                                                                         'data_type': dtype('O'),\n",
            "                                                                         'mapping': Female    0\n",
            "Male      1\n",
            "NaN      -1\n",
            "dtype: int64}]))),\n",
            "                ('actual_estimator',\n",
            "                 ExtraTreesRegressor(n_jobs=-1, random_state=123))])\n",
            "            PPV  prediction_label\n",
            "0     15.198438         15.198438\n",
            "1     15.741014         15.741014\n",
            "2     16.267189         16.267189\n",
            "3     16.777449         16.777449\n",
            "4     17.272268         17.272268\n",
            "...         ...               ...\n",
            "5265   1.925421          1.925421\n",
            "5266   2.777638          2.777638\n",
            "5267   1.000000          1.000000\n",
            "5268   1.920897          1.920897\n",
            "5269   1.000000          1.000000\n",
            "\n",
            "[5270 rows x 2 columns]\n"
          ]
        },
        {
          "output_type": "display_data",
          "data": {
            "text/plain": [
              "interactive(children=(ToggleButtons(description='Plot Type:', icons=('',), options=(('Pipeline Plot', 'pipelin…"
            ],
            "application/vnd.jupyter.widget-view+json": {
              "version_major": 2,
              "version_minor": 0,
              "model_id": "9bc78460366c47938e2df7798c6a7c63"
            }
          },
          "metadata": {
            "application/vnd.jupyter.widget-view+json": {
              "colab": {
                "custom_widget_manager": {
                  "url": "https://ssl.gstatic.com/colaboratory-static/widgets/colab-cdn-widget-manager/2b70e893a8ba7c0f/manager.min.js"
                }
              }
            }
          }
        },
        {
          "output_type": "stream",
          "name": "stdout",
          "text": [
            "R2: None\n"
          ]
        }
      ]
    },
    {
      "cell_type": "code",
      "source": [],
      "metadata": {
        "id": "OdS5Bl5ammPz"
      },
      "execution_count": 27,
      "outputs": []
    }
  ]
}