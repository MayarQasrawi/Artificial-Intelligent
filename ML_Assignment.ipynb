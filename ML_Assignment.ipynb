{
  "nbformat": 4,
  "nbformat_minor": 0,
  "metadata": {
    "colab": {
      "provenance": [],
      "gpuType": "T4",
      "mount_file_id": "1jkNOoxdPuvWRZqRtpVhDMGgzKgVuP2AR",
      "authorship_tag": "ABX9TyO6YE6Ua/BePwHjSGeSdzSf",
      "include_colab_link": true
    },
    "kernelspec": {
      "name": "python3",
      "display_name": "Python 3"
    },
    "language_info": {
      "name": "python"
    },
    "accelerator": "GPU",
    "widgets": {
      "application/vnd.jupyter.widget-state+json": {
        "2378e8fca86643bf80daed73c201befc": {
          "model_module": "@jupyter-widgets/controls",
          "model_name": "HBoxModel",
          "model_module_version": "1.5.0",
          "state": {
            "_dom_classes": [],
            "_model_module": "@jupyter-widgets/controls",
            "_model_module_version": "1.5.0",
            "_model_name": "HBoxModel",
            "_view_count": null,
            "_view_module": "@jupyter-widgets/controls",
            "_view_module_version": "1.5.0",
            "_view_name": "HBoxView",
            "box_style": "",
            "children": [
              "IPY_MODEL_cf6ec0641aa0454aab147f9059ba6d01",
              "IPY_MODEL_14bd71cc24eb410ca699a9e0ffca29d5",
              "IPY_MODEL_196ec6fe023e43edbaa3ce6614943ef7"
            ],
            "layout": "IPY_MODEL_03675642bbfc42219bb9e77008e6ae40"
          }
        },
        "cf6ec0641aa0454aab147f9059ba6d01": {
          "model_module": "@jupyter-widgets/controls",
          "model_name": "HTMLModel",
          "model_module_version": "1.5.0",
          "state": {
            "_dom_classes": [],
            "_model_module": "@jupyter-widgets/controls",
            "_model_module_version": "1.5.0",
            "_model_name": "HTMLModel",
            "_view_count": null,
            "_view_module": "@jupyter-widgets/controls",
            "_view_module_version": "1.5.0",
            "_view_name": "HTMLView",
            "description": "",
            "description_tooltip": null,
            "layout": "IPY_MODEL_fb4aa2aa14d64ad6a81838f6416841ce",
            "placeholder": "​",
            "style": "IPY_MODEL_a27a807d0108477595f8398df3bca146",
            "value": "Processing: 100%"
          }
        },
        "14bd71cc24eb410ca699a9e0ffca29d5": {
          "model_module": "@jupyter-widgets/controls",
          "model_name": "FloatProgressModel",
          "model_module_version": "1.5.0",
          "state": {
            "_dom_classes": [],
            "_model_module": "@jupyter-widgets/controls",
            "_model_module_version": "1.5.0",
            "_model_name": "FloatProgressModel",
            "_view_count": null,
            "_view_module": "@jupyter-widgets/controls",
            "_view_module_version": "1.5.0",
            "_view_name": "ProgressView",
            "bar_style": "",
            "description": "",
            "description_tooltip": null,
            "layout": "IPY_MODEL_1f2548d40f204179a7797c8e8379f81d",
            "max": 81,
            "min": 0,
            "orientation": "horizontal",
            "style": "IPY_MODEL_f5f967cc0e854572a76f49518f11c662",
            "value": 81
          }
        },
        "196ec6fe023e43edbaa3ce6614943ef7": {
          "model_module": "@jupyter-widgets/controls",
          "model_name": "HTMLModel",
          "model_module_version": "1.5.0",
          "state": {
            "_dom_classes": [],
            "_model_module": "@jupyter-widgets/controls",
            "_model_module_version": "1.5.0",
            "_model_name": "HTMLModel",
            "_view_count": null,
            "_view_module": "@jupyter-widgets/controls",
            "_view_module_version": "1.5.0",
            "_view_name": "HTMLView",
            "description": "",
            "description_tooltip": null,
            "layout": "IPY_MODEL_681f70b27c724da08370944f68b24e63",
            "placeholder": "​",
            "style": "IPY_MODEL_89c4e6a20797480e86d2dc2ae2149164",
            "value": " 81/81 [00:32&lt;00:00,  3.48it/s]"
          }
        },
        "03675642bbfc42219bb9e77008e6ae40": {
          "model_module": "@jupyter-widgets/base",
          "model_name": "LayoutModel",
          "model_module_version": "1.2.0",
          "state": {
            "_model_module": "@jupyter-widgets/base",
            "_model_module_version": "1.2.0",
            "_model_name": "LayoutModel",
            "_view_count": null,
            "_view_module": "@jupyter-widgets/base",
            "_view_module_version": "1.2.0",
            "_view_name": "LayoutView",
            "align_content": null,
            "align_items": null,
            "align_self": null,
            "border": null,
            "bottom": null,
            "display": null,
            "flex": null,
            "flex_flow": null,
            "grid_area": null,
            "grid_auto_columns": null,
            "grid_auto_flow": null,
            "grid_auto_rows": null,
            "grid_column": null,
            "grid_gap": null,
            "grid_row": null,
            "grid_template_areas": null,
            "grid_template_columns": null,
            "grid_template_rows": null,
            "height": null,
            "justify_content": null,
            "justify_items": null,
            "left": null,
            "margin": null,
            "max_height": null,
            "max_width": null,
            "min_height": null,
            "min_width": null,
            "object_fit": null,
            "object_position": null,
            "order": null,
            "overflow": null,
            "overflow_x": null,
            "overflow_y": null,
            "padding": null,
            "right": null,
            "top": null,
            "visibility": "hidden",
            "width": null
          }
        },
        "fb4aa2aa14d64ad6a81838f6416841ce": {
          "model_module": "@jupyter-widgets/base",
          "model_name": "LayoutModel",
          "model_module_version": "1.2.0",
          "state": {
            "_model_module": "@jupyter-widgets/base",
            "_model_module_version": "1.2.0",
            "_model_name": "LayoutModel",
            "_view_count": null,
            "_view_module": "@jupyter-widgets/base",
            "_view_module_version": "1.2.0",
            "_view_name": "LayoutView",
            "align_content": null,
            "align_items": null,
            "align_self": null,
            "border": null,
            "bottom": null,
            "display": null,
            "flex": null,
            "flex_flow": null,
            "grid_area": null,
            "grid_auto_columns": null,
            "grid_auto_flow": null,
            "grid_auto_rows": null,
            "grid_column": null,
            "grid_gap": null,
            "grid_row": null,
            "grid_template_areas": null,
            "grid_template_columns": null,
            "grid_template_rows": null,
            "height": null,
            "justify_content": null,
            "justify_items": null,
            "left": null,
            "margin": null,
            "max_height": null,
            "max_width": null,
            "min_height": null,
            "min_width": null,
            "object_fit": null,
            "object_position": null,
            "order": null,
            "overflow": null,
            "overflow_x": null,
            "overflow_y": null,
            "padding": null,
            "right": null,
            "top": null,
            "visibility": null,
            "width": null
          }
        },
        "a27a807d0108477595f8398df3bca146": {
          "model_module": "@jupyter-widgets/controls",
          "model_name": "DescriptionStyleModel",
          "model_module_version": "1.5.0",
          "state": {
            "_model_module": "@jupyter-widgets/controls",
            "_model_module_version": "1.5.0",
            "_model_name": "DescriptionStyleModel",
            "_view_count": null,
            "_view_module": "@jupyter-widgets/base",
            "_view_module_version": "1.2.0",
            "_view_name": "StyleView",
            "description_width": ""
          }
        },
        "1f2548d40f204179a7797c8e8379f81d": {
          "model_module": "@jupyter-widgets/base",
          "model_name": "LayoutModel",
          "model_module_version": "1.2.0",
          "state": {
            "_model_module": "@jupyter-widgets/base",
            "_model_module_version": "1.2.0",
            "_model_name": "LayoutModel",
            "_view_count": null,
            "_view_module": "@jupyter-widgets/base",
            "_view_module_version": "1.2.0",
            "_view_name": "LayoutView",
            "align_content": null,
            "align_items": null,
            "align_self": null,
            "border": null,
            "bottom": null,
            "display": null,
            "flex": null,
            "flex_flow": null,
            "grid_area": null,
            "grid_auto_columns": null,
            "grid_auto_flow": null,
            "grid_auto_rows": null,
            "grid_column": null,
            "grid_gap": null,
            "grid_row": null,
            "grid_template_areas": null,
            "grid_template_columns": null,
            "grid_template_rows": null,
            "height": null,
            "justify_content": null,
            "justify_items": null,
            "left": null,
            "margin": null,
            "max_height": null,
            "max_width": null,
            "min_height": null,
            "min_width": null,
            "object_fit": null,
            "object_position": null,
            "order": null,
            "overflow": null,
            "overflow_x": null,
            "overflow_y": null,
            "padding": null,
            "right": null,
            "top": null,
            "visibility": null,
            "width": null
          }
        },
        "f5f967cc0e854572a76f49518f11c662": {
          "model_module": "@jupyter-widgets/controls",
          "model_name": "ProgressStyleModel",
          "model_module_version": "1.5.0",
          "state": {
            "_model_module": "@jupyter-widgets/controls",
            "_model_module_version": "1.5.0",
            "_model_name": "ProgressStyleModel",
            "_view_count": null,
            "_view_module": "@jupyter-widgets/base",
            "_view_module_version": "1.2.0",
            "_view_name": "StyleView",
            "bar_color": null,
            "description_width": ""
          }
        },
        "681f70b27c724da08370944f68b24e63": {
          "model_module": "@jupyter-widgets/base",
          "model_name": "LayoutModel",
          "model_module_version": "1.2.0",
          "state": {
            "_model_module": "@jupyter-widgets/base",
            "_model_module_version": "1.2.0",
            "_model_name": "LayoutModel",
            "_view_count": null,
            "_view_module": "@jupyter-widgets/base",
            "_view_module_version": "1.2.0",
            "_view_name": "LayoutView",
            "align_content": null,
            "align_items": null,
            "align_self": null,
            "border": null,
            "bottom": null,
            "display": null,
            "flex": null,
            "flex_flow": null,
            "grid_area": null,
            "grid_auto_columns": null,
            "grid_auto_flow": null,
            "grid_auto_rows": null,
            "grid_column": null,
            "grid_gap": null,
            "grid_row": null,
            "grid_template_areas": null,
            "grid_template_columns": null,
            "grid_template_rows": null,
            "height": null,
            "justify_content": null,
            "justify_items": null,
            "left": null,
            "margin": null,
            "max_height": null,
            "max_width": null,
            "min_height": null,
            "min_width": null,
            "object_fit": null,
            "object_position": null,
            "order": null,
            "overflow": null,
            "overflow_x": null,
            "overflow_y": null,
            "padding": null,
            "right": null,
            "top": null,
            "visibility": null,
            "width": null
          }
        },
        "89c4e6a20797480e86d2dc2ae2149164": {
          "model_module": "@jupyter-widgets/controls",
          "model_name": "DescriptionStyleModel",
          "model_module_version": "1.5.0",
          "state": {
            "_model_module": "@jupyter-widgets/controls",
            "_model_module_version": "1.5.0",
            "_model_name": "DescriptionStyleModel",
            "_view_count": null,
            "_view_module": "@jupyter-widgets/base",
            "_view_module_version": "1.2.0",
            "_view_name": "StyleView",
            "description_width": ""
          }
        },
        "4a52ef6f50ab4822925b62b1e39e131d": {
          "model_module": "@jupyter-widgets/controls",
          "model_name": "HBoxModel",
          "model_module_version": "1.5.0",
          "state": {
            "_dom_classes": [],
            "_model_module": "@jupyter-widgets/controls",
            "_model_module_version": "1.5.0",
            "_model_name": "HBoxModel",
            "_view_count": null,
            "_view_module": "@jupyter-widgets/controls",
            "_view_module_version": "1.5.0",
            "_view_name": "HBoxView",
            "box_style": "",
            "children": [
              "IPY_MODEL_34cbe03089bb47b98d77ef062315430b",
              "IPY_MODEL_5597d8112a45449f8f7eef6ac5a77d39",
              "IPY_MODEL_3383705d0df84f74aabdf4b51a56e05d"
            ],
            "layout": "IPY_MODEL_bf3e3041b8fa400d8e4a97392820c448"
          }
        },
        "34cbe03089bb47b98d77ef062315430b": {
          "model_module": "@jupyter-widgets/controls",
          "model_name": "HTMLModel",
          "model_module_version": "1.5.0",
          "state": {
            "_dom_classes": [],
            "_model_module": "@jupyter-widgets/controls",
            "_model_module_version": "1.5.0",
            "_model_name": "HTMLModel",
            "_view_count": null,
            "_view_module": "@jupyter-widgets/controls",
            "_view_module_version": "1.5.0",
            "_view_name": "HTMLView",
            "description": "",
            "description_tooltip": null,
            "layout": "IPY_MODEL_f0b1373039e247f889a8cf38a6165b86",
            "placeholder": "​",
            "style": "IPY_MODEL_03aa8a3c6fa547e791b07dea5b4bedc3",
            "value": "Processing: 100%"
          }
        },
        "5597d8112a45449f8f7eef6ac5a77d39": {
          "model_module": "@jupyter-widgets/controls",
          "model_name": "FloatProgressModel",
          "model_module_version": "1.5.0",
          "state": {
            "_dom_classes": [],
            "_model_module": "@jupyter-widgets/controls",
            "_model_module_version": "1.5.0",
            "_model_name": "FloatProgressModel",
            "_view_count": null,
            "_view_module": "@jupyter-widgets/controls",
            "_view_module_version": "1.5.0",
            "_view_name": "ProgressView",
            "bar_style": "",
            "description": "",
            "description_tooltip": null,
            "layout": "IPY_MODEL_2fd2bb41f025480ea941182db36588f7",
            "max": 7,
            "min": 0,
            "orientation": "horizontal",
            "style": "IPY_MODEL_5bca960532024d3a97d12bfdc591fb33",
            "value": 7
          }
        },
        "3383705d0df84f74aabdf4b51a56e05d": {
          "model_module": "@jupyter-widgets/controls",
          "model_name": "HTMLModel",
          "model_module_version": "1.5.0",
          "state": {
            "_dom_classes": [],
            "_model_module": "@jupyter-widgets/controls",
            "_model_module_version": "1.5.0",
            "_model_name": "HTMLModel",
            "_view_count": null,
            "_view_module": "@jupyter-widgets/controls",
            "_view_module_version": "1.5.0",
            "_view_name": "HTMLView",
            "description": "",
            "description_tooltip": null,
            "layout": "IPY_MODEL_b8e671d868554d22ba4089477c28ef9f",
            "placeholder": "​",
            "style": "IPY_MODEL_0585822184cb466c9a316f47d0295287",
            "value": " 7/7 [01:04&lt;00:00,  6.98s/it]"
          }
        },
        "bf3e3041b8fa400d8e4a97392820c448": {
          "model_module": "@jupyter-widgets/base",
          "model_name": "LayoutModel",
          "model_module_version": "1.2.0",
          "state": {
            "_model_module": "@jupyter-widgets/base",
            "_model_module_version": "1.2.0",
            "_model_name": "LayoutModel",
            "_view_count": null,
            "_view_module": "@jupyter-widgets/base",
            "_view_module_version": "1.2.0",
            "_view_name": "LayoutView",
            "align_content": null,
            "align_items": null,
            "align_self": null,
            "border": null,
            "bottom": null,
            "display": null,
            "flex": null,
            "flex_flow": null,
            "grid_area": null,
            "grid_auto_columns": null,
            "grid_auto_flow": null,
            "grid_auto_rows": null,
            "grid_column": null,
            "grid_gap": null,
            "grid_row": null,
            "grid_template_areas": null,
            "grid_template_columns": null,
            "grid_template_rows": null,
            "height": null,
            "justify_content": null,
            "justify_items": null,
            "left": null,
            "margin": null,
            "max_height": null,
            "max_width": null,
            "min_height": null,
            "min_width": null,
            "object_fit": null,
            "object_position": null,
            "order": null,
            "overflow": null,
            "overflow_x": null,
            "overflow_y": null,
            "padding": null,
            "right": null,
            "top": null,
            "visibility": "hidden",
            "width": null
          }
        },
        "f0b1373039e247f889a8cf38a6165b86": {
          "model_module": "@jupyter-widgets/base",
          "model_name": "LayoutModel",
          "model_module_version": "1.2.0",
          "state": {
            "_model_module": "@jupyter-widgets/base",
            "_model_module_version": "1.2.0",
            "_model_name": "LayoutModel",
            "_view_count": null,
            "_view_module": "@jupyter-widgets/base",
            "_view_module_version": "1.2.0",
            "_view_name": "LayoutView",
            "align_content": null,
            "align_items": null,
            "align_self": null,
            "border": null,
            "bottom": null,
            "display": null,
            "flex": null,
            "flex_flow": null,
            "grid_area": null,
            "grid_auto_columns": null,
            "grid_auto_flow": null,
            "grid_auto_rows": null,
            "grid_column": null,
            "grid_gap": null,
            "grid_row": null,
            "grid_template_areas": null,
            "grid_template_columns": null,
            "grid_template_rows": null,
            "height": null,
            "justify_content": null,
            "justify_items": null,
            "left": null,
            "margin": null,
            "max_height": null,
            "max_width": null,
            "min_height": null,
            "min_width": null,
            "object_fit": null,
            "object_position": null,
            "order": null,
            "overflow": null,
            "overflow_x": null,
            "overflow_y": null,
            "padding": null,
            "right": null,
            "top": null,
            "visibility": null,
            "width": null
          }
        },
        "03aa8a3c6fa547e791b07dea5b4bedc3": {
          "model_module": "@jupyter-widgets/controls",
          "model_name": "DescriptionStyleModel",
          "model_module_version": "1.5.0",
          "state": {
            "_model_module": "@jupyter-widgets/controls",
            "_model_module_version": "1.5.0",
            "_model_name": "DescriptionStyleModel",
            "_view_count": null,
            "_view_module": "@jupyter-widgets/base",
            "_view_module_version": "1.2.0",
            "_view_name": "StyleView",
            "description_width": ""
          }
        },
        "2fd2bb41f025480ea941182db36588f7": {
          "model_module": "@jupyter-widgets/base",
          "model_name": "LayoutModel",
          "model_module_version": "1.2.0",
          "state": {
            "_model_module": "@jupyter-widgets/base",
            "_model_module_version": "1.2.0",
            "_model_name": "LayoutModel",
            "_view_count": null,
            "_view_module": "@jupyter-widgets/base",
            "_view_module_version": "1.2.0",
            "_view_name": "LayoutView",
            "align_content": null,
            "align_items": null,
            "align_self": null,
            "border": null,
            "bottom": null,
            "display": null,
            "flex": null,
            "flex_flow": null,
            "grid_area": null,
            "grid_auto_columns": null,
            "grid_auto_flow": null,
            "grid_auto_rows": null,
            "grid_column": null,
            "grid_gap": null,
            "grid_row": null,
            "grid_template_areas": null,
            "grid_template_columns": null,
            "grid_template_rows": null,
            "height": null,
            "justify_content": null,
            "justify_items": null,
            "left": null,
            "margin": null,
            "max_height": null,
            "max_width": null,
            "min_height": null,
            "min_width": null,
            "object_fit": null,
            "object_position": null,
            "order": null,
            "overflow": null,
            "overflow_x": null,
            "overflow_y": null,
            "padding": null,
            "right": null,
            "top": null,
            "visibility": null,
            "width": null
          }
        },
        "5bca960532024d3a97d12bfdc591fb33": {
          "model_module": "@jupyter-widgets/controls",
          "model_name": "ProgressStyleModel",
          "model_module_version": "1.5.0",
          "state": {
            "_model_module": "@jupyter-widgets/controls",
            "_model_module_version": "1.5.0",
            "_model_name": "ProgressStyleModel",
            "_view_count": null,
            "_view_module": "@jupyter-widgets/base",
            "_view_module_version": "1.2.0",
            "_view_name": "StyleView",
            "bar_color": null,
            "description_width": ""
          }
        },
        "b8e671d868554d22ba4089477c28ef9f": {
          "model_module": "@jupyter-widgets/base",
          "model_name": "LayoutModel",
          "model_module_version": "1.2.0",
          "state": {
            "_model_module": "@jupyter-widgets/base",
            "_model_module_version": "1.2.0",
            "_model_name": "LayoutModel",
            "_view_count": null,
            "_view_module": "@jupyter-widgets/base",
            "_view_module_version": "1.2.0",
            "_view_name": "LayoutView",
            "align_content": null,
            "align_items": null,
            "align_self": null,
            "border": null,
            "bottom": null,
            "display": null,
            "flex": null,
            "flex_flow": null,
            "grid_area": null,
            "grid_auto_columns": null,
            "grid_auto_flow": null,
            "grid_auto_rows": null,
            "grid_column": null,
            "grid_gap": null,
            "grid_row": null,
            "grid_template_areas": null,
            "grid_template_columns": null,
            "grid_template_rows": null,
            "height": null,
            "justify_content": null,
            "justify_items": null,
            "left": null,
            "margin": null,
            "max_height": null,
            "max_width": null,
            "min_height": null,
            "min_width": null,
            "object_fit": null,
            "object_position": null,
            "order": null,
            "overflow": null,
            "overflow_x": null,
            "overflow_y": null,
            "padding": null,
            "right": null,
            "top": null,
            "visibility": null,
            "width": null
          }
        },
        "0585822184cb466c9a316f47d0295287": {
          "model_module": "@jupyter-widgets/controls",
          "model_name": "DescriptionStyleModel",
          "model_module_version": "1.5.0",
          "state": {
            "_model_module": "@jupyter-widgets/controls",
            "_model_module_version": "1.5.0",
            "_model_name": "DescriptionStyleModel",
            "_view_count": null,
            "_view_module": "@jupyter-widgets/base",
            "_view_module_version": "1.2.0",
            "_view_name": "StyleView",
            "description_width": ""
          }
        }
      }
    }
  },
  "cells": [
    {
      "cell_type": "markdown",
      "metadata": {
        "id": "view-in-github",
        "colab_type": "text"
      },
      "source": [
        "<a href=\"https://colab.research.google.com/github/MayarQasrawi/Artificial-Intelligent/blob/main/ML_Assignment.ipynb\" target=\"_parent\"><img src=\"https://colab.research.google.com/assets/colab-badge.svg\" alt=\"Open In Colab\"/></a>"
      ]
    },
    {
      "cell_type": "markdown",
      "source": [
        "# ⭐ Part 1\n",
        " In this part we Used Scikit-learn to train our Regression model.\n",
        "\n",
        "### Algorithm\n",
        "*   Simple Linear Regression\n",
        "*   Decision Tree Regressor\n",
        "\n"
      ],
      "metadata": {
        "id": "WWr8zMdJYJg8"
      }
    },
    {
      "cell_type": "markdown",
      "source": [
        "# Import Libreries"
      ],
      "metadata": {
        "id": "OpMXp3vBXH00"
      }
    },
    {
      "cell_type": "code",
      "execution_count": null,
      "metadata": {
        "id": "rZce-ZMbHeDX"
      },
      "outputs": [],
      "source": [
        "import pandas as pd\n",
        "import numpy as np\n",
        "import matplotlib.pyplot as plt\n"
      ]
    },
    {
      "cell_type": "markdown",
      "source": [
        "# Load Data\n"
      ],
      "metadata": {
        "id": "g3gk0qwsXBll"
      }
    },
    {
      "cell_type": "code",
      "source": [
        "\n",
        "file_path = '/content/drive/MyDrive/Datasets/TG_T_CashValues_Rel.xlsx'\n",
        "df = pd.read_excel(file_path)\n",
        "print(df)"
      ],
      "metadata": {
        "colab": {
          "base_uri": "https://localhost:8080/"
        },
        "id": "u9Z7ndGyHorS",
        "outputId": "40bda14f-f4d1-40e9-970f-73317e5a44ab"
      },
      "execution_count": null,
      "outputs": [
        {
          "output_type": "stream",
          "name": "stdout",
          "text": [
            "      Gender  Age  Dur        PPV\n",
            "0       Male    0   20  15.198437\n",
            "1       Male    0   21  15.741015\n",
            "2       Male    0   22  16.267189\n",
            "3       Male    0   23  16.777448\n",
            "4       Male    0   24  17.272269\n",
            "...      ...  ...  ...        ...\n",
            "5265  Female   78    2   1.925421\n",
            "5266  Female   78    3   2.777638\n",
            "5267  Female   79    1   1.000000\n",
            "5268  Female   79    2   1.920897\n",
            "5269  Female   80    1   1.000000\n",
            "\n",
            "[5270 rows x 4 columns]\n"
          ]
        }
      ]
    },
    {
      "cell_type": "markdown",
      "source": [
        "### ⚡ PPV stands for Pay-Per-View\n"
      ],
      "metadata": {
        "id": "vJV450mYs7wh"
      }
    },
    {
      "cell_type": "markdown",
      "source": [
        "# Data exploritery"
      ],
      "metadata": {
        "id": "AgdmYTRbXQSL"
      }
    },
    {
      "cell_type": "code",
      "source": [
        "df.head()"
      ],
      "metadata": {
        "colab": {
          "base_uri": "https://localhost:8080/",
          "height": 206
        },
        "id": "KwGnw5pwITzq",
        "outputId": "c43cfed3-66cb-4a54-b7c2-ec5fc0792b31"
      },
      "execution_count": null,
      "outputs": [
        {
          "output_type": "execute_result",
          "data": {
            "text/plain": [
              "  Gender  Age  Dur        PPV\n",
              "0   Male    0   20  15.198437\n",
              "1   Male    0   21  15.741015\n",
              "2   Male    0   22  16.267189\n",
              "3   Male    0   23  16.777448\n",
              "4   Male    0   24  17.272269"
            ],
            "text/html": [
              "\n",
              "  <div id=\"df-870732e3-1fd2-4fda-87be-feb84357d9b6\" class=\"colab-df-container\">\n",
              "    <div>\n",
              "<style scoped>\n",
              "    .dataframe tbody tr th:only-of-type {\n",
              "        vertical-align: middle;\n",
              "    }\n",
              "\n",
              "    .dataframe tbody tr th {\n",
              "        vertical-align: top;\n",
              "    }\n",
              "\n",
              "    .dataframe thead th {\n",
              "        text-align: right;\n",
              "    }\n",
              "</style>\n",
              "<table border=\"1\" class=\"dataframe\">\n",
              "  <thead>\n",
              "    <tr style=\"text-align: right;\">\n",
              "      <th></th>\n",
              "      <th>Gender</th>\n",
              "      <th>Age</th>\n",
              "      <th>Dur</th>\n",
              "      <th>PPV</th>\n",
              "    </tr>\n",
              "  </thead>\n",
              "  <tbody>\n",
              "    <tr>\n",
              "      <th>0</th>\n",
              "      <td>Male</td>\n",
              "      <td>0</td>\n",
              "      <td>20</td>\n",
              "      <td>15.198437</td>\n",
              "    </tr>\n",
              "    <tr>\n",
              "      <th>1</th>\n",
              "      <td>Male</td>\n",
              "      <td>0</td>\n",
              "      <td>21</td>\n",
              "      <td>15.741015</td>\n",
              "    </tr>\n",
              "    <tr>\n",
              "      <th>2</th>\n",
              "      <td>Male</td>\n",
              "      <td>0</td>\n",
              "      <td>22</td>\n",
              "      <td>16.267189</td>\n",
              "    </tr>\n",
              "    <tr>\n",
              "      <th>3</th>\n",
              "      <td>Male</td>\n",
              "      <td>0</td>\n",
              "      <td>23</td>\n",
              "      <td>16.777448</td>\n",
              "    </tr>\n",
              "    <tr>\n",
              "      <th>4</th>\n",
              "      <td>Male</td>\n",
              "      <td>0</td>\n",
              "      <td>24</td>\n",
              "      <td>17.272269</td>\n",
              "    </tr>\n",
              "  </tbody>\n",
              "</table>\n",
              "</div>\n",
              "    <div class=\"colab-df-buttons\">\n",
              "\n",
              "  <div class=\"colab-df-container\">\n",
              "    <button class=\"colab-df-convert\" onclick=\"convertToInteractive('df-870732e3-1fd2-4fda-87be-feb84357d9b6')\"\n",
              "            title=\"Convert this dataframe to an interactive table.\"\n",
              "            style=\"display:none;\">\n",
              "\n",
              "  <svg xmlns=\"http://www.w3.org/2000/svg\" height=\"24px\" viewBox=\"0 -960 960 960\">\n",
              "    <path d=\"M120-120v-720h720v720H120Zm60-500h600v-160H180v160Zm220 220h160v-160H400v160Zm0 220h160v-160H400v160ZM180-400h160v-160H180v160Zm440 0h160v-160H620v160ZM180-180h160v-160H180v160Zm440 0h160v-160H620v160Z\"/>\n",
              "  </svg>\n",
              "    </button>\n",
              "\n",
              "  <style>\n",
              "    .colab-df-container {\n",
              "      display:flex;\n",
              "      gap: 12px;\n",
              "    }\n",
              "\n",
              "    .colab-df-convert {\n",
              "      background-color: #E8F0FE;\n",
              "      border: none;\n",
              "      border-radius: 50%;\n",
              "      cursor: pointer;\n",
              "      display: none;\n",
              "      fill: #1967D2;\n",
              "      height: 32px;\n",
              "      padding: 0 0 0 0;\n",
              "      width: 32px;\n",
              "    }\n",
              "\n",
              "    .colab-df-convert:hover {\n",
              "      background-color: #E2EBFA;\n",
              "      box-shadow: 0px 1px 2px rgba(60, 64, 67, 0.3), 0px 1px 3px 1px rgba(60, 64, 67, 0.15);\n",
              "      fill: #174EA6;\n",
              "    }\n",
              "\n",
              "    .colab-df-buttons div {\n",
              "      margin-bottom: 4px;\n",
              "    }\n",
              "\n",
              "    [theme=dark] .colab-df-convert {\n",
              "      background-color: #3B4455;\n",
              "      fill: #D2E3FC;\n",
              "    }\n",
              "\n",
              "    [theme=dark] .colab-df-convert:hover {\n",
              "      background-color: #434B5C;\n",
              "      box-shadow: 0px 1px 3px 1px rgba(0, 0, 0, 0.15);\n",
              "      filter: drop-shadow(0px 1px 2px rgba(0, 0, 0, 0.3));\n",
              "      fill: #FFFFFF;\n",
              "    }\n",
              "  </style>\n",
              "\n",
              "    <script>\n",
              "      const buttonEl =\n",
              "        document.querySelector('#df-870732e3-1fd2-4fda-87be-feb84357d9b6 button.colab-df-convert');\n",
              "      buttonEl.style.display =\n",
              "        google.colab.kernel.accessAllowed ? 'block' : 'none';\n",
              "\n",
              "      async function convertToInteractive(key) {\n",
              "        const element = document.querySelector('#df-870732e3-1fd2-4fda-87be-feb84357d9b6');\n",
              "        const dataTable =\n",
              "          await google.colab.kernel.invokeFunction('convertToInteractive',\n",
              "                                                    [key], {});\n",
              "        if (!dataTable) return;\n",
              "\n",
              "        const docLinkHtml = 'Like what you see? Visit the ' +\n",
              "          '<a target=\"_blank\" href=https://colab.research.google.com/notebooks/data_table.ipynb>data table notebook</a>'\n",
              "          + ' to learn more about interactive tables.';\n",
              "        element.innerHTML = '';\n",
              "        dataTable['output_type'] = 'display_data';\n",
              "        await google.colab.output.renderOutput(dataTable, element);\n",
              "        const docLink = document.createElement('div');\n",
              "        docLink.innerHTML = docLinkHtml;\n",
              "        element.appendChild(docLink);\n",
              "      }\n",
              "    </script>\n",
              "  </div>\n",
              "\n",
              "\n",
              "<div id=\"df-8bdd2462-c95c-4220-9246-c1bbb48ede91\">\n",
              "  <button class=\"colab-df-quickchart\" onclick=\"quickchart('df-8bdd2462-c95c-4220-9246-c1bbb48ede91')\"\n",
              "            title=\"Suggest charts\"\n",
              "            style=\"display:none;\">\n",
              "\n",
              "<svg xmlns=\"http://www.w3.org/2000/svg\" height=\"24px\"viewBox=\"0 0 24 24\"\n",
              "     width=\"24px\">\n",
              "    <g>\n",
              "        <path d=\"M19 3H5c-1.1 0-2 .9-2 2v14c0 1.1.9 2 2 2h14c1.1 0 2-.9 2-2V5c0-1.1-.9-2-2-2zM9 17H7v-7h2v7zm4 0h-2V7h2v10zm4 0h-2v-4h2v4z\"/>\n",
              "    </g>\n",
              "</svg>\n",
              "  </button>\n",
              "\n",
              "<style>\n",
              "  .colab-df-quickchart {\n",
              "      --bg-color: #E8F0FE;\n",
              "      --fill-color: #1967D2;\n",
              "      --hover-bg-color: #E2EBFA;\n",
              "      --hover-fill-color: #174EA6;\n",
              "      --disabled-fill-color: #AAA;\n",
              "      --disabled-bg-color: #DDD;\n",
              "  }\n",
              "\n",
              "  [theme=dark] .colab-df-quickchart {\n",
              "      --bg-color: #3B4455;\n",
              "      --fill-color: #D2E3FC;\n",
              "      --hover-bg-color: #434B5C;\n",
              "      --hover-fill-color: #FFFFFF;\n",
              "      --disabled-bg-color: #3B4455;\n",
              "      --disabled-fill-color: #666;\n",
              "  }\n",
              "\n",
              "  .colab-df-quickchart {\n",
              "    background-color: var(--bg-color);\n",
              "    border: none;\n",
              "    border-radius: 50%;\n",
              "    cursor: pointer;\n",
              "    display: none;\n",
              "    fill: var(--fill-color);\n",
              "    height: 32px;\n",
              "    padding: 0;\n",
              "    width: 32px;\n",
              "  }\n",
              "\n",
              "  .colab-df-quickchart:hover {\n",
              "    background-color: var(--hover-bg-color);\n",
              "    box-shadow: 0 1px 2px rgba(60, 64, 67, 0.3), 0 1px 3px 1px rgba(60, 64, 67, 0.15);\n",
              "    fill: var(--button-hover-fill-color);\n",
              "  }\n",
              "\n",
              "  .colab-df-quickchart-complete:disabled,\n",
              "  .colab-df-quickchart-complete:disabled:hover {\n",
              "    background-color: var(--disabled-bg-color);\n",
              "    fill: var(--disabled-fill-color);\n",
              "    box-shadow: none;\n",
              "  }\n",
              "\n",
              "  .colab-df-spinner {\n",
              "    border: 2px solid var(--fill-color);\n",
              "    border-color: transparent;\n",
              "    border-bottom-color: var(--fill-color);\n",
              "    animation:\n",
              "      spin 1s steps(1) infinite;\n",
              "  }\n",
              "\n",
              "  @keyframes spin {\n",
              "    0% {\n",
              "      border-color: transparent;\n",
              "      border-bottom-color: var(--fill-color);\n",
              "      border-left-color: var(--fill-color);\n",
              "    }\n",
              "    20% {\n",
              "      border-color: transparent;\n",
              "      border-left-color: var(--fill-color);\n",
              "      border-top-color: var(--fill-color);\n",
              "    }\n",
              "    30% {\n",
              "      border-color: transparent;\n",
              "      border-left-color: var(--fill-color);\n",
              "      border-top-color: var(--fill-color);\n",
              "      border-right-color: var(--fill-color);\n",
              "    }\n",
              "    40% {\n",
              "      border-color: transparent;\n",
              "      border-right-color: var(--fill-color);\n",
              "      border-top-color: var(--fill-color);\n",
              "    }\n",
              "    60% {\n",
              "      border-color: transparent;\n",
              "      border-right-color: var(--fill-color);\n",
              "    }\n",
              "    80% {\n",
              "      border-color: transparent;\n",
              "      border-right-color: var(--fill-color);\n",
              "      border-bottom-color: var(--fill-color);\n",
              "    }\n",
              "    90% {\n",
              "      border-color: transparent;\n",
              "      border-bottom-color: var(--fill-color);\n",
              "    }\n",
              "  }\n",
              "</style>\n",
              "\n",
              "  <script>\n",
              "    async function quickchart(key) {\n",
              "      const quickchartButtonEl =\n",
              "        document.querySelector('#' + key + ' button');\n",
              "      quickchartButtonEl.disabled = true;  // To prevent multiple clicks.\n",
              "      quickchartButtonEl.classList.add('colab-df-spinner');\n",
              "      try {\n",
              "        const charts = await google.colab.kernel.invokeFunction(\n",
              "            'suggestCharts', [key], {});\n",
              "      } catch (error) {\n",
              "        console.error('Error during call to suggestCharts:', error);\n",
              "      }\n",
              "      quickchartButtonEl.classList.remove('colab-df-spinner');\n",
              "      quickchartButtonEl.classList.add('colab-df-quickchart-complete');\n",
              "    }\n",
              "    (() => {\n",
              "      let quickchartButtonEl =\n",
              "        document.querySelector('#df-8bdd2462-c95c-4220-9246-c1bbb48ede91 button');\n",
              "      quickchartButtonEl.style.display =\n",
              "        google.colab.kernel.accessAllowed ? 'block' : 'none';\n",
              "    })();\n",
              "  </script>\n",
              "</div>\n",
              "\n",
              "    </div>\n",
              "  </div>\n"
            ],
            "application/vnd.google.colaboratory.intrinsic+json": {
              "type": "dataframe",
              "variable_name": "df",
              "summary": "{\n  \"name\": \"df\",\n  \"rows\": 5270,\n  \"fields\": [\n    {\n      \"column\": \"Gender\",\n      \"properties\": {\n        \"dtype\": \"category\",\n        \"num_unique_values\": 2,\n        \"samples\": [\n          \"Female\",\n          \"Male\"\n        ],\n        \"semantic_type\": \"\",\n        \"description\": \"\"\n      }\n    },\n    {\n      \"column\": \"Age\",\n      \"properties\": {\n        \"dtype\": \"number\",\n        \"std\": 18,\n        \"min\": 0,\n        \"max\": 80,\n        \"num_unique_values\": 81,\n        \"samples\": [\n          30,\n          0\n        ],\n        \"semantic_type\": \"\",\n        \"description\": \"\"\n      }\n    },\n    {\n      \"column\": \"Dur\",\n      \"properties\": {\n        \"dtype\": \"number\",\n        \"std\": 13,\n        \"min\": 1,\n        \"max\": 50,\n        \"num_unique_values\": 50,\n        \"samples\": [\n          33,\n          11\n        ],\n        \"semantic_type\": \"\",\n        \"description\": \"\"\n      }\n    },\n    {\n      \"column\": \"PPV\",\n      \"properties\": {\n        \"dtype\": \"number\",\n        \"std\": 7.0258620156027165,\n        \"min\": 1.0,\n        \"max\": 26.0241179864103,\n        \"num_unique_values\": 2917,\n        \"samples\": [\n          17.8028633518378,\n          22.1190417676757\n        ],\n        \"semantic_type\": \"\",\n        \"description\": \"\"\n      }\n    }\n  ]\n}"
            }
          },
          "metadata": {},
          "execution_count": 4
        }
      ]
    },
    {
      "cell_type": "code",
      "source": [
        "df.describe()"
      ],
      "metadata": {
        "colab": {
          "base_uri": "https://localhost:8080/",
          "height": 300
        },
        "id": "ZhfwSYFTIcWk",
        "outputId": "35d06a83-6b6c-40a5-8e32-d79b027f68e2"
      },
      "execution_count": null,
      "outputs": [
        {
          "output_type": "execute_result",
          "data": {
            "text/plain": [
              "               Age          Dur          PPV\n",
              "count  5270.000000  5270.000000  5270.000000\n",
              "mean     31.294118    22.882353    14.858158\n",
              "std      18.671548    13.793388     7.025862\n",
              "min       0.000000     1.000000     1.000000\n",
              "25%      16.000000    11.000000     9.374980\n",
              "50%      30.000000    22.000000    15.703883\n",
              "75%      45.000000    34.000000    20.953996\n",
              "max      80.000000    50.000000    26.024118"
            ],
            "text/html": [
              "\n",
              "  <div id=\"df-4222a166-f1f4-429c-9e9e-0870b7ae77fe\" class=\"colab-df-container\">\n",
              "    <div>\n",
              "<style scoped>\n",
              "    .dataframe tbody tr th:only-of-type {\n",
              "        vertical-align: middle;\n",
              "    }\n",
              "\n",
              "    .dataframe tbody tr th {\n",
              "        vertical-align: top;\n",
              "    }\n",
              "\n",
              "    .dataframe thead th {\n",
              "        text-align: right;\n",
              "    }\n",
              "</style>\n",
              "<table border=\"1\" class=\"dataframe\">\n",
              "  <thead>\n",
              "    <tr style=\"text-align: right;\">\n",
              "      <th></th>\n",
              "      <th>Age</th>\n",
              "      <th>Dur</th>\n",
              "      <th>PPV</th>\n",
              "    </tr>\n",
              "  </thead>\n",
              "  <tbody>\n",
              "    <tr>\n",
              "      <th>count</th>\n",
              "      <td>5270.000000</td>\n",
              "      <td>5270.000000</td>\n",
              "      <td>5270.000000</td>\n",
              "    </tr>\n",
              "    <tr>\n",
              "      <th>mean</th>\n",
              "      <td>31.294118</td>\n",
              "      <td>22.882353</td>\n",
              "      <td>14.858158</td>\n",
              "    </tr>\n",
              "    <tr>\n",
              "      <th>std</th>\n",
              "      <td>18.671548</td>\n",
              "      <td>13.793388</td>\n",
              "      <td>7.025862</td>\n",
              "    </tr>\n",
              "    <tr>\n",
              "      <th>min</th>\n",
              "      <td>0.000000</td>\n",
              "      <td>1.000000</td>\n",
              "      <td>1.000000</td>\n",
              "    </tr>\n",
              "    <tr>\n",
              "      <th>25%</th>\n",
              "      <td>16.000000</td>\n",
              "      <td>11.000000</td>\n",
              "      <td>9.374980</td>\n",
              "    </tr>\n",
              "    <tr>\n",
              "      <th>50%</th>\n",
              "      <td>30.000000</td>\n",
              "      <td>22.000000</td>\n",
              "      <td>15.703883</td>\n",
              "    </tr>\n",
              "    <tr>\n",
              "      <th>75%</th>\n",
              "      <td>45.000000</td>\n",
              "      <td>34.000000</td>\n",
              "      <td>20.953996</td>\n",
              "    </tr>\n",
              "    <tr>\n",
              "      <th>max</th>\n",
              "      <td>80.000000</td>\n",
              "      <td>50.000000</td>\n",
              "      <td>26.024118</td>\n",
              "    </tr>\n",
              "  </tbody>\n",
              "</table>\n",
              "</div>\n",
              "    <div class=\"colab-df-buttons\">\n",
              "\n",
              "  <div class=\"colab-df-container\">\n",
              "    <button class=\"colab-df-convert\" onclick=\"convertToInteractive('df-4222a166-f1f4-429c-9e9e-0870b7ae77fe')\"\n",
              "            title=\"Convert this dataframe to an interactive table.\"\n",
              "            style=\"display:none;\">\n",
              "\n",
              "  <svg xmlns=\"http://www.w3.org/2000/svg\" height=\"24px\" viewBox=\"0 -960 960 960\">\n",
              "    <path d=\"M120-120v-720h720v720H120Zm60-500h600v-160H180v160Zm220 220h160v-160H400v160Zm0 220h160v-160H400v160ZM180-400h160v-160H180v160Zm440 0h160v-160H620v160ZM180-180h160v-160H180v160Zm440 0h160v-160H620v160Z\"/>\n",
              "  </svg>\n",
              "    </button>\n",
              "\n",
              "  <style>\n",
              "    .colab-df-container {\n",
              "      display:flex;\n",
              "      gap: 12px;\n",
              "    }\n",
              "\n",
              "    .colab-df-convert {\n",
              "      background-color: #E8F0FE;\n",
              "      border: none;\n",
              "      border-radius: 50%;\n",
              "      cursor: pointer;\n",
              "      display: none;\n",
              "      fill: #1967D2;\n",
              "      height: 32px;\n",
              "      padding: 0 0 0 0;\n",
              "      width: 32px;\n",
              "    }\n",
              "\n",
              "    .colab-df-convert:hover {\n",
              "      background-color: #E2EBFA;\n",
              "      box-shadow: 0px 1px 2px rgba(60, 64, 67, 0.3), 0px 1px 3px 1px rgba(60, 64, 67, 0.15);\n",
              "      fill: #174EA6;\n",
              "    }\n",
              "\n",
              "    .colab-df-buttons div {\n",
              "      margin-bottom: 4px;\n",
              "    }\n",
              "\n",
              "    [theme=dark] .colab-df-convert {\n",
              "      background-color: #3B4455;\n",
              "      fill: #D2E3FC;\n",
              "    }\n",
              "\n",
              "    [theme=dark] .colab-df-convert:hover {\n",
              "      background-color: #434B5C;\n",
              "      box-shadow: 0px 1px 3px 1px rgba(0, 0, 0, 0.15);\n",
              "      filter: drop-shadow(0px 1px 2px rgba(0, 0, 0, 0.3));\n",
              "      fill: #FFFFFF;\n",
              "    }\n",
              "  </style>\n",
              "\n",
              "    <script>\n",
              "      const buttonEl =\n",
              "        document.querySelector('#df-4222a166-f1f4-429c-9e9e-0870b7ae77fe button.colab-df-convert');\n",
              "      buttonEl.style.display =\n",
              "        google.colab.kernel.accessAllowed ? 'block' : 'none';\n",
              "\n",
              "      async function convertToInteractive(key) {\n",
              "        const element = document.querySelector('#df-4222a166-f1f4-429c-9e9e-0870b7ae77fe');\n",
              "        const dataTable =\n",
              "          await google.colab.kernel.invokeFunction('convertToInteractive',\n",
              "                                                    [key], {});\n",
              "        if (!dataTable) return;\n",
              "\n",
              "        const docLinkHtml = 'Like what you see? Visit the ' +\n",
              "          '<a target=\"_blank\" href=https://colab.research.google.com/notebooks/data_table.ipynb>data table notebook</a>'\n",
              "          + ' to learn more about interactive tables.';\n",
              "        element.innerHTML = '';\n",
              "        dataTable['output_type'] = 'display_data';\n",
              "        await google.colab.output.renderOutput(dataTable, element);\n",
              "        const docLink = document.createElement('div');\n",
              "        docLink.innerHTML = docLinkHtml;\n",
              "        element.appendChild(docLink);\n",
              "      }\n",
              "    </script>\n",
              "  </div>\n",
              "\n",
              "\n",
              "<div id=\"df-eedd01cc-8be3-4723-8dfe-012c6e351f69\">\n",
              "  <button class=\"colab-df-quickchart\" onclick=\"quickchart('df-eedd01cc-8be3-4723-8dfe-012c6e351f69')\"\n",
              "            title=\"Suggest charts\"\n",
              "            style=\"display:none;\">\n",
              "\n",
              "<svg xmlns=\"http://www.w3.org/2000/svg\" height=\"24px\"viewBox=\"0 0 24 24\"\n",
              "     width=\"24px\">\n",
              "    <g>\n",
              "        <path d=\"M19 3H5c-1.1 0-2 .9-2 2v14c0 1.1.9 2 2 2h14c1.1 0 2-.9 2-2V5c0-1.1-.9-2-2-2zM9 17H7v-7h2v7zm4 0h-2V7h2v10zm4 0h-2v-4h2v4z\"/>\n",
              "    </g>\n",
              "</svg>\n",
              "  </button>\n",
              "\n",
              "<style>\n",
              "  .colab-df-quickchart {\n",
              "      --bg-color: #E8F0FE;\n",
              "      --fill-color: #1967D2;\n",
              "      --hover-bg-color: #E2EBFA;\n",
              "      --hover-fill-color: #174EA6;\n",
              "      --disabled-fill-color: #AAA;\n",
              "      --disabled-bg-color: #DDD;\n",
              "  }\n",
              "\n",
              "  [theme=dark] .colab-df-quickchart {\n",
              "      --bg-color: #3B4455;\n",
              "      --fill-color: #D2E3FC;\n",
              "      --hover-bg-color: #434B5C;\n",
              "      --hover-fill-color: #FFFFFF;\n",
              "      --disabled-bg-color: #3B4455;\n",
              "      --disabled-fill-color: #666;\n",
              "  }\n",
              "\n",
              "  .colab-df-quickchart {\n",
              "    background-color: var(--bg-color);\n",
              "    border: none;\n",
              "    border-radius: 50%;\n",
              "    cursor: pointer;\n",
              "    display: none;\n",
              "    fill: var(--fill-color);\n",
              "    height: 32px;\n",
              "    padding: 0;\n",
              "    width: 32px;\n",
              "  }\n",
              "\n",
              "  .colab-df-quickchart:hover {\n",
              "    background-color: var(--hover-bg-color);\n",
              "    box-shadow: 0 1px 2px rgba(60, 64, 67, 0.3), 0 1px 3px 1px rgba(60, 64, 67, 0.15);\n",
              "    fill: var(--button-hover-fill-color);\n",
              "  }\n",
              "\n",
              "  .colab-df-quickchart-complete:disabled,\n",
              "  .colab-df-quickchart-complete:disabled:hover {\n",
              "    background-color: var(--disabled-bg-color);\n",
              "    fill: var(--disabled-fill-color);\n",
              "    box-shadow: none;\n",
              "  }\n",
              "\n",
              "  .colab-df-spinner {\n",
              "    border: 2px solid var(--fill-color);\n",
              "    border-color: transparent;\n",
              "    border-bottom-color: var(--fill-color);\n",
              "    animation:\n",
              "      spin 1s steps(1) infinite;\n",
              "  }\n",
              "\n",
              "  @keyframes spin {\n",
              "    0% {\n",
              "      border-color: transparent;\n",
              "      border-bottom-color: var(--fill-color);\n",
              "      border-left-color: var(--fill-color);\n",
              "    }\n",
              "    20% {\n",
              "      border-color: transparent;\n",
              "      border-left-color: var(--fill-color);\n",
              "      border-top-color: var(--fill-color);\n",
              "    }\n",
              "    30% {\n",
              "      border-color: transparent;\n",
              "      border-left-color: var(--fill-color);\n",
              "      border-top-color: var(--fill-color);\n",
              "      border-right-color: var(--fill-color);\n",
              "    }\n",
              "    40% {\n",
              "      border-color: transparent;\n",
              "      border-right-color: var(--fill-color);\n",
              "      border-top-color: var(--fill-color);\n",
              "    }\n",
              "    60% {\n",
              "      border-color: transparent;\n",
              "      border-right-color: var(--fill-color);\n",
              "    }\n",
              "    80% {\n",
              "      border-color: transparent;\n",
              "      border-right-color: var(--fill-color);\n",
              "      border-bottom-color: var(--fill-color);\n",
              "    }\n",
              "    90% {\n",
              "      border-color: transparent;\n",
              "      border-bottom-color: var(--fill-color);\n",
              "    }\n",
              "  }\n",
              "</style>\n",
              "\n",
              "  <script>\n",
              "    async function quickchart(key) {\n",
              "      const quickchartButtonEl =\n",
              "        document.querySelector('#' + key + ' button');\n",
              "      quickchartButtonEl.disabled = true;  // To prevent multiple clicks.\n",
              "      quickchartButtonEl.classList.add('colab-df-spinner');\n",
              "      try {\n",
              "        const charts = await google.colab.kernel.invokeFunction(\n",
              "            'suggestCharts', [key], {});\n",
              "      } catch (error) {\n",
              "        console.error('Error during call to suggestCharts:', error);\n",
              "      }\n",
              "      quickchartButtonEl.classList.remove('colab-df-spinner');\n",
              "      quickchartButtonEl.classList.add('colab-df-quickchart-complete');\n",
              "    }\n",
              "    (() => {\n",
              "      let quickchartButtonEl =\n",
              "        document.querySelector('#df-eedd01cc-8be3-4723-8dfe-012c6e351f69 button');\n",
              "      quickchartButtonEl.style.display =\n",
              "        google.colab.kernel.accessAllowed ? 'block' : 'none';\n",
              "    })();\n",
              "  </script>\n",
              "</div>\n",
              "\n",
              "    </div>\n",
              "  </div>\n"
            ],
            "application/vnd.google.colaboratory.intrinsic+json": {
              "type": "dataframe",
              "summary": "{\n  \"name\": \"df\",\n  \"rows\": 8,\n  \"fields\": [\n    {\n      \"column\": \"Age\",\n      \"properties\": {\n        \"dtype\": \"number\",\n        \"std\": 1852.217626667651,\n        \"min\": 0.0,\n        \"max\": 5270.0,\n        \"num_unique_values\": 8,\n        \"samples\": [\n          31.294117647058822,\n          30.0,\n          5270.0\n        ],\n        \"semantic_type\": \"\",\n        \"description\": \"\"\n      }\n    },\n    {\n      \"column\": \"Dur\",\n      \"properties\": {\n        \"dtype\": \"number\",\n        \"std\": 1855.4740440768653,\n        \"min\": 1.0,\n        \"max\": 5270.0,\n        \"num_unique_values\": 8,\n        \"samples\": [\n          22.88235294117647,\n          22.0,\n          5270.0\n        ],\n        \"semantic_type\": \"\",\n        \"description\": \"\"\n      }\n    },\n    {\n      \"column\": \"PPV\",\n      \"properties\": {\n        \"dtype\": \"number\",\n        \"std\": 1858.4478149461281,\n        \"min\": 1.0,\n        \"max\": 5270.0,\n        \"num_unique_values\": 8,\n        \"samples\": [\n          14.858158284234678,\n          15.7038828871346,\n          5270.0\n        ],\n        \"semantic_type\": \"\",\n        \"description\": \"\"\n      }\n    }\n  ]\n}"
            }
          },
          "metadata": {},
          "execution_count": 5
        }
      ]
    },
    {
      "cell_type": "code",
      "source": [
        "df.columns"
      ],
      "metadata": {
        "colab": {
          "base_uri": "https://localhost:8080/"
        },
        "id": "p8qI36H3IfJl",
        "outputId": "32dd541a-3fa4-48ef-e0e0-37eaf80a911a"
      },
      "execution_count": null,
      "outputs": [
        {
          "output_type": "execute_result",
          "data": {
            "text/plain": [
              "Index(['Gender', 'Age', 'Dur', 'PPV'], dtype='object')"
            ]
          },
          "metadata": {},
          "execution_count": 6
        }
      ]
    },
    {
      "cell_type": "code",
      "source": [
        "df.shape"
      ],
      "metadata": {
        "colab": {
          "base_uri": "https://localhost:8080/"
        },
        "id": "VOvcsU9gIkg-",
        "outputId": "1adc6d70-34d7-49f9-fa66-41c9db37ea1e"
      },
      "execution_count": null,
      "outputs": [
        {
          "output_type": "execute_result",
          "data": {
            "text/plain": [
              "(5270, 4)"
            ]
          },
          "metadata": {},
          "execution_count": 7
        }
      ]
    },
    {
      "cell_type": "code",
      "source": [
        "df.info()"
      ],
      "metadata": {
        "colab": {
          "base_uri": "https://localhost:8080/"
        },
        "id": "wklmXs-hYxIb",
        "outputId": "e3803a86-b404-4f41-cf1f-8d3560e9d133"
      },
      "execution_count": null,
      "outputs": [
        {
          "output_type": "stream",
          "name": "stdout",
          "text": [
            "<class 'pandas.core.frame.DataFrame'>\n",
            "RangeIndex: 5270 entries, 0 to 5269\n",
            "Data columns (total 4 columns):\n",
            " #   Column  Non-Null Count  Dtype  \n",
            "---  ------  --------------  -----  \n",
            " 0   Gender  5270 non-null   object \n",
            " 1   Age     5270 non-null   int64  \n",
            " 2   Dur     5270 non-null   int64  \n",
            " 3   PPV     5270 non-null   float64\n",
            "dtypes: float64(1), int64(2), object(1)\n",
            "memory usage: 164.8+ KB\n"
          ]
        }
      ]
    },
    {
      "cell_type": "markdown",
      "source": [
        "# Data Cleaning\n",
        "There is no missing value in the data set to be handle"
      ],
      "metadata": {
        "id": "BtYBDCMcY3xN"
      }
    },
    {
      "cell_type": "markdown",
      "source": [],
      "metadata": {
        "id": "DRM86VDBXeqw"
      }
    },
    {
      "cell_type": "markdown",
      "source": [
        "# Feature Extraction\n"
      ],
      "metadata": {
        "id": "yRZa5BTdmDAT"
      }
    },
    {
      "cell_type": "code",
      "source": [
        "correlation_matrix = df[['Age','PPV','Dur']].corr()\n",
        "print(correlation_matrix)"
      ],
      "metadata": {
        "colab": {
          "base_uri": "https://localhost:8080/"
        },
        "id": "tpzLiE8qI72G",
        "outputId": "5842a634-d0b6-407a-c7cc-1ef9d0aac203"
      },
      "execution_count": null,
      "outputs": [
        {
          "output_type": "stream",
          "name": "stdout",
          "text": [
            "          Age       PPV       Dur\n",
            "Age  1.000000 -0.565087 -0.507243\n",
            "PPV -0.565087  1.000000  0.978774\n",
            "Dur -0.507243  0.978774  1.000000\n"
          ]
        }
      ]
    },
    {
      "cell_type": "markdown",
      "source": [
        "## 🗒 Note:\n",
        "**Dur** has the highest correlation coefficient (0.978774) with PPV. This indicates a very strong positive linear relationship between the two variables.\n",
        "\n",
        "While **Age** also shows a negative correlation with PPV (-0.565087), the correlation is weaker compared to Dur."
      ],
      "metadata": {
        "id": "Z_o6JRHdWgTQ"
      }
    },
    {
      "cell_type": "code",
      "source": [
        "import seaborn as sns"
      ],
      "metadata": {
        "id": "rFH0ACpVYJlU"
      },
      "execution_count": null,
      "outputs": []
    },
    {
      "cell_type": "code",
      "source": [
        "sns.scatterplot(x=\"Dur\", y=\"PPV\", data=df);"
      ],
      "metadata": {
        "colab": {
          "base_uri": "https://localhost:8080/",
          "height": 503
        },
        "id": "_IzOmy0RX33W",
        "outputId": "7c385be8-21f9-4d14-fa71-8b546f93e7a6"
      },
      "execution_count": null,
      "outputs": [
        {
          "output_type": "display_data",
          "data": {
            "text/plain": [
              "<Figure size 800x550 with 1 Axes>"
            ],
            "image/png": "[encoded data removed]"
          },
          "metadata": {}
        }
      ]
    },
    {
      "cell_type": "code",
      "source": [
        "sns.scatterplot(x=\"Age\", y=\"PPV\", data=df);"
      ],
      "metadata": {
        "colab": {
          "base_uri": "https://localhost:8080/",
          "height": 503
        },
        "id": "mll-QN18YOkn",
        "outputId": "eac953db-aaf9-46b2-f362-bc92be5c2e63"
      },
      "execution_count": null,
      "outputs": [
        {
          "output_type": "display_data",
          "data": {
            "text/plain": [
              "<Figure size 800x550 with 1 Axes>"
            ],
            "image/png": "[encoded data removed]"
          },
          "metadata": {}
        }
      ]
    },
    {
      "cell_type": "markdown",
      "source": [
        "# Spliting the Data"
      ],
      "metadata": {
        "id": "mjEFmPY2biXq"
      }
    },
    {
      "cell_type": "code",
      "source": [
        "# Import train_test_split\n",
        "from sklearn.model_selection import train_test_split"
      ],
      "metadata": {
        "id": "dM3XU1pNIqHa"
      },
      "execution_count": null,
      "outputs": []
    },
    {
      "cell_type": "code",
      "source": [
        "# Reshape x to be 2-dimensional using reshape()\n",
        "x=df['Dur'].values.reshape(-1, 1)\n",
        "# Or, select the column as a DataFrame using double brackets\n",
        "# x = df[['Dur']]\n",
        "y=df['PPV']"
      ],
      "metadata": {
        "id": "xMnkgIx0UxDf"
      },
      "execution_count": null,
      "outputs": []
    },
    {
      "cell_type": "code",
      "source": [
        "x_train, x_test, y_train, y_test = train_test_split(x, y,\n",
        "                                                    random_state=0)"
      ],
      "metadata": {
        "id": "51wRNQadaI9U"
      },
      "execution_count": null,
      "outputs": []
    },
    {
      "cell_type": "code",
      "source": [
        "print(\"Training set has {} samples.\".format(x_train.shape[0]))\n",
        "print(\"Testing set has {} samples.\".format(x_test.shape[0]))"
      ],
      "metadata": {
        "colab": {
          "base_uri": "https://localhost:8080/"
        },
        "id": "d3usfHNygbIm",
        "outputId": "b2246102-3406-4d90-ea66-69049a77eb67"
      },
      "execution_count": null,
      "outputs": [
        {
          "output_type": "stream",
          "name": "stdout",
          "text": [
            "Training set has 3952 samples.\n",
            "Testing set has 1318 samples.\n"
          ]
        }
      ]
    },
    {
      "cell_type": "markdown",
      "source": [
        "\n",
        "\n",
        "# Train the Model\n"
      ],
      "metadata": {
        "id": "9g3N8b6EcJZ4"
      }
    },
    {
      "cell_type": "markdown",
      "source": [
        "### First algorithm| Simple Regreesion"
      ],
      "metadata": {
        "id": "A1EHvsNMaFQZ"
      }
    },
    {
      "cell_type": "code",
      "source": [
        "import matplotlib.pyplot as plt\n",
        "import numpy as np\n",
        "from sklearn import datasets, linear_model\n",
        "from sklearn.metrics import mean_squared_error, r2_score\n",
        "\n",
        "regr = linear_model.LinearRegression()\n",
        "\n",
        "# Train the model using the training sets\n",
        "regr.fit(x_train, y_train)\n",
        "\n",
        "# Make predictions using the testing set\n",
        "y_pred = regr.predict(x_test)\n",
        "\n",
        "# The coefficients\n",
        "print(\"Coefficients:\", regr.coef_)\n",
        "print(\"-\" * 30)\n",
        "# The mean squared error\n",
        "print(\"Mean squared error: %.2f\" % mean_squared_error(y_test, y_pred))\n",
        "print(\"-\" * 30)\n",
        "\n",
        "# The coefficient of determination: 1 is perfect prediction\n",
        "print(\"Coefficient of determination: %.2f\" % r2_score(y_test, y_pred))\n"
      ],
      "metadata": {
        "colab": {
          "base_uri": "https://localhost:8080/"
        },
        "id": "QA7Fq1Ggb-uQ",
        "outputId": "aa7f4631-f1f1-484a-993a-b6872d7580f2"
      },
      "execution_count": null,
      "outputs": [
        {
          "output_type": "stream",
          "name": "stdout",
          "text": [
            "Coefficients: [0.49840806]\n",
            "------------------------------\n",
            "Mean squared error: 2.05\n",
            "------------------------------\n",
            "Coefficient of determination: 0.96\n"
          ]
        }
      ]
    },
    {
      "source": [
        "prediction = regr.predict(x_test[[0]])\n",
        "prediction"
      ],
      "cell_type": "code",
      "metadata": {
        "colab": {
          "base_uri": "https://localhost:8080/"
        },
        "id": "7FPd-3DAjaUb",
        "outputId": "97db9300-839f-488a-e940-1b8a00526e10"
      },
      "execution_count": null,
      "outputs": [
        {
          "output_type": "execute_result",
          "data": {
            "text/plain": [
              "array([4.43653938])"
            ]
          },
          "metadata": {},
          "execution_count": 18
        }
      ]
    },
    {
      "cell_type": "code",
      "source": [
        "y_test.iloc[0]"
      ],
      "metadata": {
        "colab": {
          "base_uri": "https://localhost:8080/"
        },
        "id": "_tM2scbOh4tr",
        "outputId": "066175a9-bf92-43d9-f50e-8e788629daa1"
      },
      "execution_count": null,
      "outputs": [
        {
          "output_type": "execute_result",
          "data": {
            "text/plain": [
              "1.96891174757282"
            ]
          },
          "metadata": {},
          "execution_count": 19
        }
      ]
    },
    {
      "source": [
        "# Assuming 'Dur' is the most relevant feature for the scatter plot,\n",
        "# which is what you used for x during training:\n",
        "plt.scatter(x_test[:, 0], y_test, color=\"black\")  # Access the 'Dur' values directly\n",
        "\n",
        "# The rest of the code remains the same:\n",
        "plt.plot(x_test[:, 0], y_pred, color=\"blue\", linewidth=3)\n",
        "plt.xticks(())\n",
        "plt.yticks(())\n",
        "plt.show()"
      ],
      "cell_type": "code",
      "metadata": {
        "colab": {
          "base_uri": "https://localhost:8080/",
          "height": 460
        },
        "id": "XF7vffy4kj64",
        "outputId": "d16dfb12-4632-4ad2-a289-8662d3679e65"
      },
      "execution_count": null,
      "outputs": [
        {
          "output_type": "display_data",
          "data": {
            "text/plain": [
              "<Figure size 800x550 with 1 Axes>"
            ],
            "image/png": "[encoded data removed]"
          },
          "metadata": {}
        }
      ]
    },
    {
      "cell_type": "markdown",
      "source": [
        "### Sconed algorithm| DecisionTreeRegressor"
      ],
      "metadata": {
        "id": "u5jNhVTkZrTu"
      }
    },
    {
      "cell_type": "code",
      "source": [
        "from sklearn.tree import DecisionTreeRegressor\n",
        "'''\n",
        "in this model we first we try to Train the model Without including catogeric data\n",
        "\n",
        "'''\n",
        "x= df.drop(['PPV','Gender'], axis=1)\n",
        "y= df['PPV']\n",
        "x_train, x_test, y_train, y_test = train_test_split(x, y,\n",
        "                                                    random_state=0)\n",
        "model2 = DecisionTreeRegressor()\n",
        "\n",
        "# Train the model using the training sets\n",
        "model2.fit(x_train, y_train)\n",
        "\n",
        "# Make predictions using the testing set\n",
        "y_pred = model2.predict(x_test)\n",
        "\n",
        "# The mean squared error\n",
        "print(\"Mean squared error: %.2f\" % mean_squared_error(y_test, y_pred))\n",
        "print(\"-\" * 30)\n",
        "\n",
        "# The coefficient of determination: 1 is perfect prediction\n",
        "print(\"Coefficient of determination: %.2f\" % r2_score(y_test, y_pred))"
      ],
      "metadata": {
        "colab": {
          "base_uri": "https://localhost:8080/"
        },
        "id": "CuzBw8PJkuSC",
        "outputId": "35697d93-cadc-4f33-97fe-ac3f8093f649"
      },
      "execution_count": null,
      "outputs": [
        {
          "output_type": "stream",
          "name": "stdout",
          "text": [
            "Mean squared error: 0.21\n",
            "------------------------------\n",
            "Coefficient of determination: 1.00\n"
          ]
        }
      ]
    },
    {
      "cell_type": "code",
      "source": [
        "prediction = model2.predict(x_test.iloc[[0]])\n",
        "prediction"
      ],
      "metadata": {
        "colab": {
          "base_uri": "https://localhost:8080/"
        },
        "id": "xHkCj_cNuGZc",
        "outputId": "d4a473a4-578c-4a89-b0ae-6a74e2fe50a4"
      },
      "execution_count": null,
      "outputs": [
        {
          "output_type": "execute_result",
          "data": {
            "text/plain": [
              "array([1.96690398])"
            ]
          },
          "metadata": {},
          "execution_count": 22
        }
      ]
    },
    {
      "source": [
        "from sklearn.tree import DecisionTreeRegressor\n",
        "from sklearn.preprocessing import OneHotEncoder\n",
        "import pandas as pd\n",
        "from sklearn.model_selection import train_test_split\n",
        "from sklearn.metrics import mean_squared_error, r2_score\n",
        "'''\n",
        "In the second model, here we encode the 'Gender' and involves this featuer in the training\n",
        " as a result the accuracy of the model was improve\n",
        "\n",
        "'''\n",
        "\n",
        "x = df.drop('PPV', axis=1)\n",
        "y = df['PPV']\n",
        "\n",
        "# Create a OneHotEncoder object\n",
        "encoder = OneHotEncoder(sparse_output=False, handle_unknown='ignore') # sparse_output=False for non-sparse matrix\n",
        "\n",
        "# Fit and transform the encoder on the 'Gender' column\n",
        "encoded_gender = encoder.fit_transform(x[['Gender']])\n",
        "\n",
        "# Get feature names after encoding\n",
        "encoded_feature_names = encoder.get_feature_names_out(['Gender'])\n",
        "\n",
        "# Create a DataFrame with the encoded features\n",
        "encoded_df = pd.DataFrame(encoded_gender, columns=encoded_feature_names, index=x.index)\n",
        "\n",
        "# Drop the original 'Gender' column and concatenate the encoded features\n",
        "x = x.drop('Gender', axis=1)\n",
        "x = pd.concat([x, encoded_df], axis=1)\n",
        "\n",
        "x_train, x_test, y_train, y_test = train_test_split(x, y, random_state=0)\n",
        "\n",
        "model2 = DecisionTreeRegressor()\n",
        "model2.fit(x_train, y_train)\n",
        "\n",
        "y_pred = model2.predict(x_test)\n",
        "\n",
        "print(\"Mean squared error: %.2f\" % mean_squared_error(y_test, y_pred))\n",
        "print(\"-\" * 30)\n",
        "print(\"Coefficient of determination: %.2f\" % r2_score(y_test, y_pred))"
      ],
      "cell_type": "code",
      "metadata": {
        "colab": {
          "base_uri": "https://localhost:8080/"
        },
        "id": "lm6balbrrO15",
        "outputId": "89450148-3a09-4516-98cf-74f2b2d9dc28"
      },
      "execution_count": null,
      "outputs": [
        {
          "output_type": "stream",
          "name": "stdout",
          "text": [
            "Mean squared error: 0.01\n",
            "------------------------------\n",
            "Coefficient of determination: 1.00\n"
          ]
        }
      ]
    },
    {
      "source": [
        "prediction = model2.predict(x_test.iloc[[0]])\n",
        "prediction"
      ],
      "cell_type": "code",
      "metadata": {
        "colab": {
          "base_uri": "https://localhost:8080/"
        },
        "id": "KlMR83H0rnRs",
        "outputId": "66b5a0af-af59-4f01-f3df-3f79c8542ec8"
      },
      "execution_count": null,
      "outputs": [
        {
          "output_type": "execute_result",
          "data": {
            "text/plain": [
              "array([1.96908019])"
            ]
          },
          "metadata": {},
          "execution_count": 24
        }
      ]
    },
    {
      "cell_type": "code",
      "source": [
        "y_test.iloc[0]"
      ],
      "metadata": {
        "colab": {
          "base_uri": "https://localhost:8080/"
        },
        "id": "AAXAxzb7qhxv",
        "outputId": "a3f81e33-1f3c-4ca3-deae-cf90e34c1dee"
      },
      "execution_count": null,
      "outputs": [
        {
          "output_type": "execute_result",
          "data": {
            "text/plain": [
              "1.96891174757282"
            ]
          },
          "metadata": {},
          "execution_count": 25
        }
      ]
    },
    {
      "cell_type": "markdown",
      "source": [
        "#⭐ Part 2\n",
        "### In this part we used PyCart Library"
      ],
      "metadata": {
        "id": "jOYs1dEwbaBx"
      }
    },
    {
      "cell_type": "markdown",
      "source": [
        "\n",
        "###  Instal Packeges & Import Libraries"
      ],
      "metadata": {
        "id": "0cVgyEb2d9nH"
      }
    },
    {
      "source": [
        "!pip install pycaret"
      ],
      "cell_type": "code",
      "metadata": {
        "colab": {
          "base_uri": "https://localhost:8080/",
          "height": 1000
        },
        "collapsed": true,
        "id": "a-kK-qVLnA_8",
        "outputId": "e2f482cf-494a-4464-d66a-cfc8e43e5dcf"
      },
      "execution_count": null,
      "outputs": [
        {
          "output_type": "stream",
          "name": "stdout",
          "text": [
            "Collecting pycaret\n",
            "  Downloading pycaret-3.3.2-py3-none-any.whl.metadata (17 kB)\n",
            "Requirement already satisfied: ipython>=5.5.0 in /usr/local/lib/python3.10/dist-packages (from pycaret) (7.34.0)\n",
            "Requirement already satisfied: ipywidgets>=7.6.5 in /usr/local/lib/python3.10/dist-packages (from pycaret) (7.7.1)\n",
            "Requirement already satisfied: tqdm>=4.62.0 in /usr/local/lib/python3.10/dist-packages (from pycaret) (4.67.1)\n",
            "Requirement already satisfied: numpy<1.27,>=1.21 in /usr/local/lib/python3.10/dist-packages (from pycaret) (1.26.4)\n",
            "Collecting pandas<2.2.0 (from pycaret)\n",
            "  Downloading pandas-2.1.4-cp310-cp310-manylinux_2_17_x86_64.manylinux2014_x86_64.whl.metadata (18 kB)\n",
            "Requirement already satisfied: jinja2>=3 in /usr/local/lib/python3.10/dist-packages (from pycaret) (3.1.4)\n",
            "Collecting scipy<=1.11.4,>=1.6.1 (from pycaret)\n",
            "  Downloading scipy-1.11.4-cp310-cp310-manylinux_2_17_x86_64.manylinux2014_x86_64.whl.metadata (60 kB)\n",
            "\u001b[2K     \u001b[90m━━━━━━━━━━━━━━━━━━━━━━━━━━━━━━━━━━━━━━━━\u001b[0m \u001b[32m60.4/60.4 kB\u001b[0m \u001b[31m2.7 MB/s\u001b[0m eta \u001b[36m0:00:00\u001b[0m\n",
            "\u001b[?25hCollecting joblib<1.4,>=1.2.0 (from pycaret)\n",
            "  Downloading joblib-1.3.2-py3-none-any.whl.metadata (5.4 kB)\n",
            "Requirement already satisfied: scikit-learn>1.4.0 in /usr/local/lib/python3.10/dist-packages (from pycaret) (1.6.0)\n",
            "Collecting pyod>=1.1.3 (from pycaret)\n",
            "  Downloading pyod-2.0.2.tar.gz (165 kB)\n",
            "\u001b[2K     \u001b[90m━━━━━━━━━━━━━━━━━━━━━━━━━━━━━━━━━━━━━━━━\u001b[0m \u001b[32m165.8/165.8 kB\u001b[0m \u001b[31m10.5 MB/s\u001b[0m eta \u001b[36m0:00:00\u001b[0m\n",
            "\u001b[?25h  Preparing metadata (setup.py) ... \u001b[?25l\u001b[?25hdone\n",
            "Requirement already satisfied: imbalanced-learn>=0.12.0 in /usr/local/lib/python3.10/dist-packages (from pycaret) (0.12.4)\n",
            "Collecting category-encoders>=2.4.0 (from pycaret)\n",
            "  Downloading category_encoders-2.6.4-py2.py3-none-any.whl.metadata (8.0 kB)\n",
            "Requirement already satisfied: lightgbm>=3.0.0 in /usr/local/lib/python3.10/dist-packages (from pycaret) (4.5.0)\n",
            "Requirement already satisfied: numba>=0.55.0 in /usr/local/lib/python3.10/dist-packages (from pycaret) (0.60.0)\n",
            "Requirement already satisfied: requests>=2.27.1 in /usr/local/lib/python3.10/dist-packages (from pycaret) (2.32.3)\n",
            "Requirement already satisfied: psutil>=5.9.0 in /usr/local/lib/python3.10/dist-packages (from pycaret) (5.9.5)\n",
            "Requirement already satisfied: markupsafe>=2.0.1 in /usr/local/lib/python3.10/dist-packages (from pycaret) (3.0.2)\n",
            "Requirement already satisfied: importlib-metadata>=4.12.0 in /usr/local/lib/python3.10/dist-packages (from pycaret) (8.5.0)\n",
            "Requirement already satisfied: nbformat>=4.2.0 in /usr/local/lib/python3.10/dist-packages (from pycaret) (5.10.4)\n",
            "Requirement already satisfied: cloudpickle in /usr/local/lib/python3.10/dist-packages (from pycaret) (3.1.0)\n",
            "Collecting deprecation>=2.1.0 (from pycaret)\n",
            "  Downloading deprecation-2.1.0-py2.py3-none-any.whl.metadata (4.6 kB)\n",
            "Collecting xxhash (from pycaret)\n",
            "  Downloading xxhash-3.5.0-cp310-cp310-manylinux_2_17_x86_64.manylinux2014_x86_64.whl.metadata (12 kB)\n",
            "Collecting matplotlib<3.8.0 (from pycaret)\n",
            "  Downloading matplotlib-3.7.5-cp310-cp310-manylinux_2_17_x86_64.manylinux2014_x86_64.whl.metadata (5.7 kB)\n",
            "Collecting scikit-plot>=0.3.7 (from pycaret)\n",
            "  Downloading scikit_plot-0.3.7-py3-none-any.whl.metadata (7.1 kB)\n",
            "Requirement already satisfied: yellowbrick>=1.4 in /usr/local/lib/python3.10/dist-packages (from pycaret) (1.5)\n",
            "Requirement already satisfied: plotly>=5.14.0 in /usr/local/lib/python3.10/dist-packages (from pycaret) (5.24.1)\n",
            "Collecting kaleido>=0.2.1 (from pycaret)\n",
            "  Downloading kaleido-0.2.1-py2.py3-none-manylinux1_x86_64.whl.metadata (15 kB)\n",
            "Collecting schemdraw==0.15 (from pycaret)\n",
            "  Downloading schemdraw-0.15-py3-none-any.whl.metadata (2.2 kB)\n",
            "Collecting plotly-resampler>=0.8.3.1 (from pycaret)\n",
            "  Downloading plotly_resampler-0.10.0-py3-none-any.whl.metadata (13 kB)\n",
            "Requirement already satisfied: statsmodels>=0.12.1 in /usr/local/lib/python3.10/dist-packages (from pycaret) (0.14.4)\n",
            "Collecting sktime==0.26.0 (from pycaret)\n",
            "  Downloading sktime-0.26.0-py3-none-any.whl.metadata (29 kB)\n",
            "Collecting tbats>=1.1.3 (from pycaret)\n",
            "  Downloading tbats-1.1.3-py3-none-any.whl.metadata (3.8 kB)\n",
            "Collecting pmdarima>=2.0.4 (from pycaret)\n",
            "  Downloading pmdarima-2.0.4-cp310-cp310-manylinux_2_17_x86_64.manylinux2014_x86_64.manylinux_2_28_x86_64.whl.metadata (7.8 kB)\n",
            "Collecting wurlitzer (from pycaret)\n",
            "  Downloading wurlitzer-3.1.1-py3-none-any.whl.metadata (2.5 kB)\n",
            "Requirement already satisfied: packaging in /usr/local/lib/python3.10/dist-packages (from sktime==0.26.0->pycaret) (24.2)\n",
            "Collecting scikit-base<0.8.0 (from sktime==0.26.0->pycaret)\n",
            "  Downloading scikit_base-0.7.8-py3-none-any.whl.metadata (8.8 kB)\n",
            "Collecting scikit-learn>1.4.0 (from pycaret)\n",
            "  Downloading scikit_learn-1.4.2-cp310-cp310-manylinux_2_17_x86_64.manylinux2014_x86_64.whl.metadata (11 kB)\n",
            "Requirement already satisfied: patsy>=0.5.1 in /usr/local/lib/python3.10/dist-packages (from category-encoders>=2.4.0->pycaret) (1.0.1)\n",
            "Requirement already satisfied: threadpoolctl>=2.0.0 in /usr/local/lib/python3.10/dist-packages (from imbalanced-learn>=0.12.0->pycaret) (3.5.0)\n",
            "Requirement already satisfied: zipp>=3.20 in /usr/local/lib/python3.10/dist-packages (from importlib-metadata>=4.12.0->pycaret) (3.21.0)\n",
            "Requirement already satisfied: setuptools>=18.5 in /usr/local/lib/python3.10/dist-packages (from ipython>=5.5.0->pycaret) (75.1.0)\n",
            "Collecting jedi>=0.16 (from ipython>=5.5.0->pycaret)\n",
            "  Downloading jedi-0.19.2-py2.py3-none-any.whl.metadata (22 kB)\n",
            "Requirement already satisfied: decorator in /usr/local/lib/python3.10/dist-packages (from ipython>=5.5.0->pycaret) (4.4.2)\n",
            "Requirement already satisfied: pickleshare in /usr/local/lib/python3.10/dist-packages (from ipython>=5.5.0->pycaret) (0.7.5)\n",
            "Requirement already satisfied: traitlets>=4.2 in /usr/local/lib/python3.10/dist-packages (from ipython>=5.5.0->pycaret) (5.7.1)\n",
            "Requirement already satisfied: prompt-toolkit!=3.0.0,!=3.0.1,<3.1.0,>=2.0.0 in /usr/local/lib/python3.10/dist-packages (from ipython>=5.5.0->pycaret) (3.0.48)\n",
            "Requirement already satisfied: pygments in /usr/local/lib/python3.10/dist-packages (from ipython>=5.5.0->pycaret) (2.18.0)\n",
            "Requirement already satisfied: backcall in /usr/local/lib/python3.10/dist-packages (from ipython>=5.5.0->pycaret) (0.2.0)\n",
            "Requirement already satisfied: matplotlib-inline in /usr/local/lib/python3.10/dist-packages (from ipython>=5.5.0->pycaret) (0.1.7)\n",
            "Requirement already satisfied: pexpect>4.3 in /usr/local/lib/python3.10/dist-packages (from ipython>=5.5.0->pycaret) (4.9.0)\n",
            "Requirement already satisfied: ipykernel>=4.5.1 in /usr/local/lib/python3.10/dist-packages (from ipywidgets>=7.6.5->pycaret) (5.5.6)\n",
            "Requirement already satisfied: ipython-genutils~=0.2.0 in /usr/local/lib/python3.10/dist-packages (from ipywidgets>=7.6.5->pycaret) (0.2.0)\n",
            "Requirement already satisfied: widgetsnbextension~=3.6.0 in /usr/local/lib/python3.10/dist-packages (from ipywidgets>=7.6.5->pycaret) (3.6.10)\n",
            "Requirement already satisfied: jupyterlab-widgets>=1.0.0 in /usr/local/lib/python3.10/dist-packages (from ipywidgets>=7.6.5->pycaret) (3.0.13)\n",
            "Requirement already satisfied: contourpy>=1.0.1 in /usr/local/lib/python3.10/dist-packages (from matplotlib<3.8.0->pycaret) (1.3.1)\n",
            "Requirement already satisfied: cycler>=0.10 in /usr/local/lib/python3.10/dist-packages (from matplotlib<3.8.0->pycaret) (0.12.1)\n",
            "Requirement already satisfied: fonttools>=4.22.0 in /usr/local/lib/python3.10/dist-packages (from matplotlib<3.8.0->pycaret) (4.55.3)\n",
            "Requirement already satisfied: kiwisolver>=1.0.1 in /usr/local/lib/python3.10/dist-packages (from matplotlib<3.8.0->pycaret) (1.4.7)\n",
            "Requirement already satisfied: pillow>=6.2.0 in /usr/local/lib/python3.10/dist-packages (from matplotlib<3.8.0->pycaret) (11.0.0)\n",
            "Requirement already satisfied: pyparsing>=2.3.1 in /usr/local/lib/python3.10/dist-packages (from matplotlib<3.8.0->pycaret) (3.2.0)\n",
            "Requirement already satisfied: python-dateutil>=2.7 in /usr/local/lib/python3.10/dist-packages (from matplotlib<3.8.0->pycaret) (2.8.2)\n",
            "Requirement already satisfied: fastjsonschema>=2.15 in /usr/local/lib/python3.10/dist-packages (from nbformat>=4.2.0->pycaret) (2.21.1)\n",
            "Requirement already satisfied: jsonschema>=2.6 in /usr/local/lib/python3.10/dist-packages (from nbformat>=4.2.0->pycaret) (4.23.0)\n",
            "Requirement already satisfied: jupyter-core!=5.0.*,>=4.12 in /usr/local/lib/python3.10/dist-packages (from nbformat>=4.2.0->pycaret) (5.7.2)\n",
            "Requirement already satisfied: llvmlite<0.44,>=0.43.0dev0 in /usr/local/lib/python3.10/dist-packages (from numba>=0.55.0->pycaret) (0.43.0)\n",
            "Requirement already satisfied: pytz>=2020.1 in /usr/local/lib/python3.10/dist-packages (from pandas<2.2.0->pycaret) (2024.2)\n",
            "Requirement already satisfied: tzdata>=2022.1 in /usr/local/lib/python3.10/dist-packages (from pandas<2.2.0->pycaret) (2024.2)\n",
            "Requirement already satisfied: tenacity>=6.2.0 in /usr/local/lib/python3.10/dist-packages (from plotly>=5.14.0->pycaret) (9.0.0)\n",
            "Collecting dash>=2.9.0 (from plotly-resampler>=0.8.3.1->pycaret)\n",
            "  Downloading dash-2.18.2-py3-none-any.whl.metadata (10 kB)\n",
            "Requirement already satisfied: orjson<4.0.0,>=3.8.0 in /usr/local/lib/python3.10/dist-packages (from plotly-resampler>=0.8.3.1->pycaret) (3.10.12)\n",
            "Collecting tsdownsample>=0.1.3 (from plotly-resampler>=0.8.3.1->pycaret)\n",
            "  Downloading tsdownsample-0.1.3-cp310-cp310-manylinux_2_17_x86_64.manylinux2014_x86_64.whl.metadata (7.9 kB)\n",
            "Requirement already satisfied: Cython!=0.29.18,!=0.29.31,>=0.29 in /usr/local/lib/python3.10/dist-packages (from pmdarima>=2.0.4->pycaret) (3.0.11)\n",
            "Requirement already satisfied: urllib3 in /usr/local/lib/python3.10/dist-packages (from pmdarima>=2.0.4->pycaret) (2.2.3)\n",
            "Requirement already satisfied: charset-normalizer<4,>=2 in /usr/local/lib/python3.10/dist-packages (from requests>=2.27.1->pycaret) (3.4.0)\n",
            "Requirement already satisfied: idna<4,>=2.5 in /usr/local/lib/python3.10/dist-packages (from requests>=2.27.1->pycaret) (3.10)\n",
            "Requirement already satisfied: certifi>=2017.4.17 in /usr/local/lib/python3.10/dist-packages (from requests>=2.27.1->pycaret) (2024.12.14)\n",
            "Collecting Flask<3.1,>=1.0.4 (from dash>=2.9.0->plotly-resampler>=0.8.3.1->pycaret)\n",
            "  Downloading flask-3.0.3-py3-none-any.whl.metadata (3.2 kB)\n",
            "Collecting Werkzeug<3.1 (from dash>=2.9.0->plotly-resampler>=0.8.3.1->pycaret)\n",
            "  Downloading werkzeug-3.0.6-py3-none-any.whl.metadata (3.7 kB)\n",
            "Collecting dash-html-components==2.0.0 (from dash>=2.9.0->plotly-resampler>=0.8.3.1->pycaret)\n",
            "  Downloading dash_html_components-2.0.0-py3-none-any.whl.metadata (3.8 kB)\n",
            "Collecting dash-core-components==2.0.0 (from dash>=2.9.0->plotly-resampler>=0.8.3.1->pycaret)\n",
            "  Downloading dash_core_components-2.0.0-py3-none-any.whl.metadata (2.9 kB)\n",
            "Collecting dash-table==5.0.0 (from dash>=2.9.0->plotly-resampler>=0.8.3.1->pycaret)\n",
            "  Downloading dash_table-5.0.0-py3-none-any.whl.metadata (2.4 kB)\n",
            "Requirement already satisfied: typing-extensions>=4.1.1 in /usr/local/lib/python3.10/dist-packages (from dash>=2.9.0->plotly-resampler>=0.8.3.1->pycaret) (4.12.2)\n",
            "Collecting retrying (from dash>=2.9.0->plotly-resampler>=0.8.3.1->pycaret)\n",
            "  Downloading retrying-1.3.4-py3-none-any.whl.metadata (6.9 kB)\n",
            "Requirement already satisfied: nest-asyncio in /usr/local/lib/python3.10/dist-packages (from dash>=2.9.0->plotly-resampler>=0.8.3.1->pycaret) (1.6.0)\n",
            "Requirement already satisfied: jupyter-client in /usr/local/lib/python3.10/dist-packages (from ipykernel>=4.5.1->ipywidgets>=7.6.5->pycaret) (6.1.12)\n",
            "Requirement already satisfied: tornado>=4.2 in /usr/local/lib/python3.10/dist-packages (from ipykernel>=4.5.1->ipywidgets>=7.6.5->pycaret) (6.3.3)\n",
            "Requirement already satisfied: parso<0.9.0,>=0.8.4 in /usr/local/lib/python3.10/dist-packages (from jedi>=0.16->ipython>=5.5.0->pycaret) (0.8.4)\n",
            "Requirement already satisfied: attrs>=22.2.0 in /usr/local/lib/python3.10/dist-packages (from jsonschema>=2.6->nbformat>=4.2.0->pycaret) (24.3.0)\n",
            "Requirement already satisfied: jsonschema-specifications>=2023.03.6 in /usr/local/lib/python3.10/dist-packages (from jsonschema>=2.6->nbformat>=4.2.0->pycaret) (2024.10.1)\n",
            "Requirement already satisfied: referencing>=0.28.4 in /usr/local/lib/python3.10/dist-packages (from jsonschema>=2.6->nbformat>=4.2.0->pycaret) (0.35.1)\n",
            "Requirement already satisfied: rpds-py>=0.7.1 in /usr/local/lib/python3.10/dist-packages (from jsonschema>=2.6->nbformat>=4.2.0->pycaret) (0.22.3)\n",
            "Requirement already satisfied: platformdirs>=2.5 in /usr/local/lib/python3.10/dist-packages (from jupyter-core!=5.0.*,>=4.12->nbformat>=4.2.0->pycaret) (4.3.6)\n",
            "Requirement already satisfied: ptyprocess>=0.5 in /usr/local/lib/python3.10/dist-packages (from pexpect>4.3->ipython>=5.5.0->pycaret) (0.7.0)\n",
            "Requirement already satisfied: wcwidth in /usr/local/lib/python3.10/dist-packages (from prompt-toolkit!=3.0.0,!=3.0.1,<3.1.0,>=2.0.0->ipython>=5.5.0->pycaret) (0.2.13)\n",
            "Requirement already satisfied: six>=1.5 in /usr/local/lib/python3.10/dist-packages (from python-dateutil>=2.7->matplotlib<3.8.0->pycaret) (1.17.0)\n",
            "Requirement already satisfied: notebook>=4.4.1 in /usr/local/lib/python3.10/dist-packages (from widgetsnbextension~=3.6.0->ipywidgets>=7.6.5->pycaret) (6.5.5)\n",
            "Requirement already satisfied: itsdangerous>=2.1.2 in /usr/local/lib/python3.10/dist-packages (from Flask<3.1,>=1.0.4->dash>=2.9.0->plotly-resampler>=0.8.3.1->pycaret) (2.2.0)\n",
            "Requirement already satisfied: click>=8.1.3 in /usr/local/lib/python3.10/dist-packages (from Flask<3.1,>=1.0.4->dash>=2.9.0->plotly-resampler>=0.8.3.1->pycaret) (8.1.7)\n",
            "Requirement already satisfied: blinker>=1.6.2 in /usr/local/lib/python3.10/dist-packages (from Flask<3.1,>=1.0.4->dash>=2.9.0->plotly-resampler>=0.8.3.1->pycaret) (1.9.0)\n",
            "Requirement already satisfied: pyzmq<25,>=17 in /usr/local/lib/python3.10/dist-packages (from notebook>=4.4.1->widgetsnbextension~=3.6.0->ipywidgets>=7.6.5->pycaret) (24.0.1)\n",
            "Requirement already satisfied: argon2-cffi in /usr/local/lib/python3.10/dist-packages (from notebook>=4.4.1->widgetsnbextension~=3.6.0->ipywidgets>=7.6.5->pycaret) (23.1.0)\n",
            "Requirement already satisfied: nbconvert>=5 in /usr/local/lib/python3.10/dist-packages (from notebook>=4.4.1->widgetsnbextension~=3.6.0->ipywidgets>=7.6.5->pycaret) (7.16.4)\n",
            "Requirement already satisfied: Send2Trash>=1.8.0 in /usr/local/lib/python3.10/dist-packages (from notebook>=4.4.1->widgetsnbextension~=3.6.0->ipywidgets>=7.6.5->pycaret) (1.8.3)\n",
            "Requirement already satisfied: terminado>=0.8.3 in /usr/local/lib/python3.10/dist-packages (from notebook>=4.4.1->widgetsnbextension~=3.6.0->ipywidgets>=7.6.5->pycaret) (0.18.1)\n",
            "Requirement already satisfied: prometheus-client in /usr/local/lib/python3.10/dist-packages (from notebook>=4.4.1->widgetsnbextension~=3.6.0->ipywidgets>=7.6.5->pycaret) (0.21.1)\n",
            "Requirement already satisfied: nbclassic>=0.4.7 in /usr/local/lib/python3.10/dist-packages (from notebook>=4.4.1->widgetsnbextension~=3.6.0->ipywidgets>=7.6.5->pycaret) (1.1.0)\n",
            "Requirement already satisfied: notebook-shim>=0.2.3 in /usr/local/lib/python3.10/dist-packages (from nbclassic>=0.4.7->notebook>=4.4.1->widgetsnbextension~=3.6.0->ipywidgets>=7.6.5->pycaret) (0.2.4)\n",
            "Requirement already satisfied: beautifulsoup4 in /usr/local/lib/python3.10/dist-packages (from nbconvert>=5->notebook>=4.4.1->widgetsnbextension~=3.6.0->ipywidgets>=7.6.5->pycaret) (4.12.3)\n",
            "Requirement already satisfied: bleach!=5.0.0 in /usr/local/lib/python3.10/dist-packages (from nbconvert>=5->notebook>=4.4.1->widgetsnbextension~=3.6.0->ipywidgets>=7.6.5->pycaret) (6.2.0)\n",
            "Requirement already satisfied: defusedxml in /usr/local/lib/python3.10/dist-packages (from nbconvert>=5->notebook>=4.4.1->widgetsnbextension~=3.6.0->ipywidgets>=7.6.5->pycaret) (0.7.1)\n",
            "Requirement already satisfied: jupyterlab-pygments in /usr/local/lib/python3.10/dist-packages (from nbconvert>=5->notebook>=4.4.1->widgetsnbextension~=3.6.0->ipywidgets>=7.6.5->pycaret) (0.3.0)\n",
            "Requirement already satisfied: mistune<4,>=2.0.3 in /usr/local/lib/python3.10/dist-packages (from nbconvert>=5->notebook>=4.4.1->widgetsnbextension~=3.6.0->ipywidgets>=7.6.5->pycaret) (3.0.2)\n",
            "Requirement already satisfied: nbclient>=0.5.0 in /usr/local/lib/python3.10/dist-packages (from nbconvert>=5->notebook>=4.4.1->widgetsnbextension~=3.6.0->ipywidgets>=7.6.5->pycaret) (0.10.1)\n",
            "Requirement already satisfied: pandocfilters>=1.4.1 in /usr/local/lib/python3.10/dist-packages (from nbconvert>=5->notebook>=4.4.1->widgetsnbextension~=3.6.0->ipywidgets>=7.6.5->pycaret) (1.5.1)\n",
            "Requirement already satisfied: tinycss2 in /usr/local/lib/python3.10/dist-packages (from nbconvert>=5->notebook>=4.4.1->widgetsnbextension~=3.6.0->ipywidgets>=7.6.5->pycaret) (1.4.0)\n",
            "Requirement already satisfied: argon2-cffi-bindings in /usr/local/lib/python3.10/dist-packages (from argon2-cffi->notebook>=4.4.1->widgetsnbextension~=3.6.0->ipywidgets>=7.6.5->pycaret) (21.2.0)\n",
            "Requirement already satisfied: webencodings in /usr/local/lib/python3.10/dist-packages (from bleach!=5.0.0->nbconvert>=5->notebook>=4.4.1->widgetsnbextension~=3.6.0->ipywidgets>=7.6.5->pycaret) (0.5.1)\n",
            "Requirement already satisfied: jupyter-server<3,>=1.8 in /usr/local/lib/python3.10/dist-packages (from notebook-shim>=0.2.3->nbclassic>=0.4.7->notebook>=4.4.1->widgetsnbextension~=3.6.0->ipywidgets>=7.6.5->pycaret) (1.24.0)\n",
            "Requirement already satisfied: cffi>=1.0.1 in /usr/local/lib/python3.10/dist-packages (from argon2-cffi-bindings->argon2-cffi->notebook>=4.4.1->widgetsnbextension~=3.6.0->ipywidgets>=7.6.5->pycaret) (1.17.1)\n",
            "Requirement already satisfied: soupsieve>1.2 in /usr/local/lib/python3.10/dist-packages (from beautifulsoup4->nbconvert>=5->notebook>=4.4.1->widgetsnbextension~=3.6.0->ipywidgets>=7.6.5->pycaret) (2.6)\n",
            "Requirement already satisfied: pycparser in /usr/local/lib/python3.10/dist-packages (from cffi>=1.0.1->argon2-cffi-bindings->argon2-cffi->notebook>=4.4.1->widgetsnbextension~=3.6.0->ipywidgets>=7.6.5->pycaret) (2.22)\n",
            "Requirement already satisfied: anyio<4,>=3.1.0 in /usr/local/lib/python3.10/dist-packages (from jupyter-server<3,>=1.8->notebook-shim>=0.2.3->nbclassic>=0.4.7->notebook>=4.4.1->widgetsnbextension~=3.6.0->ipywidgets>=7.6.5->pycaret) (3.7.1)\n",
            "Requirement already satisfied: websocket-client in /usr/local/lib/python3.10/dist-packages (from jupyter-server<3,>=1.8->notebook-shim>=0.2.3->nbclassic>=0.4.7->notebook>=4.4.1->widgetsnbextension~=3.6.0->ipywidgets>=7.6.5->pycaret) (1.8.0)\n",
            "Requirement already satisfied: sniffio>=1.1 in /usr/local/lib/python3.10/dist-packages (from anyio<4,>=3.1.0->jupyter-server<3,>=1.8->notebook-shim>=0.2.3->nbclassic>=0.4.7->notebook>=4.4.1->widgetsnbextension~=3.6.0->ipywidgets>=7.6.5->pycaret) (1.3.1)\n",
            "Requirement already satisfied: exceptiongroup in /usr/local/lib/python3.10/dist-packages (from anyio<4,>=3.1.0->jupyter-server<3,>=1.8->notebook-shim>=0.2.3->nbclassic>=0.4.7->notebook>=4.4.1->widgetsnbextension~=3.6.0->ipywidgets>=7.6.5->pycaret) (1.2.2)\n",
            "Downloading pycaret-3.3.2-py3-none-any.whl (486 kB)\n",
            "\u001b[2K   \u001b[90m━━━━━━━━━━━━━━━━━━━━━━━━━━━━━━━━━━━━━━━━\u001b[0m \u001b[32m486.1/486.1 kB\u001b[0m \u001b[31m35.2 MB/s\u001b[0m eta \u001b[36m0:00:00\u001b[0m\n",
            "\u001b[?25hDownloading schemdraw-0.15-py3-none-any.whl (106 kB)\n",
            "\u001b[2K   \u001b[90m━━━━━━━━━━━━━━━━━━━━━━━━━━━━━━━━━━━━━━━━\u001b[0m \u001b[32m106.8/106.8 kB\u001b[0m \u001b[31m9.0 MB/s\u001b[0m eta \u001b[36m0:00:00\u001b[0m\n",
            "\u001b[?25hDownloading sktime-0.26.0-py3-none-any.whl (21.8 MB)\n",
            "\u001b[2K   \u001b[90m━━━━━━━━━━━━━━━━━━━━━━━━━━━━━━━━━━━━━━━━\u001b[0m \u001b[32m21.8/21.8 MB\u001b[0m \u001b[31m88.3 MB/s\u001b[0m eta \u001b[36m0:00:00\u001b[0m\n",
            "\u001b[?25hDownloading category_encoders-2.6.4-py2.py3-none-any.whl (82 kB)\n",
            "\u001b[2K   \u001b[90m━━━━━━━━━━━━━━━━━━━━━━━━━━━━━━━━━━━━━━━━\u001b[0m \u001b[32m82.0/82.0 kB\u001b[0m \u001b[31m7.9 MB/s\u001b[0m eta \u001b[36m0:00:00\u001b[0m\n",
            "\u001b[?25hDownloading deprecation-2.1.0-py2.py3-none-any.whl (11 kB)\n",
            "Downloading joblib-1.3.2-py3-none-any.whl (302 kB)\n",
            "\u001b[2K   \u001b[90m━━━━━━━━━━━━━━━━━━━━━━━━━━━━━━━━━━━━━━━━\u001b[0m \u001b[32m302.2/302.2 kB\u001b[0m \u001b[31m27.3 MB/s\u001b[0m eta \u001b[36m0:00:00\u001b[0m\n",
            "\u001b[?25hDownloading kaleido-0.2.1-py2.py3-none-manylinux1_x86_64.whl (79.9 MB)\n",
            "\u001b[2K   \u001b[90m━━━━━━━━━━━━━━━━━━━━━━━━━━━━━━━━━━━━━━━━\u001b[0m \u001b[32m79.9/79.9 MB\u001b[0m \u001b[31m9.1 MB/s\u001b[0m eta \u001b[36m0:00:00\u001b[0m\n",
            "\u001b[?25hDownloading matplotlib-3.7.5-cp310-cp310-manylinux_2_17_x86_64.manylinux2014_x86_64.whl (11.6 MB)\n",
            "\u001b[2K   \u001b[90m━━━━━━━━━━━━━━━━━━━━━━━━━━━━━━━━━━━━━━━━\u001b[0m \u001b[32m11.6/11.6 MB\u001b[0m \u001b[31m112.7 MB/s\u001b[0m eta \u001b[36m0:00:00\u001b[0m\n",
            "\u001b[?25hDownloading pandas-2.1.4-cp310-cp310-manylinux_2_17_x86_64.manylinux2014_x86_64.whl (12.3 MB)\n",
            "\u001b[2K   \u001b[90m━━━━━━━━━━━━━━━━━━━━━━━━━━━━━━━━━━━━━━━━\u001b[0m \u001b[32m12.3/12.3 MB\u001b[0m \u001b[31m71.8 MB/s\u001b[0m eta \u001b[36m0:00:00\u001b[0m\n",
            "\u001b[?25hDownloading plotly_resampler-0.10.0-py3-none-any.whl (80 kB)\n",
            "\u001b[2K   \u001b[90m━━━━━━━━━━━━━━━━━━━━━━━━━━━━━━━━━━━━━━━━\u001b[0m \u001b[32m80.7/80.7 kB\u001b[0m \u001b[31m7.5 MB/s\u001b[0m eta \u001b[36m0:00:00\u001b[0m\n",
            "\u001b[?25hDownloading pmdarima-2.0.4-cp310-cp310-manylinux_2_17_x86_64.manylinux2014_x86_64.manylinux_2_28_x86_64.whl (2.1 MB)\n",
            "\u001b[2K   \u001b[90m━━━━━━━━━━━━━━━━━━━━━━━━━━━━━━━━━━━━━━━━\u001b[0m \u001b[32m2.1/2.1 MB\u001b[0m \u001b[31m82.0 MB/s\u001b[0m eta \u001b[36m0:00:00\u001b[0m\n",
            "\u001b[?25hDownloading scikit_learn-1.4.2-cp310-cp310-manylinux_2_17_x86_64.manylinux2014_x86_64.whl (12.1 MB)\n",
            "\u001b[2K   \u001b[90m━━━━━━━━━━━━━━━━━━━━━━━━━━━━━━━━━━━━━━━━\u001b[0m \u001b[32m12.1/12.1 MB\u001b[0m \u001b[31m107.4 MB/s\u001b[0m eta \u001b[36m0:00:00\u001b[0m\n",
            "\u001b[?25hDownloading scikit_plot-0.3.7-py3-none-any.whl (33 kB)\n",
            "Downloading scipy-1.11.4-cp310-cp310-manylinux_2_17_x86_64.manylinux2014_x86_64.whl (36.4 MB)\n",
            "\u001b[2K   \u001b[90m━━━━━━━━━━━━━━━━━━━━━━━━━━━━━━━━━━━━━━━━\u001b[0m \u001b[32m36.4/36.4 MB\u001b[0m \u001b[31m17.1 MB/s\u001b[0m eta \u001b[36m0:00:00\u001b[0m\n",
            "\u001b[?25hDownloading tbats-1.1.3-py3-none-any.whl (44 kB)\n",
            "\u001b[2K   \u001b[90m━━━━━━━━━━━━━━━━━━━━━━━━━━━━━━━━━━━━━━━━\u001b[0m \u001b[32m44.0/44.0 kB\u001b[0m \u001b[31m3.8 MB/s\u001b[0m eta \u001b[36m0:00:00\u001b[0m\n",
            "\u001b[?25hDownloading wurlitzer-3.1.1-py3-none-any.whl (8.6 kB)\n",
            "Downloading xxhash-3.5.0-cp310-cp310-manylinux_2_17_x86_64.manylinux2014_x86_64.whl (194 kB)\n",
            "\u001b[2K   \u001b[90m━━━━━━━━━━━━━━━━━━━━━━━━━━━━━━━━━━━━━━━━\u001b[0m \u001b[32m194.1/194.1 kB\u001b[0m \u001b[31m18.0 MB/s\u001b[0m eta \u001b[36m0:00:00\u001b[0m\n",
            "\u001b[?25hDownloading dash-2.18.2-py3-none-any.whl (7.8 MB)\n",
            "\u001b[2K   \u001b[90m━━━━━━━━━━━━━━━━━━━━━━━━━━━━━━━━━━━━━━━━\u001b[0m \u001b[32m7.8/7.8 MB\u001b[0m \u001b[31m114.0 MB/s\u001b[0m eta \u001b[36m0:00:00\u001b[0m\n",
            "\u001b[?25hDownloading dash_core_components-2.0.0-py3-none-any.whl (3.8 kB)\n",
            "Downloading dash_html_components-2.0.0-py3-none-any.whl (4.1 kB)\n",
            "Downloading dash_table-5.0.0-py3-none-any.whl (3.9 kB)\n",
            "Downloading jedi-0.19.2-py2.py3-none-any.whl (1.6 MB)\n",
            "\u001b[2K   \u001b[90m━━━━━━━━━━━━━━━━━━━━━━━━━━━━━━━━━━━━━━━━\u001b[0m \u001b[32m1.6/1.6 MB\u001b[0m \u001b[31m54.5 MB/s\u001b[0m eta \u001b[36m0:00:00\u001b[0m\n",
            "\u001b[?25hDownloading scikit_base-0.7.8-py3-none-any.whl (130 kB)\n",
            "\u001b[2K   \u001b[90m━━━━━━━━━━━━━━━━━━━━━━━━━━━━━━━━━━━━━━━━\u001b[0m \u001b[32m130.1/130.1 kB\u001b[0m \u001b[31m11.2 MB/s\u001b[0m eta \u001b[36m0:00:00\u001b[0m\n",
            "\u001b[?25hDownloading tsdownsample-0.1.3-cp310-cp310-manylinux_2_17_x86_64.manylinux2014_x86_64.whl (2.1 MB)\n",
            "\u001b[2K   \u001b[90m━━━━━━━━━━━━━━━━━━━━━━━━━━━━━━━━━━━━━━━━\u001b[0m \u001b[32m2.1/2.1 MB\u001b[0m \u001b[31m18.5 MB/s\u001b[0m eta \u001b[36m0:00:00\u001b[0m\n",
            "\u001b[?25hDownloading flask-3.0.3-py3-none-any.whl (101 kB)\n",
            "\u001b[2K   \u001b[90m━━━━━━━━━━━━━━━━━━━━━━━━━━━━━━━━━━━━━━━━\u001b[0m \u001b[32m101.7/101.7 kB\u001b[0m \u001b[31m9.1 MB/s\u001b[0m eta \u001b[36m0:00:00\u001b[0m\n",
            "\u001b[?25hDownloading werkzeug-3.0.6-py3-none-any.whl (227 kB)\n",
            "\u001b[2K   \u001b[90m━━━━━━━━━━━━━━━━━━━━━━━━━━━━━━━━━━━━━━━━\u001b[0m \u001b[32m228.0/228.0 kB\u001b[0m \u001b[31m18.3 MB/s\u001b[0m eta \u001b[36m0:00:00\u001b[0m\n",
            "\u001b[?25hDownloading retrying-1.3.4-py3-none-any.whl (11 kB)\n",
            "Building wheels for collected packages: pyod\n",
            "  Building wheel for pyod (setup.py) ... \u001b[?25l\u001b[?25hdone\n",
            "  Created wheel for pyod: filename=pyod-2.0.2-py3-none-any.whl size=198469 sha256=4bbc329f224d7d3e7c954cf099cc20f5bb4d5fa812c3cde5d729f628a9ebfcb0\n",
            "  Stored in directory: /root/.cache/pip/wheels/77/c2/20/34d1f15b41b701ba69f42a32304825810d680754d509f91391\n",
            "Successfully built pyod\n",
            "Installing collected packages: kaleido, dash-table, dash-html-components, dash-core-components, xxhash, wurlitzer, Werkzeug, tsdownsample, scipy, scikit-base, schemdraw, retrying, joblib, jedi, deprecation, scikit-learn, pandas, matplotlib, Flask, sktime, scikit-plot, pyod, dash, pmdarima, plotly-resampler, category-encoders, tbats, pycaret\n",
            "  Attempting uninstall: Werkzeug\n",
            "    Found existing installation: Werkzeug 3.1.3\n",
            "    Uninstalling Werkzeug-3.1.3:\n",
            "      Successfully uninstalled Werkzeug-3.1.3\n",
            "  Attempting uninstall: scipy\n",
            "    Found existing installation: scipy 1.13.1\n",
            "    Uninstalling scipy-1.13.1:\n",
            "      Successfully uninstalled scipy-1.13.1\n",
            "  Attempting uninstall: joblib\n",
            "    Found existing installation: joblib 1.4.2\n",
            "    Uninstalling joblib-1.4.2:\n",
            "      Successfully uninstalled joblib-1.4.2\n",
            "  Attempting uninstall: scikit-learn\n",
            "    Found existing installation: scikit-learn 1.6.0\n",
            "    Uninstalling scikit-learn-1.6.0:\n",
            "      Successfully uninstalled scikit-learn-1.6.0\n",
            "  Attempting uninstall: pandas\n",
            "    Found existing installation: pandas 2.2.2\n",
            "    Uninstalling pandas-2.2.2:\n",
            "      Successfully uninstalled pandas-2.2.2\n",
            "  Attempting uninstall: matplotlib\n",
            "    Found existing installation: matplotlib 3.8.0\n",
            "    Uninstalling matplotlib-3.8.0:\n",
            "      Successfully uninstalled matplotlib-3.8.0\n",
            "  Attempting uninstall: Flask\n",
            "    Found existing installation: Flask 3.1.0\n",
            "    Uninstalling Flask-3.1.0:\n",
            "      Successfully uninstalled Flask-3.1.0\n",
            "\u001b[31mERROR: pip's dependency resolver does not currently take into account all the packages that are installed. This behaviour is the source of the following dependency conflicts.\n",
            "google-colab 1.0.0 requires pandas==2.2.2, but you have pandas 2.1.4 which is incompatible.\n",
            "mizani 0.13.1 requires pandas>=2.2.0, but you have pandas 2.1.4 which is incompatible.\n",
            "plotnine 0.14.4 requires matplotlib>=3.8.0, but you have matplotlib 3.7.5 which is incompatible.\n",
            "plotnine 0.14.4 requires pandas>=2.2.0, but you have pandas 2.1.4 which is incompatible.\u001b[0m\u001b[31m\n",
            "\u001b[0mSuccessfully installed Flask-3.0.3 Werkzeug-3.0.6 category-encoders-2.6.4 dash-2.18.2 dash-core-components-2.0.0 dash-html-components-2.0.0 dash-table-5.0.0 deprecation-2.1.0 jedi-0.19.2 joblib-1.3.2 kaleido-0.2.1 matplotlib-3.7.5 pandas-2.1.4 plotly-resampler-0.10.0 pmdarima-2.0.4 pycaret-3.3.2 pyod-2.0.2 retrying-1.3.4 schemdraw-0.15 scikit-base-0.7.8 scikit-learn-1.4.2 scikit-plot-0.3.7 scipy-1.11.4 sktime-0.26.0 tbats-1.1.3 tsdownsample-0.1.3 wurlitzer-3.1.1 xxhash-3.5.0\n"
          ]
        },
        {
          "output_type": "display_data",
          "data": {
            "application/vnd.colab-display-data+json": {
              "pip_warning": {
                "packages": [
                  "matplotlib",
                  "mpl_toolkits"
                ]
              },
              "id": "4223faec0e7f4d798fdc83a9bc41fe1a"
            }
          },
          "metadata": {}
        }
      ]
    },
    {
      "cell_type": "code",
      "source": [
        "from pycaret.regression import *\n",
        "import pandas as pd"
      ],
      "metadata": {
        "id": "tkJjhr_wdu6E"
      },
      "execution_count": null,
      "outputs": []
    },
    {
      "cell_type": "markdown",
      "source": [
        "### Load Dataset"
      ],
      "metadata": {
        "id": "QMJ0qXxze9SB"
      }
    },
    {
      "cell_type": "code",
      "source": [
        "file_path = '/content/drive/MyDrive/Datasets/TG_T_CashValues_Rel.xlsx'\n",
        "df2 = pd.read_excel(file_path)\n",
        "df2.head(n=1)"
      ],
      "metadata": {
        "colab": {
          "base_uri": "https://localhost:8080/",
          "height": 81
        },
        "id": "9-9r1U5hegr6",
        "outputId": "d9c3ce6b-84ed-4fb6-ff3b-4ced5d0eec11"
      },
      "execution_count": null,
      "outputs": [
        {
          "output_type": "execute_result",
          "data": {
            "text/plain": [
              "  Gender  Age  Dur        PPV\n",
              "0   Male    0   20  15.198437"
            ],
            "text/html": [
              "\n",
              "  <div id=\"df-3446771a-333d-4131-8294-70a5400eb20f\" class=\"colab-df-container\">\n",
              "    <div>\n",
              "<style scoped>\n",
              "    .dataframe tbody tr th:only-of-type {\n",
              "        vertical-align: middle;\n",
              "    }\n",
              "\n",
              "    .dataframe tbody tr th {\n",
              "        vertical-align: top;\n",
              "    }\n",
              "\n",
              "    .dataframe thead th {\n",
              "        text-align: right;\n",
              "    }\n",
              "</style>\n",
              "<table border=\"1\" class=\"dataframe\">\n",
              "  <thead>\n",
              "    <tr style=\"text-align: right;\">\n",
              "      <th></th>\n",
              "      <th>Gender</th>\n",
              "      <th>Age</th>\n",
              "      <th>Dur</th>\n",
              "      <th>PPV</th>\n",
              "    </tr>\n",
              "  </thead>\n",
              "  <tbody>\n",
              "    <tr>\n",
              "      <th>0</th>\n",
              "      <td>Male</td>\n",
              "      <td>0</td>\n",
              "      <td>20</td>\n",
              "      <td>15.198437</td>\n",
              "    </tr>\n",
              "  </tbody>\n",
              "</table>\n",
              "</div>\n",
              "    <div class=\"colab-df-buttons\">\n",
              "\n",
              "  <div class=\"colab-df-container\">\n",
              "    <button class=\"colab-df-convert\" onclick=\"convertToInteractive('df-3446771a-333d-4131-8294-70a5400eb20f')\"\n",
              "            title=\"Convert this dataframe to an interactive table.\"\n",
              "            style=\"display:none;\">\n",
              "\n",
              "  <svg xmlns=\"http://www.w3.org/2000/svg\" height=\"24px\" viewBox=\"0 -960 960 960\">\n",
              "    <path d=\"M120-120v-720h720v720H120Zm60-500h600v-160H180v160Zm220 220h160v-160H400v160Zm0 220h160v-160H400v160ZM180-400h160v-160H180v160Zm440 0h160v-160H620v160ZM180-180h160v-160H180v160Zm440 0h160v-160H620v160Z\"/>\n",
              "  </svg>\n",
              "    </button>\n",
              "\n",
              "  <style>\n",
              "    .colab-df-container {\n",
              "      display:flex;\n",
              "      gap: 12px;\n",
              "    }\n",
              "\n",
              "    .colab-df-convert {\n",
              "      background-color: #E8F0FE;\n",
              "      border: none;\n",
              "      border-radius: 50%;\n",
              "      cursor: pointer;\n",
              "      display: none;\n",
              "      fill: #1967D2;\n",
              "      height: 32px;\n",
              "      padding: 0 0 0 0;\n",
              "      width: 32px;\n",
              "    }\n",
              "\n",
              "    .colab-df-convert:hover {\n",
              "      background-color: #E2EBFA;\n",
              "      box-shadow: 0px 1px 2px rgba(60, 64, 67, 0.3), 0px 1px 3px 1px rgba(60, 64, 67, 0.15);\n",
              "      fill: #174EA6;\n",
              "    }\n",
              "\n",
              "    .colab-df-buttons div {\n",
              "      margin-bottom: 4px;\n",
              "    }\n",
              "\n",
              "    [theme=dark] .colab-df-convert {\n",
              "      background-color: #3B4455;\n",
              "      fill: #D2E3FC;\n",
              "    }\n",
              "\n",
              "    [theme=dark] .colab-df-convert:hover {\n",
              "      background-color: #434B5C;\n",
              "      box-shadow: 0px 1px 3px 1px rgba(0, 0, 0, 0.15);\n",
              "      filter: drop-shadow(0px 1px 2px rgba(0, 0, 0, 0.3));\n",
              "      fill: #FFFFFF;\n",
              "    }\n",
              "  </style>\n",
              "\n",
              "    <script>\n",
              "      const buttonEl =\n",
              "        document.querySelector('#df-3446771a-333d-4131-8294-70a5400eb20f button.colab-df-convert');\n",
              "      buttonEl.style.display =\n",
              "        google.colab.kernel.accessAllowed ? 'block' : 'none';\n",
              "\n",
              "      async function convertToInteractive(key) {\n",
              "        const element = document.querySelector('#df-3446771a-333d-4131-8294-70a5400eb20f');\n",
              "        const dataTable =\n",
              "          await google.colab.kernel.invokeFunction('convertToInteractive',\n",
              "                                                    [key], {});\n",
              "        if (!dataTable) return;\n",
              "\n",
              "        const docLinkHtml = 'Like what you see? Visit the ' +\n",
              "          '<a target=\"_blank\" href=https://colab.research.google.com/notebooks/data_table.ipynb>data table notebook</a>'\n",
              "          + ' to learn more about interactive tables.';\n",
              "        element.innerHTML = '';\n",
              "        dataTable['output_type'] = 'display_data';\n",
              "        await google.colab.output.renderOutput(dataTable, element);\n",
              "        const docLink = document.createElement('div');\n",
              "        docLink.innerHTML = docLinkHtml;\n",
              "        element.appendChild(docLink);\n",
              "      }\n",
              "    </script>\n",
              "  </div>\n",
              "\n",
              "\n",
              "    </div>\n",
              "  </div>\n"
            ],
            "application/vnd.google.colaboratory.intrinsic+json": {
              "type": "dataframe",
              "variable_name": "df2",
              "summary": "{\n  \"name\": \"df2\",\n  \"rows\": 5270,\n  \"fields\": [\n    {\n      \"column\": \"Gender\",\n      \"properties\": {\n        \"dtype\": \"category\",\n        \"num_unique_values\": 2,\n        \"samples\": [\n          \"Female\",\n          \"Male\"\n        ],\n        \"semantic_type\": \"\",\n        \"description\": \"\"\n      }\n    },\n    {\n      \"column\": \"Age\",\n      \"properties\": {\n        \"dtype\": \"number\",\n        \"std\": 18,\n        \"min\": 0,\n        \"max\": 80,\n        \"num_unique_values\": 81,\n        \"samples\": [\n          30,\n          0\n        ],\n        \"semantic_type\": \"\",\n        \"description\": \"\"\n      }\n    },\n    {\n      \"column\": \"Dur\",\n      \"properties\": {\n        \"dtype\": \"number\",\n        \"std\": 13,\n        \"min\": 1,\n        \"max\": 50,\n        \"num_unique_values\": 50,\n        \"samples\": [\n          33,\n          11\n        ],\n        \"semantic_type\": \"\",\n        \"description\": \"\"\n      }\n    },\n    {\n      \"column\": \"PPV\",\n      \"properties\": {\n        \"dtype\": \"number\",\n        \"std\": 7.0258620156027165,\n        \"min\": 1.0,\n        \"max\": 26.0241179864103,\n        \"num_unique_values\": 2917,\n        \"samples\": [\n          17.8028633518378,\n          22.1190417676757\n        ],\n        \"semantic_type\": \"\",\n        \"description\": \"\"\n      }\n    }\n  ]\n}"
            }
          },
          "metadata": {},
          "execution_count": 10
        }
      ]
    },
    {
      "cell_type": "markdown",
      "source": [
        "### Split the data Tain_Test\n"
      ],
      "metadata": {
        "id": "6ASygVmbf4TM"
      }
    },
    {
      "cell_type": "code",
      "source": [
        "# 80% for training 20% for testing\n",
        "data_train= df2.sample(frac=0.8, random_state=123)\n",
        "data_test= df2.drop(data_train.index)\n",
        "print(f'Train: {data_train.shape}')\n",
        "print(f'Test: {data_test.shape}')"
      ],
      "metadata": {
        "colab": {
          "base_uri": "https://localhost:8080/"
        },
        "id": "P6joC5UqgN5u",
        "outputId": "43237ace-6fed-487d-e179-a558ec35c910"
      },
      "execution_count": null,
      "outputs": [
        {
          "output_type": "stream",
          "name": "stdout",
          "text": [
            "Train: (4216, 4)\n",
            "Test: (1054, 4)\n"
          ]
        }
      ]
    },
    {
      "cell_type": "markdown",
      "source": [
        "### Data setup"
      ],
      "metadata": {
        "id": "91zNUi_LfpXF"
      }
    },
    {
      "cell_type": "code",
      "source": [
        "exp = setup(data_train, target='PPV',\n",
        "              numeric_features=['Age', 'Dur'],\n",
        "              categorical_features=['Gender'],\n",
        "              session_id=123)"
      ],
      "metadata": {
        "colab": {
          "base_uri": "https://localhost:8080/",
          "height": 739
        },
        "id": "h2SxnyJ5fvq1",
        "outputId": "e548f17c-5bb4-42dc-cae7-b1441ddeadc2"
      },
      "execution_count": null,
      "outputs": [
        {
          "output_type": "display_data",
          "data": {
            "text/plain": [
              "<pandas.io.formats.style.Styler at 0x7fd22d44eda0>"
            ],
            "text/html": [
              "<style type=\"text/css\">\n",
              "#T_e0ce2_row9_col1 {\n",
              "  background-color: lightgreen;\n",
              "}\n",
              "</style>\n",
              "<table id=\"T_e0ce2\" class=\"dataframe\">\n",
              "  <thead>\n",
              "    <tr>\n",
              "      <th class=\"blank level0\" >&nbsp;</th>\n",
              "      <th id=\"T_e0ce2_level0_col0\" class=\"col_heading level0 col0\" >Description</th>\n",
              "      <th id=\"T_e0ce2_level0_col1\" class=\"col_heading level0 col1\" >Value</th>\n",
              "    </tr>\n",
              "  </thead>\n",
              "  <tbody>\n",
              "    <tr>\n",
              "      <th id=\"T_e0ce2_level0_row0\" class=\"row_heading level0 row0\" >0</th>\n",
              "      <td id=\"T_e0ce2_row0_col0\" class=\"data row0 col0\" >Session id</td>\n",
              "      <td id=\"T_e0ce2_row0_col1\" class=\"data row0 col1\" >123</td>\n",
              "    </tr>\n",
              "    <tr>\n",
              "      <th id=\"T_e0ce2_level0_row1\" class=\"row_heading level0 row1\" >1</th>\n",
              "      <td id=\"T_e0ce2_row1_col0\" class=\"data row1 col0\" >Target</td>\n",
              "      <td id=\"T_e0ce2_row1_col1\" class=\"data row1 col1\" >PPV</td>\n",
              "    </tr>\n",
              "    <tr>\n",
              "      <th id=\"T_e0ce2_level0_row2\" class=\"row_heading level0 row2\" >2</th>\n",
              "      <td id=\"T_e0ce2_row2_col0\" class=\"data row2 col0\" >Target type</td>\n",
              "      <td id=\"T_e0ce2_row2_col1\" class=\"data row2 col1\" >Regression</td>\n",
              "    </tr>\n",
              "    <tr>\n",
              "      <th id=\"T_e0ce2_level0_row3\" class=\"row_heading level0 row3\" >3</th>\n",
              "      <td id=\"T_e0ce2_row3_col0\" class=\"data row3 col0\" >Original data shape</td>\n",
              "      <td id=\"T_e0ce2_row3_col1\" class=\"data row3 col1\" >(4216, 4)</td>\n",
              "    </tr>\n",
              "    <tr>\n",
              "      <th id=\"T_e0ce2_level0_row4\" class=\"row_heading level0 row4\" >4</th>\n",
              "      <td id=\"T_e0ce2_row4_col0\" class=\"data row4 col0\" >Transformed data shape</td>\n",
              "      <td id=\"T_e0ce2_row4_col1\" class=\"data row4 col1\" >(4216, 4)</td>\n",
              "    </tr>\n",
              "    <tr>\n",
              "      <th id=\"T_e0ce2_level0_row5\" class=\"row_heading level0 row5\" >5</th>\n",
              "      <td id=\"T_e0ce2_row5_col0\" class=\"data row5 col0\" >Transformed train set shape</td>\n",
              "      <td id=\"T_e0ce2_row5_col1\" class=\"data row5 col1\" >(2951, 4)</td>\n",
              "    </tr>\n",
              "    <tr>\n",
              "      <th id=\"T_e0ce2_level0_row6\" class=\"row_heading level0 row6\" >6</th>\n",
              "      <td id=\"T_e0ce2_row6_col0\" class=\"data row6 col0\" >Transformed test set shape</td>\n",
              "      <td id=\"T_e0ce2_row6_col1\" class=\"data row6 col1\" >(1265, 4)</td>\n",
              "    </tr>\n",
              "    <tr>\n",
              "      <th id=\"T_e0ce2_level0_row7\" class=\"row_heading level0 row7\" >7</th>\n",
              "      <td id=\"T_e0ce2_row7_col0\" class=\"data row7 col0\" >Numeric features</td>\n",
              "      <td id=\"T_e0ce2_row7_col1\" class=\"data row7 col1\" >2</td>\n",
              "    </tr>\n",
              "    <tr>\n",
              "      <th id=\"T_e0ce2_level0_row8\" class=\"row_heading level0 row8\" >8</th>\n",
              "      <td id=\"T_e0ce2_row8_col0\" class=\"data row8 col0\" >Categorical features</td>\n",
              "      <td id=\"T_e0ce2_row8_col1\" class=\"data row8 col1\" >1</td>\n",
              "    </tr>\n",
              "    <tr>\n",
              "      <th id=\"T_e0ce2_level0_row9\" class=\"row_heading level0 row9\" >9</th>\n",
              "      <td id=\"T_e0ce2_row9_col0\" class=\"data row9 col0\" >Preprocess</td>\n",
              "      <td id=\"T_e0ce2_row9_col1\" class=\"data row9 col1\" >True</td>\n",
              "    </tr>\n",
              "    <tr>\n",
              "      <th id=\"T_e0ce2_level0_row10\" class=\"row_heading level0 row10\" >10</th>\n",
              "      <td id=\"T_e0ce2_row10_col0\" class=\"data row10 col0\" >Imputation type</td>\n",
              "      <td id=\"T_e0ce2_row10_col1\" class=\"data row10 col1\" >simple</td>\n",
              "    </tr>\n",
              "    <tr>\n",
              "      <th id=\"T_e0ce2_level0_row11\" class=\"row_heading level0 row11\" >11</th>\n",
              "      <td id=\"T_e0ce2_row11_col0\" class=\"data row11 col0\" >Numeric imputation</td>\n",
              "      <td id=\"T_e0ce2_row11_col1\" class=\"data row11 col1\" >mean</td>\n",
              "    </tr>\n",
              "    <tr>\n",
              "      <th id=\"T_e0ce2_level0_row12\" class=\"row_heading level0 row12\" >12</th>\n",
              "      <td id=\"T_e0ce2_row12_col0\" class=\"data row12 col0\" >Categorical imputation</td>\n",
              "      <td id=\"T_e0ce2_row12_col1\" class=\"data row12 col1\" >mode</td>\n",
              "    </tr>\n",
              "    <tr>\n",
              "      <th id=\"T_e0ce2_level0_row13\" class=\"row_heading level0 row13\" >13</th>\n",
              "      <td id=\"T_e0ce2_row13_col0\" class=\"data row13 col0\" >Maximum one-hot encoding</td>\n",
              "      <td id=\"T_e0ce2_row13_col1\" class=\"data row13 col1\" >25</td>\n",
              "    </tr>\n",
              "    <tr>\n",
              "      <th id=\"T_e0ce2_level0_row14\" class=\"row_heading level0 row14\" >14</th>\n",
              "      <td id=\"T_e0ce2_row14_col0\" class=\"data row14 col0\" >Encoding method</td>\n",
              "      <td id=\"T_e0ce2_row14_col1\" class=\"data row14 col1\" >None</td>\n",
              "    </tr>\n",
              "    <tr>\n",
              "      <th id=\"T_e0ce2_level0_row15\" class=\"row_heading level0 row15\" >15</th>\n",
              "      <td id=\"T_e0ce2_row15_col0\" class=\"data row15 col0\" >Fold Generator</td>\n",
              "      <td id=\"T_e0ce2_row15_col1\" class=\"data row15 col1\" >KFold</td>\n",
              "    </tr>\n",
              "    <tr>\n",
              "      <th id=\"T_e0ce2_level0_row16\" class=\"row_heading level0 row16\" >16</th>\n",
              "      <td id=\"T_e0ce2_row16_col0\" class=\"data row16 col0\" >Fold Number</td>\n",
              "      <td id=\"T_e0ce2_row16_col1\" class=\"data row16 col1\" >10</td>\n",
              "    </tr>\n",
              "    <tr>\n",
              "      <th id=\"T_e0ce2_level0_row17\" class=\"row_heading level0 row17\" >17</th>\n",
              "      <td id=\"T_e0ce2_row17_col0\" class=\"data row17 col0\" >CPU Jobs</td>\n",
              "      <td id=\"T_e0ce2_row17_col1\" class=\"data row17 col1\" >-1</td>\n",
              "    </tr>\n",
              "    <tr>\n",
              "      <th id=\"T_e0ce2_level0_row18\" class=\"row_heading level0 row18\" >18</th>\n",
              "      <td id=\"T_e0ce2_row18_col0\" class=\"data row18 col0\" >Use GPU</td>\n",
              "      <td id=\"T_e0ce2_row18_col1\" class=\"data row18 col1\" >False</td>\n",
              "    </tr>\n",
              "    <tr>\n",
              "      <th id=\"T_e0ce2_level0_row19\" class=\"row_heading level0 row19\" >19</th>\n",
              "      <td id=\"T_e0ce2_row19_col0\" class=\"data row19 col0\" >Log Experiment</td>\n",
              "      <td id=\"T_e0ce2_row19_col1\" class=\"data row19 col1\" >False</td>\n",
              "    </tr>\n",
              "    <tr>\n",
              "      <th id=\"T_e0ce2_level0_row20\" class=\"row_heading level0 row20\" >20</th>\n",
              "      <td id=\"T_e0ce2_row20_col0\" class=\"data row20 col0\" >Experiment Name</td>\n",
              "      <td id=\"T_e0ce2_row20_col1\" class=\"data row20 col1\" >reg-default-name</td>\n",
              "    </tr>\n",
              "    <tr>\n",
              "      <th id=\"T_e0ce2_level0_row21\" class=\"row_heading level0 row21\" >21</th>\n",
              "      <td id=\"T_e0ce2_row21_col0\" class=\"data row21 col0\" >USI</td>\n",
              "      <td id=\"T_e0ce2_row21_col1\" class=\"data row21 col1\" >cafb</td>\n",
              "    </tr>\n",
              "  </tbody>\n",
              "</table>\n"
            ]
          },
          "metadata": {}
        }
      ]
    },
    {
      "cell_type": "markdown",
      "source": [
        "### Model selection\n",
        "Choose a suitable model based on the dataset characteristics and evaluation metrics."
      ],
      "metadata": {
        "id": "wudHhYbuhVj3"
      }
    },
    {
      "cell_type": "code",
      "source": [
        "best_model = compare_models(sort='MAE')"
      ],
      "metadata": {
        "colab": {
          "base_uri": "https://localhost:8080/",
          "height": 645,
          "referenced_widgets": [
            "2378e8fca86643bf80daed73c201befc",
            "cf6ec0641aa0454aab147f9059ba6d01",
            "14bd71cc24eb410ca699a9e0ffca29d5",
            "196ec6fe023e43edbaa3ce6614943ef7",
            "03675642bbfc42219bb9e77008e6ae40",
            "fb4aa2aa14d64ad6a81838f6416841ce",
            "a27a807d0108477595f8398df3bca146",
            "1f2548d40f204179a7797c8e8379f81d",
            "f5f967cc0e854572a76f49518f11c662",
            "681f70b27c724da08370944f68b24e63",
            "89c4e6a20797480e86d2dc2ae2149164"
          ]
        },
        "id": "8kJONY8vhZoy",
        "outputId": "b1132961-c273-4789-a779-4c5762501f8a"
      },
      "execution_count": null,
      "outputs": [
        {
          "output_type": "display_data",
          "data": {
            "text/plain": [
              "<IPython.core.display.HTML object>"
            ],
            "text/html": []
          },
          "metadata": {}
        },
        {
          "output_type": "display_data",
          "data": {
            "text/plain": [
              "<pandas.io.formats.style.Styler at 0x7fd2240aad10>"
            ],
            "text/html": [
              "<style type=\"text/css\">\n",
              "#T_f43e2 th {\n",
              "  text-align: left;\n",
              "}\n",
              "#T_f43e2_row0_col0, #T_f43e2_row1_col0, #T_f43e2_row1_col1, #T_f43e2_row1_col2, #T_f43e2_row1_col3, #T_f43e2_row1_col5, #T_f43e2_row1_col6, #T_f43e2_row2_col0, #T_f43e2_row2_col1, #T_f43e2_row2_col2, #T_f43e2_row2_col3, #T_f43e2_row2_col5, #T_f43e2_row2_col6, #T_f43e2_row3_col0, #T_f43e2_row3_col1, #T_f43e2_row3_col2, #T_f43e2_row3_col3, #T_f43e2_row3_col4, #T_f43e2_row3_col5, #T_f43e2_row3_col6, #T_f43e2_row4_col0, #T_f43e2_row4_col1, #T_f43e2_row4_col2, #T_f43e2_row4_col3, #T_f43e2_row4_col4, #T_f43e2_row4_col5, #T_f43e2_row4_col6, #T_f43e2_row5_col0, #T_f43e2_row5_col1, #T_f43e2_row5_col2, #T_f43e2_row5_col3, #T_f43e2_row5_col4, #T_f43e2_row5_col5, #T_f43e2_row5_col6, #T_f43e2_row6_col0, #T_f43e2_row6_col1, #T_f43e2_row6_col2, #T_f43e2_row6_col3, #T_f43e2_row6_col4, #T_f43e2_row6_col5, #T_f43e2_row6_col6, #T_f43e2_row7_col0, #T_f43e2_row7_col1, #T_f43e2_row7_col2, #T_f43e2_row7_col3, #T_f43e2_row7_col4, #T_f43e2_row7_col5, #T_f43e2_row7_col6, #T_f43e2_row8_col0, #T_f43e2_row8_col1, #T_f43e2_row8_col2, #T_f43e2_row8_col3, #T_f43e2_row8_col4, #T_f43e2_row8_col5, #T_f43e2_row8_col6, #T_f43e2_row9_col0, #T_f43e2_row9_col1, #T_f43e2_row9_col2, #T_f43e2_row9_col3, #T_f43e2_row9_col4, #T_f43e2_row9_col5, #T_f43e2_row9_col6, #T_f43e2_row10_col0, #T_f43e2_row10_col1, #T_f43e2_row10_col2, #T_f43e2_row10_col3, #T_f43e2_row10_col4, #T_f43e2_row10_col5, #T_f43e2_row10_col6, #T_f43e2_row11_col0, #T_f43e2_row11_col1, #T_f43e2_row11_col2, #T_f43e2_row11_col3, #T_f43e2_row11_col4, #T_f43e2_row11_col5, #T_f43e2_row11_col6, #T_f43e2_row12_col0, #T_f43e2_row12_col1, #T_f43e2_row12_col2, #T_f43e2_row12_col3, #T_f43e2_row12_col4, #T_f43e2_row12_col5, #T_f43e2_row12_col6, #T_f43e2_row13_col0, #T_f43e2_row13_col1, #T_f43e2_row13_col2, #T_f43e2_row13_col3, #T_f43e2_row13_col4, #T_f43e2_row13_col5, #T_f43e2_row13_col6, #T_f43e2_row14_col0, #T_f43e2_row14_col1, #T_f43e2_row14_col2, #T_f43e2_row14_col3, #T_f43e2_row14_col4, #T_f43e2_row14_col5, #T_f43e2_row14_col6, #T_f43e2_row15_col0, #T_f43e2_row15_col1, #T_f43e2_row15_col2, #T_f43e2_row15_col3, #T_f43e2_row15_col4, #T_f43e2_row15_col5, #T_f43e2_row15_col6, #T_f43e2_row16_col0, #T_f43e2_row16_col1, #T_f43e2_row16_col2, #T_f43e2_row16_col3, #T_f43e2_row16_col4, #T_f43e2_row16_col5, #T_f43e2_row16_col6, #T_f43e2_row17_col0, #T_f43e2_row17_col1, #T_f43e2_row17_col2, #T_f43e2_row17_col3, #T_f43e2_row17_col4, #T_f43e2_row17_col5, #T_f43e2_row17_col6, #T_f43e2_row18_col0, #T_f43e2_row18_col1, #T_f43e2_row18_col2, #T_f43e2_row18_col3, #T_f43e2_row18_col4, #T_f43e2_row18_col5, #T_f43e2_row18_col6 {\n",
              "  text-align: left;\n",
              "}\n",
              "#T_f43e2_row0_col1, #T_f43e2_row0_col2, #T_f43e2_row0_col3, #T_f43e2_row0_col4, #T_f43e2_row0_col5, #T_f43e2_row0_col6, #T_f43e2_row1_col4, #T_f43e2_row2_col4 {\n",
              "  text-align: left;\n",
              "  background-color: yellow;\n",
              "}\n",
              "#T_f43e2_row0_col7, #T_f43e2_row1_col7, #T_f43e2_row2_col7, #T_f43e2_row3_col7, #T_f43e2_row4_col7, #T_f43e2_row5_col7, #T_f43e2_row6_col7, #T_f43e2_row7_col7, #T_f43e2_row8_col7, #T_f43e2_row10_col7, #T_f43e2_row11_col7, #T_f43e2_row12_col7, #T_f43e2_row13_col7, #T_f43e2_row14_col7, #T_f43e2_row15_col7, #T_f43e2_row16_col7, #T_f43e2_row17_col7, #T_f43e2_row18_col7 {\n",
              "  text-align: left;\n",
              "  background-color: lightgrey;\n",
              "}\n",
              "#T_f43e2_row9_col7 {\n",
              "  text-align: left;\n",
              "  background-color: yellow;\n",
              "  background-color: lightgrey;\n",
              "}\n",
              "</style>\n",
              "<table id=\"T_f43e2\" class=\"dataframe\">\n",
              "  <thead>\n",
              "    <tr>\n",
              "      <th class=\"blank level0\" >&nbsp;</th>\n",
              "      <th id=\"T_f43e2_level0_col0\" class=\"col_heading level0 col0\" >Model</th>\n",
              "      <th id=\"T_f43e2_level0_col1\" class=\"col_heading level0 col1\" >MAE</th>\n",
              "      <th id=\"T_f43e2_level0_col2\" class=\"col_heading level0 col2\" >MSE</th>\n",
              "      <th id=\"T_f43e2_level0_col3\" class=\"col_heading level0 col3\" >RMSE</th>\n",
              "      <th id=\"T_f43e2_level0_col4\" class=\"col_heading level0 col4\" >R2</th>\n",
              "      <th id=\"T_f43e2_level0_col5\" class=\"col_heading level0 col5\" >RMSLE</th>\n",
              "      <th id=\"T_f43e2_level0_col6\" class=\"col_heading level0 col6\" >MAPE</th>\n",
              "      <th id=\"T_f43e2_level0_col7\" class=\"col_heading level0 col7\" >TT (Sec)</th>\n",
              "    </tr>\n",
              "  </thead>\n",
              "  <tbody>\n",
              "    <tr>\n",
              "      <th id=\"T_f43e2_level0_row0\" class=\"row_heading level0 row0\" >et</th>\n",
              "      <td id=\"T_f43e2_row0_col0\" class=\"data row0 col0\" >Extra Trees Regressor</td>\n",
              "      <td id=\"T_f43e2_row0_col1\" class=\"data row0 col1\" >0.0143</td>\n",
              "      <td id=\"T_f43e2_row0_col2\" class=\"data row0 col2\" >0.0025</td>\n",
              "      <td id=\"T_f43e2_row0_col3\" class=\"data row0 col3\" >0.0470</td>\n",
              "      <td id=\"T_f43e2_row0_col4\" class=\"data row0 col4\" >0.9999</td>\n",
              "      <td id=\"T_f43e2_row0_col5\" class=\"data row0 col5\" >0.0038</td>\n",
              "      <td id=\"T_f43e2_row0_col6\" class=\"data row0 col6\" >0.0011</td>\n",
              "      <td id=\"T_f43e2_row0_col7\" class=\"data row0 col7\" >0.3280</td>\n",
              "    </tr>\n",
              "    <tr>\n",
              "      <th id=\"T_f43e2_level0_row1\" class=\"row_heading level0 row1\" >xgboost</th>\n",
              "      <td id=\"T_f43e2_row1_col0\" class=\"data row1 col0\" >Extreme Gradient Boosting</td>\n",
              "      <td id=\"T_f43e2_row1_col1\" class=\"data row1 col1\" >0.0360</td>\n",
              "      <td id=\"T_f43e2_row1_col2\" class=\"data row1 col2\" >0.0054</td>\n",
              "      <td id=\"T_f43e2_row1_col3\" class=\"data row1 col3\" >0.0725</td>\n",
              "      <td id=\"T_f43e2_row1_col4\" class=\"data row1 col4\" >0.9999</td>\n",
              "      <td id=\"T_f43e2_row1_col5\" class=\"data row1 col5\" >0.0049</td>\n",
              "      <td id=\"T_f43e2_row1_col6\" class=\"data row1 col6\" >0.0028</td>\n",
              "      <td id=\"T_f43e2_row1_col7\" class=\"data row1 col7\" >0.1680</td>\n",
              "    </tr>\n",
              "    <tr>\n",
              "      <th id=\"T_f43e2_level0_row2\" class=\"row_heading level0 row2\" >lightgbm</th>\n",
              "      <td id=\"T_f43e2_row2_col0\" class=\"data row2 col0\" >Light Gradient Boosting Machine</td>\n",
              "      <td id=\"T_f43e2_row2_col1\" class=\"data row2 col1\" >0.0398</td>\n",
              "      <td id=\"T_f43e2_row2_col2\" class=\"data row2 col2\" >0.0069</td>\n",
              "      <td id=\"T_f43e2_row2_col3\" class=\"data row2 col3\" >0.0820</td>\n",
              "      <td id=\"T_f43e2_row2_col4\" class=\"data row2 col4\" >0.9999</td>\n",
              "      <td id=\"T_f43e2_row2_col5\" class=\"data row2 col5\" >0.0058</td>\n",
              "      <td id=\"T_f43e2_row2_col6\" class=\"data row2 col6\" >0.0032</td>\n",
              "      <td id=\"T_f43e2_row2_col7\" class=\"data row2 col7\" >0.1550</td>\n",
              "    </tr>\n",
              "    <tr>\n",
              "      <th id=\"T_f43e2_level0_row3\" class=\"row_heading level0 row3\" >rf</th>\n",
              "      <td id=\"T_f43e2_row3_col0\" class=\"data row3 col0\" >Random Forest Regressor</td>\n",
              "      <td id=\"T_f43e2_row3_col1\" class=\"data row3 col1\" >0.0480</td>\n",
              "      <td id=\"T_f43e2_row3_col2\" class=\"data row3 col2\" >0.0085</td>\n",
              "      <td id=\"T_f43e2_row3_col3\" class=\"data row3 col3\" >0.0914</td>\n",
              "      <td id=\"T_f43e2_row3_col4\" class=\"data row3 col4\" >0.9998</td>\n",
              "      <td id=\"T_f43e2_row3_col5\" class=\"data row3 col5\" >0.0074</td>\n",
              "      <td id=\"T_f43e2_row3_col6\" class=\"data row3 col6\" >0.0037</td>\n",
              "      <td id=\"T_f43e2_row3_col7\" class=\"data row3 col7\" >0.4040</td>\n",
              "    </tr>\n",
              "    <tr>\n",
              "      <th id=\"T_f43e2_level0_row4\" class=\"row_heading level0 row4\" >dt</th>\n",
              "      <td id=\"T_f43e2_row4_col0\" class=\"data row4 col0\" >Decision Tree Regressor</td>\n",
              "      <td id=\"T_f43e2_row4_col1\" class=\"data row4 col1\" >0.0650</td>\n",
              "      <td id=\"T_f43e2_row4_col2\" class=\"data row4 col2\" >0.0178</td>\n",
              "      <td id=\"T_f43e2_row4_col3\" class=\"data row4 col3\" >0.1323</td>\n",
              "      <td id=\"T_f43e2_row4_col4\" class=\"data row4 col4\" >0.9996</td>\n",
              "      <td id=\"T_f43e2_row4_col5\" class=\"data row4 col5\" >0.0092</td>\n",
              "      <td id=\"T_f43e2_row4_col6\" class=\"data row4 col6\" >0.0046</td>\n",
              "      <td id=\"T_f43e2_row4_col7\" class=\"data row4 col7\" >0.0460</td>\n",
              "    </tr>\n",
              "    <tr>\n",
              "      <th id=\"T_f43e2_level0_row5\" class=\"row_heading level0 row5\" >gbr</th>\n",
              "      <td id=\"T_f43e2_row5_col0\" class=\"data row5 col0\" >Gradient Boosting Regressor</td>\n",
              "      <td id=\"T_f43e2_row5_col1\" class=\"data row5 col1\" >0.0817</td>\n",
              "      <td id=\"T_f43e2_row5_col2\" class=\"data row5 col2\" >0.0188</td>\n",
              "      <td id=\"T_f43e2_row5_col3\" class=\"data row5 col3\" >0.1364</td>\n",
              "      <td id=\"T_f43e2_row5_col4\" class=\"data row5 col4\" >0.9996</td>\n",
              "      <td id=\"T_f43e2_row5_col5\" class=\"data row5 col5\" >0.0124</td>\n",
              "      <td id=\"T_f43e2_row5_col6\" class=\"data row5 col6\" >0.0086</td>\n",
              "      <td id=\"T_f43e2_row5_col7\" class=\"data row5 col7\" >0.2510</td>\n",
              "    </tr>\n",
              "    <tr>\n",
              "      <th id=\"T_f43e2_level0_row6\" class=\"row_heading level0 row6\" >knn</th>\n",
              "      <td id=\"T_f43e2_row6_col0\" class=\"data row6 col0\" >K Neighbors Regressor</td>\n",
              "      <td id=\"T_f43e2_row6_col1\" class=\"data row6 col1\" >0.1950</td>\n",
              "      <td id=\"T_f43e2_row6_col2\" class=\"data row6 col2\" >0.0744</td>\n",
              "      <td id=\"T_f43e2_row6_col3\" class=\"data row6 col3\" >0.2726</td>\n",
              "      <td id=\"T_f43e2_row6_col4\" class=\"data row6 col4\" >0.9985</td>\n",
              "      <td id=\"T_f43e2_row6_col5\" class=\"data row6 col5\" >0.0438</td>\n",
              "      <td id=\"T_f43e2_row6_col6\" class=\"data row6 col6\" >0.0303</td>\n",
              "      <td id=\"T_f43e2_row6_col7\" class=\"data row6 col7\" >0.0470</td>\n",
              "    </tr>\n",
              "    <tr>\n",
              "      <th id=\"T_f43e2_level0_row7\" class=\"row_heading level0 row7\" >ada</th>\n",
              "      <td id=\"T_f43e2_row7_col0\" class=\"data row7 col0\" >AdaBoost Regressor</td>\n",
              "      <td id=\"T_f43e2_row7_col1\" class=\"data row7 col1\" >0.5633</td>\n",
              "      <td id=\"T_f43e2_row7_col2\" class=\"data row7 col2\" >0.4493</td>\n",
              "      <td id=\"T_f43e2_row7_col3\" class=\"data row7 col3\" >0.6700</td>\n",
              "      <td id=\"T_f43e2_row7_col4\" class=\"data row7 col4\" >0.9910</td>\n",
              "      <td id=\"T_f43e2_row7_col5\" class=\"data row7 col5\" >0.0994</td>\n",
              "      <td id=\"T_f43e2_row7_col6\" class=\"data row7 col6\" >0.0816</td>\n",
              "      <td id=\"T_f43e2_row7_col7\" class=\"data row7 col7\" >0.2090</td>\n",
              "    </tr>\n",
              "    <tr>\n",
              "      <th id=\"T_f43e2_level0_row8\" class=\"row_heading level0 row8\" >huber</th>\n",
              "      <td id=\"T_f43e2_row8_col0\" class=\"data row8 col0\" >Huber Regressor</td>\n",
              "      <td id=\"T_f43e2_row8_col1\" class=\"data row8 col1\" >1.1012</td>\n",
              "      <td id=\"T_f43e2_row8_col2\" class=\"data row8 col2\" >1.8583</td>\n",
              "      <td id=\"T_f43e2_row8_col3\" class=\"data row8 col3\" >1.3618</td>\n",
              "      <td id=\"T_f43e2_row8_col4\" class=\"data row8 col4\" >0.9632</td>\n",
              "      <td id=\"T_f43e2_row8_col5\" class=\"data row8 col5\" >0.2154</td>\n",
              "      <td id=\"T_f43e2_row8_col6\" class=\"data row8 col6\" >0.2071</td>\n",
              "      <td id=\"T_f43e2_row8_col7\" class=\"data row8 col7\" >0.0720</td>\n",
              "    </tr>\n",
              "    <tr>\n",
              "      <th id=\"T_f43e2_level0_row9\" class=\"row_heading level0 row9\" >ridge</th>\n",
              "      <td id=\"T_f43e2_row9_col0\" class=\"data row9 col0\" >Ridge Regression</td>\n",
              "      <td id=\"T_f43e2_row9_col1\" class=\"data row9 col1\" >1.1265</td>\n",
              "      <td id=\"T_f43e2_row9_col2\" class=\"data row9 col2\" >1.8140</td>\n",
              "      <td id=\"T_f43e2_row9_col3\" class=\"data row9 col3\" >1.3460</td>\n",
              "      <td id=\"T_f43e2_row9_col4\" class=\"data row9 col4\" >0.9640</td>\n",
              "      <td id=\"T_f43e2_row9_col5\" class=\"data row9 col5\" >0.2024</td>\n",
              "      <td id=\"T_f43e2_row9_col6\" class=\"data row9 col6\" >0.1946</td>\n",
              "      <td id=\"T_f43e2_row9_col7\" class=\"data row9 col7\" >0.0400</td>\n",
              "    </tr>\n",
              "    <tr>\n",
              "      <th id=\"T_f43e2_level0_row10\" class=\"row_heading level0 row10\" >lar</th>\n",
              "      <td id=\"T_f43e2_row10_col0\" class=\"data row10 col0\" >Least Angle Regression</td>\n",
              "      <td id=\"T_f43e2_row10_col1\" class=\"data row10 col1\" >1.1265</td>\n",
              "      <td id=\"T_f43e2_row10_col2\" class=\"data row10 col2\" >1.8140</td>\n",
              "      <td id=\"T_f43e2_row10_col3\" class=\"data row10 col3\" >1.3460</td>\n",
              "      <td id=\"T_f43e2_row10_col4\" class=\"data row10 col4\" >0.9640</td>\n",
              "      <td id=\"T_f43e2_row10_col5\" class=\"data row10 col5\" >0.2024</td>\n",
              "      <td id=\"T_f43e2_row10_col6\" class=\"data row10 col6\" >0.1946</td>\n",
              "      <td id=\"T_f43e2_row10_col7\" class=\"data row10 col7\" >0.0650</td>\n",
              "    </tr>\n",
              "    <tr>\n",
              "      <th id=\"T_f43e2_level0_row11\" class=\"row_heading level0 row11\" >lr</th>\n",
              "      <td id=\"T_f43e2_row11_col0\" class=\"data row11 col0\" >Linear Regression</td>\n",
              "      <td id=\"T_f43e2_row11_col1\" class=\"data row11 col1\" >1.1265</td>\n",
              "      <td id=\"T_f43e2_row11_col2\" class=\"data row11 col2\" >1.8140</td>\n",
              "      <td id=\"T_f43e2_row11_col3\" class=\"data row11 col3\" >1.3460</td>\n",
              "      <td id=\"T_f43e2_row11_col4\" class=\"data row11 col4\" >0.9640</td>\n",
              "      <td id=\"T_f43e2_row11_col5\" class=\"data row11 col5\" >0.2024</td>\n",
              "      <td id=\"T_f43e2_row11_col6\" class=\"data row11 col6\" >0.1946</td>\n",
              "      <td id=\"T_f43e2_row11_col7\" class=\"data row11 col7\" >0.4620</td>\n",
              "    </tr>\n",
              "    <tr>\n",
              "      <th id=\"T_f43e2_level0_row12\" class=\"row_heading level0 row12\" >br</th>\n",
              "      <td id=\"T_f43e2_row12_col0\" class=\"data row12 col0\" >Bayesian Ridge</td>\n",
              "      <td id=\"T_f43e2_row12_col1\" class=\"data row12 col1\" >1.1266</td>\n",
              "      <td id=\"T_f43e2_row12_col2\" class=\"data row12 col2\" >1.8140</td>\n",
              "      <td id=\"T_f43e2_row12_col3\" class=\"data row12 col3\" >1.3460</td>\n",
              "      <td id=\"T_f43e2_row12_col4\" class=\"data row12 col4\" >0.9640</td>\n",
              "      <td id=\"T_f43e2_row12_col5\" class=\"data row12 col5\" >0.2024</td>\n",
              "      <td id=\"T_f43e2_row12_col6\" class=\"data row12 col6\" >0.1946</td>\n",
              "      <td id=\"T_f43e2_row12_col7\" class=\"data row12 col7\" >0.0760</td>\n",
              "    </tr>\n",
              "    <tr>\n",
              "      <th id=\"T_f43e2_level0_row13\" class=\"row_heading level0 row13\" >en</th>\n",
              "      <td id=\"T_f43e2_row13_col0\" class=\"data row13 col0\" >Elastic Net</td>\n",
              "      <td id=\"T_f43e2_row13_col1\" class=\"data row13 col1\" >1.1344</td>\n",
              "      <td id=\"T_f43e2_row13_col2\" class=\"data row13 col2\" >1.8375</td>\n",
              "      <td id=\"T_f43e2_row13_col3\" class=\"data row13 col3\" >1.3546</td>\n",
              "      <td id=\"T_f43e2_row13_col4\" class=\"data row13 col4\" >0.9635</td>\n",
              "      <td id=\"T_f43e2_row13_col5\" class=\"data row13 col5\" >0.2069</td>\n",
              "      <td id=\"T_f43e2_row13_col6\" class=\"data row13 col6\" >0.1999</td>\n",
              "      <td id=\"T_f43e2_row13_col7\" class=\"data row13 col7\" >0.0670</td>\n",
              "    </tr>\n",
              "    <tr>\n",
              "      <th id=\"T_f43e2_level0_row14\" class=\"row_heading level0 row14\" >lasso</th>\n",
              "      <td id=\"T_f43e2_row14_col0\" class=\"data row14 col0\" >Lasso Regression</td>\n",
              "      <td id=\"T_f43e2_row14_col1\" class=\"data row14 col1\" >1.1361</td>\n",
              "      <td id=\"T_f43e2_row14_col2\" class=\"data row14 col2\" >1.8403</td>\n",
              "      <td id=\"T_f43e2_row14_col3\" class=\"data row14 col3\" >1.3557</td>\n",
              "      <td id=\"T_f43e2_row14_col4\" class=\"data row14 col4\" >0.9635</td>\n",
              "      <td id=\"T_f43e2_row14_col5\" class=\"data row14 col5\" >0.2084</td>\n",
              "      <td id=\"T_f43e2_row14_col6\" class=\"data row14 col6\" >0.2017</td>\n",
              "      <td id=\"T_f43e2_row14_col7\" class=\"data row14 col7\" >0.0430</td>\n",
              "    </tr>\n",
              "    <tr>\n",
              "      <th id=\"T_f43e2_level0_row15\" class=\"row_heading level0 row15\" >llar</th>\n",
              "      <td id=\"T_f43e2_row15_col0\" class=\"data row15 col0\" >Lasso Least Angle Regression</td>\n",
              "      <td id=\"T_f43e2_row15_col1\" class=\"data row15 col1\" >1.1362</td>\n",
              "      <td id=\"T_f43e2_row15_col2\" class=\"data row15 col2\" >1.8403</td>\n",
              "      <td id=\"T_f43e2_row15_col3\" class=\"data row15 col3\" >1.3557</td>\n",
              "      <td id=\"T_f43e2_row15_col4\" class=\"data row15 col4\" >0.9635</td>\n",
              "      <td id=\"T_f43e2_row15_col5\" class=\"data row15 col5\" >0.2084</td>\n",
              "      <td id=\"T_f43e2_row15_col6\" class=\"data row15 col6\" >0.2017</td>\n",
              "      <td id=\"T_f43e2_row15_col7\" class=\"data row15 col7\" >0.0690</td>\n",
              "    </tr>\n",
              "    <tr>\n",
              "      <th id=\"T_f43e2_level0_row16\" class=\"row_heading level0 row16\" >omp</th>\n",
              "      <td id=\"T_f43e2_row16_col0\" class=\"data row16 col0\" >Orthogonal Matching Pursuit</td>\n",
              "      <td id=\"T_f43e2_row16_col1\" class=\"data row16 col1\" >1.2384</td>\n",
              "      <td id=\"T_f43e2_row16_col2\" class=\"data row16 col2\" >2.1274</td>\n",
              "      <td id=\"T_f43e2_row16_col3\" class=\"data row16 col3\" >1.4580</td>\n",
              "      <td id=\"T_f43e2_row16_col4\" class=\"data row16 col4\" >0.9577</td>\n",
              "      <td id=\"T_f43e2_row16_col5\" class=\"data row16 col5\" >0.2075</td>\n",
              "      <td id=\"T_f43e2_row16_col6\" class=\"data row16 col6\" >0.2055</td>\n",
              "      <td id=\"T_f43e2_row16_col7\" class=\"data row16 col7\" >0.0620</td>\n",
              "    </tr>\n",
              "    <tr>\n",
              "      <th id=\"T_f43e2_level0_row17\" class=\"row_heading level0 row17\" >par</th>\n",
              "      <td id=\"T_f43e2_row17_col0\" class=\"data row17 col0\" >Passive Aggressive Regressor</td>\n",
              "      <td id=\"T_f43e2_row17_col1\" class=\"data row17 col1\" >1.5476</td>\n",
              "      <td id=\"T_f43e2_row17_col2\" class=\"data row17 col2\" >3.9394</td>\n",
              "      <td id=\"T_f43e2_row17_col3\" class=\"data row17 col3\" >1.9793</td>\n",
              "      <td id=\"T_f43e2_row17_col4\" class=\"data row17 col4\" >0.9211</td>\n",
              "      <td id=\"T_f43e2_row17_col5\" class=\"data row17 col5\" >0.1947</td>\n",
              "      <td id=\"T_f43e2_row17_col6\" class=\"data row17 col6\" >0.1813</td>\n",
              "      <td id=\"T_f43e2_row17_col7\" class=\"data row17 col7\" >0.0760</td>\n",
              "    </tr>\n",
              "    <tr>\n",
              "      <th id=\"T_f43e2_level0_row18\" class=\"row_heading level0 row18\" >dummy</th>\n",
              "      <td id=\"T_f43e2_row18_col0\" class=\"data row18 col0\" >Dummy Regressor</td>\n",
              "      <td id=\"T_f43e2_row18_col1\" class=\"data row18 col1\" >6.0972</td>\n",
              "      <td id=\"T_f43e2_row18_col2\" class=\"data row18 col2\" >50.7133</td>\n",
              "      <td id=\"T_f43e2_row18_col3\" class=\"data row18 col3\" >7.1157</td>\n",
              "      <td id=\"T_f43e2_row18_col4\" class=\"data row18 col4\" >-0.0054</td>\n",
              "      <td id=\"T_f43e2_row18_col5\" class=\"data row18 col5\" >0.6498</td>\n",
              "      <td id=\"T_f43e2_row18_col6\" class=\"data row18 col6\" >1.0955</td>\n",
              "      <td id=\"T_f43e2_row18_col7\" class=\"data row18 col7\" >0.0410</td>\n",
              "    </tr>\n",
              "  </tbody>\n",
              "</table>\n"
            ]
          },
          "metadata": {}
        },
        {
          "output_type": "display_data",
          "data": {
            "text/plain": [
              "Processing:   0%|          | 0/81 [00:00<?, ?it/s]"
            ],
            "application/vnd.jupyter.widget-view+json": {
              "version_major": 2,
              "version_minor": 0,
              "model_id": "2378e8fca86643bf80daed73c201befc"
            }
          },
          "metadata": {
            "application/vnd.jupyter.widget-view+json": {
              "colab": {
                "custom_widget_manager": {
                  "url": "https://ssl.gstatic.com/colaboratory-static/widgets/colab-cdn-widget-manager/2b70e893a8ba7c0f/manager.min.js"
                }
              }
            }
          }
        },
        {
          "output_type": "display_data",
          "data": {
            "text/plain": [
              "<IPython.core.display.HTML object>"
            ],
            "text/html": []
          },
          "metadata": {}
        }
      ]
    },
    {
      "cell_type": "markdown",
      "source": [
        "### Model Tuning\n",
        "Tune hyperparameters for better performance"
      ],
      "metadata": {
        "id": "BPi1Y82-iB3v"
      }
    },
    {
      "cell_type": "code",
      "source": [
        "tuned_model = tune_model(best_model)"
      ],
      "metadata": {
        "colab": {
          "base_uri": "https://localhost:8080/",
          "height": 491,
          "referenced_widgets": [
            "4a52ef6f50ab4822925b62b1e39e131d",
            "34cbe03089bb47b98d77ef062315430b",
            "5597d8112a45449f8f7eef6ac5a77d39",
            "3383705d0df84f74aabdf4b51a56e05d",
            "bf3e3041b8fa400d8e4a97392820c448",
            "f0b1373039e247f889a8cf38a6165b86",
            "03aa8a3c6fa547e791b07dea5b4bedc3",
            "2fd2bb41f025480ea941182db36588f7",
            "5bca960532024d3a97d12bfdc591fb33",
            "b8e671d868554d22ba4089477c28ef9f",
            "0585822184cb466c9a316f47d0295287"
          ]
        },
        "id": "V4s9LXveiGqM",
        "outputId": "29c47021-ca9f-4309-d0d0-ed0260b46407"
      },
      "execution_count": null,
      "outputs": [
        {
          "output_type": "display_data",
          "data": {
            "text/plain": [
              "<IPython.core.display.HTML object>"
            ],
            "text/html": []
          },
          "metadata": {}
        },
        {
          "output_type": "display_data",
          "data": {
            "text/plain": [
              "<pandas.io.formats.style.Styler at 0x7fd2240ab6a0>"
            ],
            "text/html": [
              "<style type=\"text/css\">\n",
              "#T_fd82d_row10_col0, #T_fd82d_row10_col1, #T_fd82d_row10_col2, #T_fd82d_row10_col3, #T_fd82d_row10_col4, #T_fd82d_row10_col5 {\n",
              "  background: yellow;\n",
              "}\n",
              "</style>\n",
              "<table id=\"T_fd82d\" class=\"dataframe\">\n",
              "  <thead>\n",
              "    <tr>\n",
              "      <th class=\"blank level0\" >&nbsp;</th>\n",
              "      <th id=\"T_fd82d_level0_col0\" class=\"col_heading level0 col0\" >MAE</th>\n",
              "      <th id=\"T_fd82d_level0_col1\" class=\"col_heading level0 col1\" >MSE</th>\n",
              "      <th id=\"T_fd82d_level0_col2\" class=\"col_heading level0 col2\" >RMSE</th>\n",
              "      <th id=\"T_fd82d_level0_col3\" class=\"col_heading level0 col3\" >R2</th>\n",
              "      <th id=\"T_fd82d_level0_col4\" class=\"col_heading level0 col4\" >RMSLE</th>\n",
              "      <th id=\"T_fd82d_level0_col5\" class=\"col_heading level0 col5\" >MAPE</th>\n",
              "    </tr>\n",
              "    <tr>\n",
              "      <th class=\"index_name level0\" >Fold</th>\n",
              "      <th class=\"blank col0\" >&nbsp;</th>\n",
              "      <th class=\"blank col1\" >&nbsp;</th>\n",
              "      <th class=\"blank col2\" >&nbsp;</th>\n",
              "      <th class=\"blank col3\" >&nbsp;</th>\n",
              "      <th class=\"blank col4\" >&nbsp;</th>\n",
              "      <th class=\"blank col5\" >&nbsp;</th>\n",
              "    </tr>\n",
              "  </thead>\n",
              "  <tbody>\n",
              "    <tr>\n",
              "      <th id=\"T_fd82d_level0_row0\" class=\"row_heading level0 row0\" >0</th>\n",
              "      <td id=\"T_fd82d_row0_col0\" class=\"data row0 col0\" >0.4327</td>\n",
              "      <td id=\"T_fd82d_row0_col1\" class=\"data row0 col1\" >0.3776</td>\n",
              "      <td id=\"T_fd82d_row0_col2\" class=\"data row0 col2\" >0.6145</td>\n",
              "      <td id=\"T_fd82d_row0_col3\" class=\"data row0 col3\" >0.9927</td>\n",
              "      <td id=\"T_fd82d_row0_col4\" class=\"data row0 col4\" >0.0753</td>\n",
              "      <td id=\"T_fd82d_row0_col5\" class=\"data row0 col5\" >0.0595</td>\n",
              "    </tr>\n",
              "    <tr>\n",
              "      <th id=\"T_fd82d_level0_row1\" class=\"row_heading level0 row1\" >1</th>\n",
              "      <td id=\"T_fd82d_row1_col0\" class=\"data row1 col0\" >0.4111</td>\n",
              "      <td id=\"T_fd82d_row1_col1\" class=\"data row1 col1\" >0.3681</td>\n",
              "      <td id=\"T_fd82d_row1_col2\" class=\"data row1 col2\" >0.6067</td>\n",
              "      <td id=\"T_fd82d_row1_col3\" class=\"data row1 col3\" >0.9927</td>\n",
              "      <td id=\"T_fd82d_row1_col4\" class=\"data row1 col4\" >0.0591</td>\n",
              "      <td id=\"T_fd82d_row1_col5\" class=\"data row1 col5\" >0.0447</td>\n",
              "    </tr>\n",
              "    <tr>\n",
              "      <th id=\"T_fd82d_level0_row2\" class=\"row_heading level0 row2\" >2</th>\n",
              "      <td id=\"T_fd82d_row2_col0\" class=\"data row2 col0\" >0.4224</td>\n",
              "      <td id=\"T_fd82d_row2_col1\" class=\"data row2 col1\" >0.3470</td>\n",
              "      <td id=\"T_fd82d_row2_col2\" class=\"data row2 col2\" >0.5891</td>\n",
              "      <td id=\"T_fd82d_row2_col3\" class=\"data row2 col3\" >0.9932</td>\n",
              "      <td id=\"T_fd82d_row2_col4\" class=\"data row2 col4\" >0.0639</td>\n",
              "      <td id=\"T_fd82d_row2_col5\" class=\"data row2 col5\" >0.0496</td>\n",
              "    </tr>\n",
              "    <tr>\n",
              "      <th id=\"T_fd82d_level0_row3\" class=\"row_heading level0 row3\" >3</th>\n",
              "      <td id=\"T_fd82d_row3_col0\" class=\"data row3 col0\" >0.4280</td>\n",
              "      <td id=\"T_fd82d_row3_col1\" class=\"data row3 col1\" >0.3489</td>\n",
              "      <td id=\"T_fd82d_row3_col2\" class=\"data row3 col2\" >0.5907</td>\n",
              "      <td id=\"T_fd82d_row3_col3\" class=\"data row3 col3\" >0.9942</td>\n",
              "      <td id=\"T_fd82d_row3_col4\" class=\"data row3 col4\" >0.0674</td>\n",
              "      <td id=\"T_fd82d_row3_col5\" class=\"data row3 col5\" >0.0548</td>\n",
              "    </tr>\n",
              "    <tr>\n",
              "      <th id=\"T_fd82d_level0_row4\" class=\"row_heading level0 row4\" >4</th>\n",
              "      <td id=\"T_fd82d_row4_col0\" class=\"data row4 col0\" >0.4355</td>\n",
              "      <td id=\"T_fd82d_row4_col1\" class=\"data row4 col1\" >0.3776</td>\n",
              "      <td id=\"T_fd82d_row4_col2\" class=\"data row4 col2\" >0.6145</td>\n",
              "      <td id=\"T_fd82d_row4_col3\" class=\"data row4 col3\" >0.9919</td>\n",
              "      <td id=\"T_fd82d_row4_col4\" class=\"data row4 col4\" >0.0733</td>\n",
              "      <td id=\"T_fd82d_row4_col5\" class=\"data row4 col5\" >0.0572</td>\n",
              "    </tr>\n",
              "    <tr>\n",
              "      <th id=\"T_fd82d_level0_row5\" class=\"row_heading level0 row5\" >5</th>\n",
              "      <td id=\"T_fd82d_row5_col0\" class=\"data row5 col0\" >0.4204</td>\n",
              "      <td id=\"T_fd82d_row5_col1\" class=\"data row5 col1\" >0.3454</td>\n",
              "      <td id=\"T_fd82d_row5_col2\" class=\"data row5 col2\" >0.5877</td>\n",
              "      <td id=\"T_fd82d_row5_col3\" class=\"data row5 col3\" >0.9934</td>\n",
              "      <td id=\"T_fd82d_row5_col4\" class=\"data row5 col4\" >0.0678</td>\n",
              "      <td id=\"T_fd82d_row5_col5\" class=\"data row5 col5\" >0.0531</td>\n",
              "    </tr>\n",
              "    <tr>\n",
              "      <th id=\"T_fd82d_level0_row6\" class=\"row_heading level0 row6\" >6</th>\n",
              "      <td id=\"T_fd82d_row6_col0\" class=\"data row6 col0\" >0.4337</td>\n",
              "      <td id=\"T_fd82d_row6_col1\" class=\"data row6 col1\" >0.3908</td>\n",
              "      <td id=\"T_fd82d_row6_col2\" class=\"data row6 col2\" >0.6251</td>\n",
              "      <td id=\"T_fd82d_row6_col3\" class=\"data row6 col3\" >0.9922</td>\n",
              "      <td id=\"T_fd82d_row6_col4\" class=\"data row6 col4\" >0.0683</td>\n",
              "      <td id=\"T_fd82d_row6_col5\" class=\"data row6 col5\" >0.0534</td>\n",
              "    </tr>\n",
              "    <tr>\n",
              "      <th id=\"T_fd82d_level0_row7\" class=\"row_heading level0 row7\" >7</th>\n",
              "      <td id=\"T_fd82d_row7_col0\" class=\"data row7 col0\" >0.3949</td>\n",
              "      <td id=\"T_fd82d_row7_col1\" class=\"data row7 col1\" >0.3113</td>\n",
              "      <td id=\"T_fd82d_row7_col2\" class=\"data row7 col2\" >0.5579</td>\n",
              "      <td id=\"T_fd82d_row7_col3\" class=\"data row7 col3\" >0.9939</td>\n",
              "      <td id=\"T_fd82d_row7_col4\" class=\"data row7 col4\" >0.0631</td>\n",
              "      <td id=\"T_fd82d_row7_col5\" class=\"data row7 col5\" >0.0488</td>\n",
              "    </tr>\n",
              "    <tr>\n",
              "      <th id=\"T_fd82d_level0_row8\" class=\"row_heading level0 row8\" >8</th>\n",
              "      <td id=\"T_fd82d_row8_col0\" class=\"data row8 col0\" >0.4070</td>\n",
              "      <td id=\"T_fd82d_row8_col1\" class=\"data row8 col1\" >0.3369</td>\n",
              "      <td id=\"T_fd82d_row8_col2\" class=\"data row8 col2\" >0.5804</td>\n",
              "      <td id=\"T_fd82d_row8_col3\" class=\"data row8 col3\" >0.9926</td>\n",
              "      <td id=\"T_fd82d_row8_col4\" class=\"data row8 col4\" >0.0571</td>\n",
              "      <td id=\"T_fd82d_row8_col5\" class=\"data row8 col5\" >0.0425</td>\n",
              "    </tr>\n",
              "    <tr>\n",
              "      <th id=\"T_fd82d_level0_row9\" class=\"row_heading level0 row9\" >9</th>\n",
              "      <td id=\"T_fd82d_row9_col0\" class=\"data row9 col0\" >0.4401</td>\n",
              "      <td id=\"T_fd82d_row9_col1\" class=\"data row9 col1\" >0.4037</td>\n",
              "      <td id=\"T_fd82d_row9_col2\" class=\"data row9 col2\" >0.6354</td>\n",
              "      <td id=\"T_fd82d_row9_col3\" class=\"data row9 col3\" >0.9911</td>\n",
              "      <td id=\"T_fd82d_row9_col4\" class=\"data row9 col4\" >0.0593</td>\n",
              "      <td id=\"T_fd82d_row9_col5\" class=\"data row9 col5\" >0.0444</td>\n",
              "    </tr>\n",
              "    <tr>\n",
              "      <th id=\"T_fd82d_level0_row10\" class=\"row_heading level0 row10\" >Mean</th>\n",
              "      <td id=\"T_fd82d_row10_col0\" class=\"data row10 col0\" >0.4226</td>\n",
              "      <td id=\"T_fd82d_row10_col1\" class=\"data row10 col1\" >0.3607</td>\n",
              "      <td id=\"T_fd82d_row10_col2\" class=\"data row10 col2\" >0.6002</td>\n",
              "      <td id=\"T_fd82d_row10_col3\" class=\"data row10 col3\" >0.9928</td>\n",
              "      <td id=\"T_fd82d_row10_col4\" class=\"data row10 col4\" >0.0655</td>\n",
              "      <td id=\"T_fd82d_row10_col5\" class=\"data row10 col5\" >0.0508</td>\n",
              "    </tr>\n",
              "    <tr>\n",
              "      <th id=\"T_fd82d_level0_row11\" class=\"row_heading level0 row11\" >Std</th>\n",
              "      <td id=\"T_fd82d_row11_col0\" class=\"data row11 col0\" >0.0137</td>\n",
              "      <td id=\"T_fd82d_row11_col1\" class=\"data row11 col1\" >0.0264</td>\n",
              "      <td id=\"T_fd82d_row11_col2\" class=\"data row11 col2\" >0.0220</td>\n",
              "      <td id=\"T_fd82d_row11_col3\" class=\"data row11 col3\" >0.0009</td>\n",
              "      <td id=\"T_fd82d_row11_col4\" class=\"data row11 col4\" >0.0058</td>\n",
              "      <td id=\"T_fd82d_row11_col5\" class=\"data row11 col5\" >0.0054</td>\n",
              "    </tr>\n",
              "  </tbody>\n",
              "</table>\n"
            ]
          },
          "metadata": {}
        },
        {
          "output_type": "display_data",
          "data": {
            "text/plain": [
              "Processing:   0%|          | 0/7 [00:00<?, ?it/s]"
            ],
            "application/vnd.jupyter.widget-view+json": {
              "version_major": 2,
              "version_minor": 0,
              "model_id": "4a52ef6f50ab4822925b62b1e39e131d"
            }
          },
          "metadata": {
            "application/vnd.jupyter.widget-view+json": {
              "colab": {
                "custom_widget_manager": {
                  "url": "https://ssl.gstatic.com/colaboratory-static/widgets/colab-cdn-widget-manager/2b70e893a8ba7c0f/manager.min.js"
                }
              }
            }
          }
        },
        {
          "output_type": "stream",
          "name": "stdout",
          "text": [
            "Fitting 10 folds for each of 10 candidates, totalling 100 fits\n"
          ]
        },
        {
          "output_type": "display_data",
          "data": {
            "text/plain": [
              "<IPython.core.display.HTML object>"
            ],
            "text/html": []
          },
          "metadata": {}
        },
        {
          "output_type": "stream",
          "name": "stdout",
          "text": [
            "Original model was better than the tuned model, hence it will be returned. NOTE: The display metrics are for the tuned model (not the original one).\n"
          ]
        }
      ]
    },
    {
      "cell_type": "code",
      "source": [
        "final_model = finalize_model(tuned_model)"
      ],
      "metadata": {
        "id": "ycGXxkDFii_Y"
      },
      "execution_count": null,
      "outputs": []
    },
    {
      "cell_type": "markdown",
      "source": [
        "### Make Predictions"
      ],
      "metadata": {
        "id": "auo3YosSisA-"
      }
    },
    {
      "cell_type": "code",
      "source": [
        "predictions = predict_model(final_model, data_test)"
      ],
      "metadata": {
        "colab": {
          "base_uri": "https://localhost:8080/",
          "height": 81
        },
        "id": "TzmPQTQkipDC",
        "outputId": "30ffa44d-ee3f-4b4e-ba62-e3032f93f9cf"
      },
      "execution_count": null,
      "outputs": [
        {
          "output_type": "display_data",
          "data": {
            "text/plain": [
              "<pandas.io.formats.style.Styler at 0x7fd224542b90>"
            ],
            "text/html": [
              "<style type=\"text/css\">\n",
              "</style>\n",
              "<table id=\"T_7e305\" class=\"dataframe\">\n",
              "  <thead>\n",
              "    <tr>\n",
              "      <th class=\"blank level0\" >&nbsp;</th>\n",
              "      <th id=\"T_7e305_level0_col0\" class=\"col_heading level0 col0\" >Model</th>\n",
              "      <th id=\"T_7e305_level0_col1\" class=\"col_heading level0 col1\" >MAE</th>\n",
              "      <th id=\"T_7e305_level0_col2\" class=\"col_heading level0 col2\" >MSE</th>\n",
              "      <th id=\"T_7e305_level0_col3\" class=\"col_heading level0 col3\" >RMSE</th>\n",
              "      <th id=\"T_7e305_level0_col4\" class=\"col_heading level0 col4\" >R2</th>\n",
              "      <th id=\"T_7e305_level0_col5\" class=\"col_heading level0 col5\" >RMSLE</th>\n",
              "      <th id=\"T_7e305_level0_col6\" class=\"col_heading level0 col6\" >MAPE</th>\n",
              "    </tr>\n",
              "  </thead>\n",
              "  <tbody>\n",
              "    <tr>\n",
              "      <th id=\"T_7e305_level0_row0\" class=\"row_heading level0 row0\" >0</th>\n",
              "      <td id=\"T_7e305_row0_col0\" class=\"data row0 col0\" >Extra Trees Regressor</td>\n",
              "      <td id=\"T_7e305_row0_col1\" class=\"data row0 col1\" >0.0087</td>\n",
              "      <td id=\"T_7e305_row0_col2\" class=\"data row0 col2\" >0.0011</td>\n",
              "      <td id=\"T_7e305_row0_col3\" class=\"data row0 col3\" >0.0335</td>\n",
              "      <td id=\"T_7e305_row0_col4\" class=\"data row0 col4\" >1.0000</td>\n",
              "      <td id=\"T_7e305_row0_col5\" class=\"data row0 col5\" >0.0031</td>\n",
              "      <td id=\"T_7e305_row0_col6\" class=\"data row0 col6\" >0.0007</td>\n",
              "    </tr>\n",
              "  </tbody>\n",
              "</table>\n"
            ]
          },
          "metadata": {}
        }
      ]
    },
    {
      "cell_type": "code",
      "source": [
        "predictions.head()"
      ],
      "metadata": {
        "colab": {
          "base_uri": "https://localhost:8080/",
          "height": 206
        },
        "id": "33aMlms7vGUv",
        "outputId": "8a461779-7af4-4853-be29-34c42e36ad98"
      },
      "execution_count": null,
      "outputs": [
        {
          "output_type": "execute_result",
          "data": {
            "text/plain": [
              "   Gender  Age  Dur        PPV  prediction_label\n",
              "2    Male    0   22  16.267189         16.263502\n",
              "3    Male    0   23  16.777449         16.775469\n",
              "8    Male    0   28  19.106190         19.103500\n",
              "14   Male    0   34  21.466389         21.462803\n",
              "16   Male    0   36  22.160866         22.156904"
            ],
            "text/html": [
              "\n",
              "  <div id=\"df-2cc21e4b-0f4c-4f69-a24f-d08a21d4cc12\" class=\"colab-df-container\">\n",
              "    <div>\n",
              "<style scoped>\n",
              "    .dataframe tbody tr th:only-of-type {\n",
              "        vertical-align: middle;\n",
              "    }\n",
              "\n",
              "    .dataframe tbody tr th {\n",
              "        vertical-align: top;\n",
              "    }\n",
              "\n",
              "    .dataframe thead th {\n",
              "        text-align: right;\n",
              "    }\n",
              "</style>\n",
              "<table border=\"1\" class=\"dataframe\">\n",
              "  <thead>\n",
              "    <tr style=\"text-align: right;\">\n",
              "      <th></th>\n",
              "      <th>Gender</th>\n",
              "      <th>Age</th>\n",
              "      <th>Dur</th>\n",
              "      <th>PPV</th>\n",
              "      <th>prediction_label</th>\n",
              "    </tr>\n",
              "  </thead>\n",
              "  <tbody>\n",
              "    <tr>\n",
              "      <th>2</th>\n",
              "      <td>Male</td>\n",
              "      <td>0</td>\n",
              "      <td>22</td>\n",
              "      <td>16.267189</td>\n",
              "      <td>16.263502</td>\n",
              "    </tr>\n",
              "    <tr>\n",
              "      <th>3</th>\n",
              "      <td>Male</td>\n",
              "      <td>0</td>\n",
              "      <td>23</td>\n",
              "      <td>16.777449</td>\n",
              "      <td>16.775469</td>\n",
              "    </tr>\n",
              "    <tr>\n",
              "      <th>8</th>\n",
              "      <td>Male</td>\n",
              "      <td>0</td>\n",
              "      <td>28</td>\n",
              "      <td>19.106190</td>\n",
              "      <td>19.103500</td>\n",
              "    </tr>\n",
              "    <tr>\n",
              "      <th>14</th>\n",
              "      <td>Male</td>\n",
              "      <td>0</td>\n",
              "      <td>34</td>\n",
              "      <td>21.466389</td>\n",
              "      <td>21.462803</td>\n",
              "    </tr>\n",
              "    <tr>\n",
              "      <th>16</th>\n",
              "      <td>Male</td>\n",
              "      <td>0</td>\n",
              "      <td>36</td>\n",
              "      <td>22.160866</td>\n",
              "      <td>22.156904</td>\n",
              "    </tr>\n",
              "  </tbody>\n",
              "</table>\n",
              "</div>\n",
              "    <div class=\"colab-df-buttons\">\n",
              "\n",
              "  <div class=\"colab-df-container\">\n",
              "    <button class=\"colab-df-convert\" onclick=\"convertToInteractive('df-2cc21e4b-0f4c-4f69-a24f-d08a21d4cc12')\"\n",
              "            title=\"Convert this dataframe to an interactive table.\"\n",
              "            style=\"display:none;\">\n",
              "\n",
              "  <svg xmlns=\"http://www.w3.org/2000/svg\" height=\"24px\" viewBox=\"0 -960 960 960\">\n",
              "    <path d=\"M120-120v-720h720v720H120Zm60-500h600v-160H180v160Zm220 220h160v-160H400v160Zm0 220h160v-160H400v160ZM180-400h160v-160H180v160Zm440 0h160v-160H620v160ZM180-180h160v-160H180v160Zm440 0h160v-160H620v160Z\"/>\n",
              "  </svg>\n",
              "    </button>\n",
              "\n",
              "  <style>\n",
              "    .colab-df-container {\n",
              "      display:flex;\n",
              "      gap: 12px;\n",
              "    }\n",
              "\n",
              "    .colab-df-convert {\n",
              "      background-color: #E8F0FE;\n",
              "      border: none;\n",
              "      border-radius: 50%;\n",
              "      cursor: pointer;\n",
              "      display: none;\n",
              "      fill: #1967D2;\n",
              "      height: 32px;\n",
              "      padding: 0 0 0 0;\n",
              "      width: 32px;\n",
              "    }\n",
              "\n",
              "    .colab-df-convert:hover {\n",
              "      background-color: #E2EBFA;\n",
              "      box-shadow: 0px 1px 2px rgba(60, 64, 67, 0.3), 0px 1px 3px 1px rgba(60, 64, 67, 0.15);\n",
              "      fill: #174EA6;\n",
              "    }\n",
              "\n",
              "    .colab-df-buttons div {\n",
              "      margin-bottom: 4px;\n",
              "    }\n",
              "\n",
              "    [theme=dark] .colab-df-convert {\n",
              "      background-color: #3B4455;\n",
              "      fill: #D2E3FC;\n",
              "    }\n",
              "\n",
              "    [theme=dark] .colab-df-convert:hover {\n",
              "      background-color: #434B5C;\n",
              "      box-shadow: 0px 1px 3px 1px rgba(0, 0, 0, 0.15);\n",
              "      filter: drop-shadow(0px 1px 2px rgba(0, 0, 0, 0.3));\n",
              "      fill: #FFFFFF;\n",
              "    }\n",
              "  </style>\n",
              "\n",
              "    <script>\n",
              "      const buttonEl =\n",
              "        document.querySelector('#df-2cc21e4b-0f4c-4f69-a24f-d08a21d4cc12 button.colab-df-convert');\n",
              "      buttonEl.style.display =\n",
              "        google.colab.kernel.accessAllowed ? 'block' : 'none';\n",
              "\n",
              "      async function convertToInteractive(key) {\n",
              "        const element = document.querySelector('#df-2cc21e4b-0f4c-4f69-a24f-d08a21d4cc12');\n",
              "        const dataTable =\n",
              "          await google.colab.kernel.invokeFunction('convertToInteractive',\n",
              "                                                    [key], {});\n",
              "        if (!dataTable) return;\n",
              "\n",
              "        const docLinkHtml = 'Like what you see? Visit the ' +\n",
              "          '<a target=\"_blank\" href=https://colab.research.google.com/notebooks/data_table.ipynb>data table notebook</a>'\n",
              "          + ' to learn more about interactive tables.';\n",
              "        element.innerHTML = '';\n",
              "        dataTable['output_type'] = 'display_data';\n",
              "        await google.colab.output.renderOutput(dataTable, element);\n",
              "        const docLink = document.createElement('div');\n",
              "        docLink.innerHTML = docLinkHtml;\n",
              "        element.appendChild(docLink);\n",
              "      }\n",
              "    </script>\n",
              "  </div>\n",
              "\n",
              "\n",
              "<div id=\"df-666be5ab-4cc4-4d5d-b157-dd7d17337989\">\n",
              "  <button class=\"colab-df-quickchart\" onclick=\"quickchart('df-666be5ab-4cc4-4d5d-b157-dd7d17337989')\"\n",
              "            title=\"Suggest charts\"\n",
              "            style=\"display:none;\">\n",
              "\n",
              "<svg xmlns=\"http://www.w3.org/2000/svg\" height=\"24px\"viewBox=\"0 0 24 24\"\n",
              "     width=\"24px\">\n",
              "    <g>\n",
              "        <path d=\"M19 3H5c-1.1 0-2 .9-2 2v14c0 1.1.9 2 2 2h14c1.1 0 2-.9 2-2V5c0-1.1-.9-2-2-2zM9 17H7v-7h2v7zm4 0h-2V7h2v10zm4 0h-2v-4h2v4z\"/>\n",
              "    </g>\n",
              "</svg>\n",
              "  </button>\n",
              "\n",
              "<style>\n",
              "  .colab-df-quickchart {\n",
              "      --bg-color: #E8F0FE;\n",
              "      --fill-color: #1967D2;\n",
              "      --hover-bg-color: #E2EBFA;\n",
              "      --hover-fill-color: #174EA6;\n",
              "      --disabled-fill-color: #AAA;\n",
              "      --disabled-bg-color: #DDD;\n",
              "  }\n",
              "\n",
              "  [theme=dark] .colab-df-quickchart {\n",
              "      --bg-color: #3B4455;\n",
              "      --fill-color: #D2E3FC;\n",
              "      --hover-bg-color: #434B5C;\n",
              "      --hover-fill-color: #FFFFFF;\n",
              "      --disabled-bg-color: #3B4455;\n",
              "      --disabled-fill-color: #666;\n",
              "  }\n",
              "\n",
              "  .colab-df-quickchart {\n",
              "    background-color: var(--bg-color);\n",
              "    border: none;\n",
              "    border-radius: 50%;\n",
              "    cursor: pointer;\n",
              "    display: none;\n",
              "    fill: var(--fill-color);\n",
              "    height: 32px;\n",
              "    padding: 0;\n",
              "    width: 32px;\n",
              "  }\n",
              "\n",
              "  .colab-df-quickchart:hover {\n",
              "    background-color: var(--hover-bg-color);\n",
              "    box-shadow: 0 1px 2px rgba(60, 64, 67, 0.3), 0 1px 3px 1px rgba(60, 64, 67, 0.15);\n",
              "    fill: var(--button-hover-fill-color);\n",
              "  }\n",
              "\n",
              "  .colab-df-quickchart-complete:disabled,\n",
              "  .colab-df-quickchart-complete:disabled:hover {\n",
              "    background-color: var(--disabled-bg-color);\n",
              "    fill: var(--disabled-fill-color);\n",
              "    box-shadow: none;\n",
              "  }\n",
              "\n",
              "  .colab-df-spinner {\n",
              "    border: 2px solid var(--fill-color);\n",
              "    border-color: transparent;\n",
              "    border-bottom-color: var(--fill-color);\n",
              "    animation:\n",
              "      spin 1s steps(1) infinite;\n",
              "  }\n",
              "\n",
              "  @keyframes spin {\n",
              "    0% {\n",
              "      border-color: transparent;\n",
              "      border-bottom-color: var(--fill-color);\n",
              "      border-left-color: var(--fill-color);\n",
              "    }\n",
              "    20% {\n",
              "      border-color: transparent;\n",
              "      border-left-color: var(--fill-color);\n",
              "      border-top-color: var(--fill-color);\n",
              "    }\n",
              "    30% {\n",
              "      border-color: transparent;\n",
              "      border-left-color: var(--fill-color);\n",
              "      border-top-color: var(--fill-color);\n",
              "      border-right-color: var(--fill-color);\n",
              "    }\n",
              "    40% {\n",
              "      border-color: transparent;\n",
              "      border-right-color: var(--fill-color);\n",
              "      border-top-color: var(--fill-color);\n",
              "    }\n",
              "    60% {\n",
              "      border-color: transparent;\n",
              "      border-right-color: var(--fill-color);\n",
              "    }\n",
              "    80% {\n",
              "      border-color: transparent;\n",
              "      border-right-color: var(--fill-color);\n",
              "      border-bottom-color: var(--fill-color);\n",
              "    }\n",
              "    90% {\n",
              "      border-color: transparent;\n",
              "      border-bottom-color: var(--fill-color);\n",
              "    }\n",
              "  }\n",
              "</style>\n",
              "\n",
              "  <script>\n",
              "    async function quickchart(key) {\n",
              "      const quickchartButtonEl =\n",
              "        document.querySelector('#' + key + ' button');\n",
              "      quickchartButtonEl.disabled = true;  // To prevent multiple clicks.\n",
              "      quickchartButtonEl.classList.add('colab-df-spinner');\n",
              "      try {\n",
              "        const charts = await google.colab.kernel.invokeFunction(\n",
              "            'suggestCharts', [key], {});\n",
              "      } catch (error) {\n",
              "        console.error('Error during call to suggestCharts:', error);\n",
              "      }\n",
              "      quickchartButtonEl.classList.remove('colab-df-spinner');\n",
              "      quickchartButtonEl.classList.add('colab-df-quickchart-complete');\n",
              "    }\n",
              "    (() => {\n",
              "      let quickchartButtonEl =\n",
              "        document.querySelector('#df-666be5ab-4cc4-4d5d-b157-dd7d17337989 button');\n",
              "      quickchartButtonEl.style.display =\n",
              "        google.colab.kernel.accessAllowed ? 'block' : 'none';\n",
              "    })();\n",
              "  </script>\n",
              "</div>\n",
              "\n",
              "    </div>\n",
              "  </div>\n"
            ],
            "application/vnd.google.colaboratory.intrinsic+json": {
              "type": "dataframe",
              "variable_name": "predictions",
              "summary": "{\n  \"name\": \"predictions\",\n  \"rows\": 1054,\n  \"fields\": [\n    {\n      \"column\": \"Gender\",\n      \"properties\": {\n        \"dtype\": \"category\",\n        \"num_unique_values\": 2,\n        \"samples\": [\n          \"Female\",\n          \"Male\"\n        ],\n        \"semantic_type\": \"\",\n        \"description\": \"\"\n      }\n    },\n    {\n      \"column\": \"Age\",\n      \"properties\": {\n        \"dtype\": \"int8\",\n        \"num_unique_values\": 80,\n        \"samples\": [\n          30,\n          0\n        ],\n        \"semantic_type\": \"\",\n        \"description\": \"\"\n      }\n    },\n    {\n      \"column\": \"Dur\",\n      \"properties\": {\n        \"dtype\": \"int8\",\n        \"num_unique_values\": 50,\n        \"samples\": [\n          48,\n          7\n        ],\n        \"semantic_type\": \"\",\n        \"description\": \"\"\n      }\n    },\n    {\n      \"column\": \"PPV\",\n      \"properties\": {\n        \"dtype\": \"float32\",\n        \"num_unique_values\": 937,\n        \"samples\": [\n          7.933311462402344,\n          24.431350708007812\n        ],\n        \"semantic_type\": \"\",\n        \"description\": \"\"\n      }\n    },\n    {\n      \"column\": \"prediction_label\",\n      \"properties\": {\n        \"dtype\": \"number\",\n        \"std\": 6.994468018837218,\n        \"min\": 1.0,\n        \"max\": 25.937743186950684,\n        \"num_unique_values\": 1024,\n        \"samples\": [\n          12.222190494537353,\n          5.529533839225769\n        ],\n        \"semantic_type\": \"\",\n        \"description\": \"\"\n      }\n    }\n  ]\n}"
            }
          },
          "metadata": {},
          "execution_count": 47
        }
      ]
    },
    {
      "cell_type": "code",
      "source": [
        "print(final_model)\n"
      ],
      "metadata": {
        "colab": {
          "base_uri": "https://localhost:8080/"
        },
        "collapsed": true,
        "id": "crYzMt-BjKQZ",
        "outputId": "55f14616-efa3-43c1-bd63-931d40923610"
      },
      "execution_count": null,
      "outputs": [
        {
          "output_type": "stream",
          "name": "stdout",
          "text": [
            "Pipeline(memory=Memory(location=None),\n",
            "         steps=[('numerical_imputer',\n",
            "                 TransformerWrapper(include=['Age', 'Dur'],\n",
            "                                    transformer=SimpleImputer())),\n",
            "                ('categorical_imputer',\n",
            "                 TransformerWrapper(include=['Gender'],\n",
            "                                    transformer=SimpleImputer(strategy='most_frequent'))),\n",
            "                ('ordinal_encoding',\n",
            "                 TransformerWrapper(include=['Gender'],\n",
            "                                    transformer=OrdinalEncoder(cols=['Gender'],\n",
            "                                                               handle_missing='return_nan',\n",
            "                                                               mapping=[{'col': 'Gender',\n",
            "                                                                         'data_type': dtype('O'),\n",
            "                                                                         'mapping': Female    0\n",
            "Male      1\n",
            "NaN      -1\n",
            "dtype: int64}]))),\n",
            "                ('actual_estimator',\n",
            "                 ExtraTreesRegressor(n_jobs=-1, random_state=123))])\n"
          ]
        }
      ]
    },
    {
      "cell_type": "markdown",
      "source": [
        "\n",
        "> ### ⚡Actual PPV vs. Predicted PPV\n",
        "\n"
      ],
      "metadata": {
        "id": "Ddf1EPfwjsXw"
      }
    },
    {
      "cell_type": "code",
      "source": [
        "print(predictions[['PPV', 'prediction_label']])"
      ],
      "metadata": {
        "colab": {
          "base_uri": "https://localhost:8080/"
        },
        "id": "6yNChz_TjS7F",
        "outputId": "36930797-169c-4f8b-878c-960dbdce9e93"
      },
      "execution_count": null,
      "outputs": [
        {
          "output_type": "stream",
          "name": "stdout",
          "text": [
            "            PPV  prediction_label\n",
            "2     16.267189         16.263502\n",
            "3     16.777449         16.775469\n",
            "8     19.106190         19.103500\n",
            "14    21.466389         21.462803\n",
            "16    22.160866         22.156904\n",
            "...         ...               ...\n",
            "5259   4.343193          4.376004\n",
            "5260   1.000000          1.000000\n",
            "5264   1.000000          1.000000\n",
            "5265   1.925421          1.924511\n",
            "5267   1.000000          1.000000\n",
            "\n",
            "[1054 rows x 2 columns]\n"
          ]
        }
      ]
    },
    {
      "cell_type": "markdown",
      "source": [
        "### Calculate Metrics"
      ],
      "metadata": {
        "id": "pp7CJYrykf1U"
      }
    },
    {
      "cell_type": "markdown",
      "source": [
        "We can implement MAE like this:\n",
        "```\n",
        "def calculate_mae(y_true, y_pred):\n",
        "    y_true = np.array(y_true)\n",
        "    y_pred = np.array(y_pred)\n",
        "    return np.mean(np.abs(y_true - y_pred))\n",
        "\n",
        "```\n",
        "how ever we will use `sklearn.metrics.mean_absolute_error`doe to it efficiency and conciseness."
      ],
      "metadata": {
        "id": "0yZmMEUEl9J2"
      }
    },
    {
      "cell_type": "code",
      "source": [
        "from sklearn.metrics import mean_absolute_error\n",
        "import numpy as np\n",
        "\n",
        "def calculate_mse(y_true, y_pred):\n",
        "    \"\"\"Calculates Mean Squared Error.\"\"\"\n",
        "    y_true = np.array(y_true)\n",
        "    y_pred = np.array(y_pred)\n",
        "    return np.mean((y_true - y_pred)**2)\n",
        "\n",
        "def evaluate_model(model, X_test, y_test):\n",
        "    \"\"\"Evaluates the model and returns MSE and MAE.\"\"\"\n",
        "    y_pred = model.predict(X_test)\n",
        "    mse = calculate_mse(y_test, y_pred)\n",
        "    mae = mean_absolute_error(y_test, y_pred)\n",
        "    return mse, mae\n",
        "\n",
        "x_test = data_test.drop('PPV', axis=1)\n",
        "y_test = data_test['PPV']\n",
        "mse, mae = evaluate_model(final_model, x_test, y_test)\n",
        "\n",
        "print(f\"Mean Squared Error: {mse}\")\n",
        "print(f\"Mean Absolute Error: {mae}\")"
      ],
      "metadata": {
        "colab": {
          "base_uri": "https://localhost:8080/"
        },
        "id": "YraPYFy3kfFM",
        "outputId": "ffd21b2d-c022-45ec-cfaa-367bf7c7faf9"
      },
      "execution_count": null,
      "outputs": [
        {
          "output_type": "stream",
          "name": "stdout",
          "text": [
            "Mean Squared Error: 0.0011243790515018416\n",
            "Mean Absolute Error: 0.008743152972512633\n"
          ]
        }
      ]
    },
    {
      "cell_type": "code",
      "source": [
        "plot_model(final_model)"
      ],
      "metadata": {
        "colab": {
          "base_uri": "https://localhost:8080/",
          "height": 524
        },
        "id": "gQMnfnI8wjPz",
        "outputId": "a3a1681f-7d26-497b-80e8-68a8ea7b84d7"
      },
      "execution_count": null,
      "outputs": [
        {
          "output_type": "display_data",
          "data": {
            "text/plain": [
              "<IPython.core.display.HTML object>"
            ],
            "text/html": []
          },
          "metadata": {}
        },
        {
          "output_type": "display_data",
          "data": {
            "text/plain": [
              "<Figure size 800x550 with 2 Axes>"
            ],
            "image/png": "[encoded data removed]"
          },
          "metadata": {}
        }
      ]
    },
    {
      "cell_type": "code",
      "source": [
        "plot_model(final_model, plot = 'error')"
      ],
      "metadata": {
        "colab": {
          "base_uri": "https://localhost:8080/",
          "height": 526
        },
        "id": "NIOoV9zdtCyI",
        "outputId": "c729663c-51f9-4c53-f89c-241ee82310f3"
      },
      "execution_count": null,
      "outputs": [
        {
          "output_type": "display_data",
          "data": {
            "text/plain": [
              "<IPython.core.display.HTML object>"
            ],
            "text/html": []
          },
          "metadata": {}
        },
        {
          "output_type": "display_data",
          "data": {
            "text/plain": [
              "<Figure size 800x550 with 1 Axes>"
            ],
            "image/png": "[encoded data removed]"
          },
          "metadata": {}
        }
      ]
    },
    {
      "cell_type": "code",
      "source": [
        "plot_model(final_model, plot = 'feature')"
      ],
      "metadata": {
        "colab": {
          "base_uri": "https://localhost:8080/",
          "height": 485
        },
        "id": "2_I5S9imtOpT",
        "outputId": "4673329a-caf0-442b-9725-9f646f08984c"
      },
      "execution_count": null,
      "outputs": [
        {
          "output_type": "display_data",
          "data": {
            "text/plain": [
              "<IPython.core.display.HTML object>"
            ],
            "text/html": []
          },
          "metadata": {}
        },
        {
          "output_type": "display_data",
          "data": {
            "text/plain": [
              "<Figure size 800x500 with 1 Axes>"
            ],
            "image/png": "[encoded data removed]"
          },
          "metadata": {}
        }
      ]
    },
    {
      "cell_type": "markdown",
      "source": [
        "\n",
        "\n",
        "> ### The polt show that Preduction of `PPV` is based on the `Dur` as a first features\n",
        "\n"
      ],
      "metadata": {
        "id": "a0aMBBNhtmCk"
      }
    },
    {
      "cell_type": "code",
      "source": [
        "save_model(final_model, 'final_ Regreesion_model')"
      ],
      "metadata": {
        "colab": {
          "base_uri": "https://localhost:8080/"
        },
        "collapsed": true,
        "id": "WYrOCtXxvQmF",
        "outputId": "c8cd378c-83c0-48ca-a8bd-3e44d9562302"
      },
      "execution_count": null,
      "outputs": [
        {
          "output_type": "stream",
          "name": "stdout",
          "text": [
            "Transformation Pipeline and Model Successfully Saved\n"
          ]
        },
        {
          "output_type": "execute_result",
          "data": {
            "text/plain": [
              "(Pipeline(memory=Memory(location=None),\n",
              "          steps=[('numerical_imputer',\n",
              "                  TransformerWrapper(include=['Age', 'Dur'],\n",
              "                                     transformer=SimpleImputer())),\n",
              "                 ('categorical_imputer',\n",
              "                  TransformerWrapper(include=['Gender'],\n",
              "                                     transformer=SimpleImputer(strategy='most_frequent'))),\n",
              "                 ('ordinal_encoding',\n",
              "                  TransformerWrapper(include=['Gender'],\n",
              "                                     transformer=OrdinalEncoder(cols=['Gender'],\n",
              "                                                                handle_missing='return_nan',\n",
              "                                                                mapping=[{'col': 'Gender',\n",
              "                                                                          'data_type': dtype('O'),\n",
              "                                                                          'mapping': Female    0\n",
              " Male      1\n",
              " NaN      -1\n",
              " dtype: int64}]))),\n",
              "                 ('actual_estimator',\n",
              "                  ExtraTreesRegressor(n_jobs=-1, random_state=123))]),\n",
              " 'final_ Regreesion_model.pkl')"
            ]
          },
          "metadata": {},
          "execution_count": 50
        }
      ]
    },
    {
      "cell_type": "markdown",
      "source": [
        "> By using `load_model('final_ Regreesion_model')` function we load the model"
      ],
      "metadata": {
        "id": "EzLZCOM1wFRm"
      }
    },
    {
      "cell_type": "markdown",
      "source": [
        "# 🔻Conclusion\n",
        "> while pycart provides a basic implementation, scikit-learn's  is vastly superior in terms of features, performance, and integration with the broader machine learning ecosystem.\n",
        "For any real-world regression problem, scikit-learn is the clear choice.\n",
        "\n",
        "\n"
      ],
      "metadata": {
        "id": "C7xzC0_yorT3"
      }
    }
  ]
}